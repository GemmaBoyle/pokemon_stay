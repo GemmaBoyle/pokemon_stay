{
 "cells": [
  {
   "cell_type": "markdown",
   "metadata": {},
   "source": [
    "### Building \"Pokemon Stay\"\n",
    "\n",
    "---\n",
    "You are an analyst at a \"scrappy\" online gaming company that specializes in remakes of last year's fads.\n",
    "\n",
    "Your boss, who runs the product development team, is convinced that Pokemon Go's fatal flaw was that you had to actually move around outside. She has design mock-ups for a new game called Pokemon Stay: in this version players still need to move, but just from website to website. Pokemon gyms are now popular online destinations, and catching Pokemon in the \"wild\" simply requires browsing the internet for hours in the comfort of your home.\n",
    "\n",
    "She wants you to program a prototype version of the game and analyze the planned content to help the team calibrate the design."
   ]
  },
  {
   "cell_type": "markdown",
   "metadata": {
    "toc": true
   },
   "source": [
    "<h1>Table of Contents<span class=\"tocSkip\"></span></h1>\n",
    "<div class=\"toc\"><ul class=\"toc-item\"><li><ul class=\"toc-item\"><li><span><a href=\"#Building-&quot;Pokemon-Stay&quot;\" data-toc-modified-id=\"Building-&quot;Pokemon-Stay&quot;-0.1\">Building \"Pokemon Stay\"</a></span><ul class=\"toc-item\"><li><span><a href=\"#Package-imports\" data-toc-modified-id=\"Package-imports-0.1.1\">Package imports</a></span></li></ul></li></ul></li><li><span><a href=\"#1.-Defining-a-player\" data-toc-modified-id=\"1.-Defining-a-player-1\">1. Defining a player</a></span></li><li><span><a href=\"#2.-Defining-&quot;gym&quot;-locations\" data-toc-modified-id=\"2.-Defining-&quot;gym&quot;-locations-2\">2. Defining \"gym\" locations</a></span></li><li><span><a href=\"#3.-Create-a-pokedex\" data-toc-modified-id=\"3.-Create-a-pokedex-3\">3. Create a pokedex</a></span></li><li><span><a href=\"#4.-Create-a-data-structure-for-players\" data-toc-modified-id=\"4.-Create-a-data-structure-for-players-4\">4. Create a data structure for players</a></span><ul class=\"toc-item\"><li><span><a href=\"#4.1\" data-toc-modified-id=\"4.1-4.1\">4.1</a></span></li><li><span><a href=\"#4.2\" data-toc-modified-id=\"4.2-4.2\">4.2</a></span></li></ul></li><li><span><a href=\"#5.-Add-captured-pokemon-for-each-player\" data-toc-modified-id=\"5.-Add-captured-pokemon-for-each-player-5\">5. Add captured pokemon for each player</a></span></li><li><span><a href=\"#6.-What-gyms-have-players-visited?\" data-toc-modified-id=\"6.-What-gyms-have-players-visited?-6\">6. What gyms have players visited?</a></span><ul class=\"toc-item\"><li><span><a href=\"#6.1\" data-toc-modified-id=\"6.1-6.1\">6.1</a></span></li><li><span><a href=\"#6.2\" data-toc-modified-id=\"6.2-6.2\">6.2</a></span></li></ul></li><li><span><a href=\"#7.-Calculate-player-&quot;power&quot;.\" data-toc-modified-id=\"7.-Calculate-player-&quot;power&quot;.-7\">7. Calculate player \"power\".</a></span></li><li><span><a href=\"#8.-Load-a-pokedex-file-containing-all-the-pokemon\" data-toc-modified-id=\"8.-Load-a-pokedex-file-containing-all-the-pokemon-8\">8. Load a pokedex file containing all the pokemon</a></span><ul class=\"toc-item\"><li><span><a href=\"#8.1\" data-toc-modified-id=\"8.1-8.1\">8.1</a></span></li><li><span><a href=\"#8.2-Parse-the-raw-pokedex-with-list-comprehensions\" data-toc-modified-id=\"8.2-Parse-the-raw-pokedex-with-list-comprehensions-8.2\">8.2 Parse the raw pokedex with list comprehensions</a></span></li></ul></li><li><span><a href=\"#9.-Write-a-function-to-generate-the-full-pokedex\" data-toc-modified-id=\"9.-Write-a-function-to-generate-the-full-pokedex-9\">9. Write a function to generate the full pokedex</a></span></li><li><span><a href=\"#10.-Write-a-function-to-generate-a-&quot;filtered&quot;-pokedex\" data-toc-modified-id=\"10.-Write-a-function-to-generate-a-&quot;filtered&quot;-pokedex-10\">10. Write a function to generate a \"filtered\" pokedex</a></span></li><li><span><a href=\"#11.-Descriptive-statistics-on-the-prototype-pokedex\" data-toc-modified-id=\"11.-Descriptive-statistics-on-the-prototype-pokedex-11\">11. Descriptive statistics on the prototype pokedex</a></span><ul class=\"toc-item\"><li><span><a href=\"#11.1\" data-toc-modified-id=\"11.1-11.1\">11.1</a></span></li><li><span><a href=\"#11.2\" data-toc-modified-id=\"11.2-11.2\">11.2</a></span></li></ul></li><li><span><a href=\"#12.-Calibrate-the-frequency-of-Pokemon\" data-toc-modified-id=\"12.-Calibrate-the-frequency-of-Pokemon-12\">12. Calibrate the frequency of Pokemon</a></span></li></ul></div>"
   ]
  },
  {
   "cell_type": "code",
   "execution_count": 27,
   "metadata": {},
   "outputs": [],
   "source": [
    "from pprint import pprint"
   ]
  },
  {
   "cell_type": "markdown",
   "metadata": {},
   "source": [
    "## 1. Defining a player\n",
    "\n",
    "---\n",
    "\n",
    "The player variables are:\n",
    "\n",
    "    player_id : id code unique to each player (integer)\n",
    "    player_name : entered name of the player (string)\n",
    "    time_played : number of times played the game in minutes (float)\n",
    "    player_pokemon: the player's captured pokemon (dictionary)\n",
    "    gyms_visited: ids of the gyms that a player has visited (list)\n",
    "    \n",
    "Create the components for a player object by defining each of these variables. The dictionary and list variables should just be defined as empty; you can use any (correctly typed) values for the others."
   ]
  },
  {
   "cell_type": "code",
   "execution_count": 28,
   "metadata": {},
   "outputs": [
    {
     "name": "stdout",
     "output_type": "stream",
     "text": [
      "{'player_id': 1,\n",
      " 'player_stats': {'gyms_visited': [],\n",
      "                  'player_name': 'Gemma',\n",
      "                  'player_pokemon': {},\n",
      "                  'time_played': 0}}\n"
     ]
    }
   ],
   "source": [
    "# Player variables defined (player_id, player_name, time_played, player_pokemon, gyms_visited)\n",
    "\n",
    "player1_player_id = 1\n",
    "player1_player_name = 'Gemma'\n",
    "player1_time_played = 0\n",
    "player1_player_pokemon = {}\n",
    "player1_gyms_visited = []\n",
    "\n",
    "# Construction of player object dictionary for player 1\n",
    "\n",
    "player_1 = {'player_id': player1_player_id,'player_stats': \n",
    "            {'player_name': player1_player_name, \n",
    "            'time_played': player1_time_played, \n",
    "            'player_pokemon': player1_player_pokemon, \n",
    "            'gyms_visited':player1_gyms_visited} }\n",
    "\n",
    "pprint(player_1)\n"
   ]
  },
  {
   "cell_type": "markdown",
   "metadata": {},
   "source": [
    "## 2. Defining \"gym\" locations\n",
    "\n",
    "---\n",
    "\n",
    "As the sole programmer, Pokemon Stay will have to start small. To begin, there will be 10 different gym location websites on the internet. The gym locations are:\n",
    "\n",
    "    1. 'reddit.com'\n",
    "    2. 'amazon.com'\n",
    "    3. 'twitter.com'\n",
    "    4. 'linkedin.com'\n",
    "    5. 'ebay.com'\n",
    "    6. 'netflix.com'\n",
    "    7. 'sporcle.com'\n",
    "    8. 'stackoverflow.com'\n",
    "    9. 'github.com'\n",
    "    10. 'quora.com'\n",
    "\n",
    "1. Set up a list of all the gym locations. This will be a list of strings.\n",
    "2. Append two of these locations to your player's list of visited gyms.\n",
    "3. Print the list."
   ]
  },
  {
   "cell_type": "code",
   "execution_count": 29,
   "metadata": {},
   "outputs": [
    {
     "name": "stdout",
     "output_type": "stream",
     "text": [
      "['linkedin.com', 'netflix.com']\n"
     ]
    }
   ],
   "source": [
    "# List of gym locations\n",
    "\n",
    "gym_locations = ['reddit.com','amazon.com','twitter.com','linkedin.com',\n",
    "                 'ebay.com','netflix.com','sporcle.com',\n",
    "                 'stackoverflow.com','github.com','quora.com']\n",
    "\n",
    "# Adding two gym locations to player_1 object\n",
    "\n",
    "player_1['player_stats']['gyms_visited'] = [gym_locations[3],gym_locations[5]]\n",
    "\n",
    "# Print to check addition successful \n",
    "\n",
    "print(player_1['player_stats']['gyms_visited'])\n"
   ]
  },
  {
   "cell_type": "markdown",
   "metadata": {},
   "source": [
    "## 3. Create a pokedex\n",
    "\n",
    "---\n",
    "\n",
    "We also need to create some pokemon to catch. Each pokemon will be defined by these variables:\n",
    "\n",
    "    pokemon_id : unique identifier for each pokemon (integer)\n",
    "    name : the name of the pokemon (string)\n",
    "    type : the category of pokemon (string)\n",
    "    hp : base hitpoints (integer)\n",
    "    attack : base attack (integer)\n",
    "    defense : base defense (integer)\n",
    "    special_attack : base special attack (integer)\n",
    "    special_defense : base sepecial defense (integer)\n",
    "    speed : base speed (integer)\n",
    "\n",
    "We are only going to create 3 different pokemon with these `pokemon_id` and `pokemon_name` values:\n",
    "\n",
    "    1 : 'charmander'\n",
    "    2 : 'squirtle'\n",
    "    3 : 'bulbasaur'\n",
    "\n",
    "Create a dictionary that will contain the pokemon. The keys of the dictionary will be the `pokemon_id` and the values will themselves be dictionaries that contain the other pokemon variables. The structure of the pokedex dictionary will start like so:\n",
    "     \n",
    "     {\n",
    "         1: {\n",
    "                 'name':'charmander',\n",
    "                 'type':'fire',\n",
    "                 ...\n",
    "                 \n",
    "The `type` of charmander, squirtle, and bulbasaur should be `'fire'`, `'water'`, and `'poison'` respectively. The other values are up to you, make them anything you like!\n",
    "\n",
    "Print (or pretty print) the pokedex dictionary with the 3 pokemon."
   ]
  },
  {
   "cell_type": "code",
   "execution_count": 58,
   "metadata": {},
   "outputs": [
    {
     "name": "stdout",
     "output_type": "stream",
     "text": [
      "{1: {'attack': 10,\n",
      "     'defense': 30,\n",
      "     'hp': 50,\n",
      "     'name': 'charmander',\n",
      "     'special_attack': 80,\n",
      "     'special_defense': 40,\n",
      "     'speed': 28,\n",
      "     'type': 'fire'},\n",
      " 2: {'attack': 10,\n",
      "     'defense': 35,\n",
      "     'hp': 40,\n",
      "     'name': 'squirtle',\n",
      "     'special_attack': 47,\n",
      "     'special_defense': 71,\n",
      "     'speed': 44,\n",
      "     'type': 'water'},\n",
      " 3: {'attack': 20,\n",
      "     'defense': 37,\n",
      "     'hp': 40,\n",
      "     'name': 'bulbasaur',\n",
      "     'special_attack': 72,\n",
      "     'special_defense': 96,\n",
      "     'speed': 16,\n",
      "     'type': 'poison'}}\n"
     ]
    }
   ],
   "source": [
    "#Nested dictionary to describe the pokedex\n",
    "#Keys are the unique pokemon ID number\n",
    "#Values give the name, type and numerical statistics for each pokemon\n",
    "\n",
    "pokedex = {\n",
    "     1: {\n",
    "             'name':'charmander',\n",
    "             'type':'fire',\n",
    "             'hp': 50,\n",
    "             'attack': 10,\n",
    "             'defense': 30,\n",
    "             'special_attack': 80,\n",
    "             'special_defense': 40,\n",
    "             'speed': 28 },\n",
    "     2: {\n",
    "             'name':'squirtle',\n",
    "             'type':'water',\n",
    "             'hp': 40,\n",
    "             'attack': 10,\n",
    "             'defense': 35,\n",
    "             'special_attack': 47,\n",
    "             'special_defense': 71,\n",
    "             'speed': 44 },\n",
    "     3: {\n",
    "             'name':'bulbasaur',\n",
    "             'type':'poison',\n",
    "             'hp': 40,\n",
    "             'attack': 20,\n",
    "             'defense': 37,\n",
    "             'special_attack': 72,\n",
    "             'special_defense': 96,\n",
    "             'speed': 16 }\n",
    "                                        } \n",
    "\n",
    "pprint(pokedex)"
   ]
  },
  {
   "cell_type": "markdown",
   "metadata": {},
   "source": [
    "## 4. Create a data structure for players\n",
    "\n",
    "---\n",
    "\n",
    "### 4.1 \n",
    "\n",
    "In order to maintain a database of multiple players, create a dictionary that keeps track of players indexed by `player_id`. \n",
    "\n",
    "The keys of the dictionary will be `player_id` and the values will be dictionaries containing each player's variables (from question 1). \n",
    "\n",
    "Construct the `players` dictionary and insert the player that you defined in question 1, then print `players`."
   ]
  },
  {
   "cell_type": "code",
   "execution_count": 31,
   "metadata": {},
   "outputs": [
    {
     "name": "stdout",
     "output_type": "stream",
     "text": [
      "{1: {'gyms_visited': ['linkedin.com', 'netflix.com'],\n",
      "     'player_name': 'Gemma',\n",
      "     'player_pokemon': {},\n",
      "     'time_played': 0}}\n"
     ]
    }
   ],
   "source": [
    "# Empty dictionary to store player information \n",
    "players = {}\n",
    "\n",
    "# Adding the previous player_1 to the players dictionary \n",
    "players[(player_1['player_id'])] = player_1['player_stats']\n",
    "\n",
    "# Pring dictionary to check player 1 has been correctly added\n",
    "pprint(players)\n"
   ]
  },
  {
   "cell_type": "markdown",
   "metadata": {},
   "source": [
    "---\n",
    "\n",
    "### 4.2\n",
    "\n",
    "Create a new player with `player_id = 2` in the `players` dictionary. Leave the `'player_pokemon'` dictionary empty. Append `'stackoverflow'` and `'github.com'` to the `'gyms_visited'` list for player 2.\n",
    "\n",
    "The `'player_name'` and `'time_played'` values are up to you, but must be a string and float, respectively.\n",
    "\n",
    "Remember, the player_id is the key for the player in the players dictionary.\n",
    "\n",
    "Print the `players` dictionary with the new player inserted."
   ]
  },
  {
   "cell_type": "code",
   "execution_count": 66,
   "metadata": {},
   "outputs": [
    {
     "name": "stdout",
     "output_type": "stream",
     "text": [
      "{1: {'gyms_visited': ['linkedin.com', 'netflix.com'],\n",
      "     'player_name': 'Gemma',\n",
      "     'player_pokemon': {2: {'attack': 10,\n",
      "                            'defense': 35,\n",
      "                            'hp': 40,\n",
      "                            'name': 'squirtle',\n",
      "                            'special_attack': 47,\n",
      "                            'special_defense': 71,\n",
      "                            'speed': 44,\n",
      "                            'type': 'water'}},\n",
      "     'time_played': 0},\n",
      " 2: {'gyms_visited': ['stackoverflow.com', 'github.com'],\n",
      "     'player_name': 'Adam',\n",
      "     'player_pokemon': {},\n",
      "     'time_played': 4.7}}\n"
     ]
    }
   ],
   "source": [
    "# Create player object for player_2 and add to player dictionary \n",
    "\n",
    "player_2 = {'player_id': 2,'player_stats': \n",
    "            {'player_name': 'Adam', \n",
    "            'time_played': 4.7, \n",
    "            'player_pokemon':{}, \n",
    "            'gyms_visited':[]} }\n",
    "\n",
    "# Add two gyms to player_2\n",
    "\n",
    "player_2['player_stats']['gyms_visited'] = [gym_locations[7],gym_locations[8]]\n",
    "\n",
    "players[player_2['player_id']] = player_2['player_stats']\n",
    "\n",
    "# Check for correct insertion\n",
    "\n",
    "pprint(players)"
   ]
  },
  {
   "cell_type": "markdown",
   "metadata": {},
   "source": [
    "## 5. Add captured pokemon for each player\n",
    "\n",
    "---\n",
    "\n",
    "The `'player_pokemon'` keyed dictionaries for each player keep track of which of the pokemon each player has.\n",
    "\n",
    "The keys of the `'player_pokemon'` dictionaries are the pokemon ids that correspond to the ids in the `pokedex` dictionary you created earlier. The values are integers specifying the stats for the pokemon.\n",
    "\n",
    "Give player 1 a squirtle. Give player 2 a charmander and a bulbasaur.\n",
    "\n",
    "Print the players dictionary after adding the pokemon for each player.\n"
   ]
  },
  {
   "cell_type": "code",
   "execution_count": 67,
   "metadata": {},
   "outputs": [
    {
     "name": "stdout",
     "output_type": "stream",
     "text": [
      "{1: {'gyms_visited': ['linkedin.com', 'netflix.com'],\n",
      "     'player_name': 'Gemma',\n",
      "     'player_pokemon': {2: {'attack': 10,\n",
      "                            'defense': 35,\n",
      "                            'hp': 40,\n",
      "                            'name': 'squirtle',\n",
      "                            'special_attack': 47,\n",
      "                            'special_defense': 71,\n",
      "                            'speed': 44,\n",
      "                            'type': 'water'}},\n",
      "     'time_played': 0},\n",
      " 2: {'gyms_visited': ['stackoverflow.com', 'github.com'],\n",
      "     'player_name': 'Adam',\n",
      "     'player_pokemon': {1: {'attack': 10,\n",
      "                            'defense': 30,\n",
      "                            'hp': 50,\n",
      "                            'name': 'charmander',\n",
      "                            'special_attack': 80,\n",
      "                            'special_defense': 40,\n",
      "                            'speed': 28,\n",
      "                            'type': 'fire'},\n",
      "                        3: {'attack': 20,\n",
      "                            'defense': 37,\n",
      "                            'hp': 40,\n",
      "                            'name': 'bulbasaur',\n",
      "                            'special_attack': 72,\n",
      "                            'special_defense': 96,\n",
      "                            'speed': 16,\n",
      "                            'type': 'poison'}},\n",
      "     'time_played': 4.7}}\n"
     ]
    }
   ],
   "source": [
    "# Add player pokemon into the players dictionary for player_1 and player_2 \n",
    "\n",
    "player_1['player_stats']['player_pokemon'] = {2:pokedex[2]}\n",
    "player_2['player_stats']['player_pokemon'] = {1:pokedex[1], 3:pokedex[3]}\n",
    "\n",
    "# Print players dictionary to check pokemon have been added correctly \n",
    "\n",
    "pprint(players)\n",
    "\n"
   ]
  },
  {
   "cell_type": "markdown",
   "metadata": {},
   "source": [
    "## 6. What gyms have players visited?\n",
    "\n",
    "---"
   ]
  },
  {
   "cell_type": "markdown",
   "metadata": {},
   "source": [
    "### 6.1\n",
    "\n",
    "Write a for-loop that:\n",
    "\n",
    "1. Iterates through the `pokemon_gyms` list of gym locations you defined before.\n",
    "2. For each gym, iterate through each player in the `players` dictionary with a second, internal for-loop.\n",
    "3. If the player has visited the gym, print out \"[player] has visited [gym location].\", filling in [player] and [gym location] with the current player's name and current gym location."
   ]
  },
  {
   "cell_type": "code",
   "execution_count": 68,
   "metadata": {},
   "outputs": [
    {
     "name": "stdout",
     "output_type": "stream",
     "text": [
      "Player 1 has visited linkedin.com\n",
      "Player 1 has visited netflix.com\n",
      "Player 2 has visited stackoverflow.com\n",
      "Player 2 has visited github.com\n"
     ]
    }
   ],
   "source": [
    "#Print the gyms each player has visited from the gym locations list. \n",
    "\n",
    "for gym in gym_locations:\n",
    "    for player_id in players:\n",
    "        if gym in players[player_id]['gyms_visited']:\n",
    "            print('Player {} has visited {}'.format(player_id,gym))\n",
    "            \n",
    "            "
   ]
  },
  {
   "cell_type": "markdown",
   "metadata": {},
   "source": [
    "### 6.2\n",
    "\n",
    "How many times did that loop run? If you have N gyms and also N players, how many times would it run as a function of N?\n",
    "\n",
    "Can you think of a more efficient way to accomplish the same thing? \n",
    "\n",
    "(You can write your answer as Markdown text.)"
   ]
  },
  {
   "cell_type": "markdown",
   "metadata": {},
   "source": [
    "The loop above ran 20 times, firstly the inital for loop choose the first gym_location ('Reddit.com') and checked for each of the two players whether this location was in thier gyms_visited list, this represents two iterations. This same process happens for each of the gym locations of which there are 10, giving 10 x 2 or 20 runs. \n",
    "\n",
    "If we have N gyms and N players, each i within gyms will iterate through each player N times, and this will happen N times for each player. Hence the number times the loop runs is N * N or N ** 2. \n",
    "\n",
    "As the subset of gyms visited for each player will be less than or equal to the number of gym_locations, it would be more efficient to iterate through each players gym locations and print these out with the same sentence as above. This method assumes that all possible locations are contained wtihin the gym_locations so there will never be a gym within the gyms_visited list for each player which contains a gym not included in gym_locations. \n",
    "\n",
    "The number of loops for this would be equal to the total number of gyms included within each players dictionary. \n"
   ]
  },
  {
   "cell_type": "markdown",
   "metadata": {},
   "source": [
    "## 7. Calculate player \"power\".\n",
    "\n",
    "---\n",
    "\n",
    "Define a function that will calculate a player's \"power\". Player power is defined as the sum of the base statistics of all their pokemon.\n",
    "\n",
    "Your function will:\n",
    "\n",
    "1. Accept the `players` dictionary, `pokedex` dictionary, and a player_id as arguments.\n",
    "2. For the specified player_id, look up that player's pokemon and their level(s).\n",
    "3. Find and aggregate the attack and defense values for each of the player's pokemon from the `pokedex` dictionary.\n",
    "4. Print \"[player name]'s power is [player power].\", where the player power is the sum of the base statistics for all of their pokemon.\n",
    "5. Return the player's power value.\n",
    "\n",
    "Print out the pokemon power for each of your players."
   ]
  },
  {
   "cell_type": "code",
   "execution_count": 69,
   "metadata": {},
   "outputs": [
    {
     "name": "stdout",
     "output_type": "stream",
     "text": [
      "Gemma's power is 203.\n",
      "Adam's power is 265.\n"
     ]
    }
   ],
   "source": [
    "# N.B: The function does not take in the pokedex as an argument as the pokemon stat's for each player\n",
    "# have been built into the players dictionary already, so the pokedex does not need to be called. \n",
    "\n",
    "def player_power(players,player_id):\n",
    "    \n",
    "    # A function to find the power of the player when a player_id is passed\n",
    "    \n",
    "    power = 0\n",
    "    \n",
    "    for pokemon in players[player_id]['player_pokemon']:\n",
    "        power = 0\n",
    "        power += players[player_id]['player_pokemon'][pokemon]['hp']\n",
    "        power += players[player_id]['player_pokemon'][pokemon]['attack']\n",
    "        power += players[player_id]['player_pokemon'][pokemon]['defense']\n",
    "        power += players[player_id]['player_pokemon'][pokemon]['special_attack']\n",
    "        power += players[player_id]['player_pokemon'][pokemon]['special_defense']\n",
    "        \n",
    "    return'{}\\'s power is {}.'.format(players[player_id]['player_name'], power)\n",
    "\n",
    "# Check output for each player\n",
    "print(player_power(players,1))\n",
    "print(player_power(players,2))\n",
    "    "
   ]
  },
  {
   "cell_type": "markdown",
   "metadata": {
    "collapsed": true
   },
   "source": [
    "## 8. Load a pokedex file containing all the pokemon\n",
    "\n",
    "---\n",
    "\n",
    "### 8.1\n",
    "\n",
    "While you were putting together the prototype code, your colleagues were preparing a dataset of Pokemon and their attributes. (This was a rush job, so they may have picked some crazy values for some...)\n",
    "\n",
    "The code below loads information from a comma separated value (csv) file. You need to parse this string into a more useable format. The format of the string is:\n",
    "\n",
    "- Rows are separated by newline characters: \\n\n",
    "- Columns are separated by commas: ,\n",
    "- All cells in the csv are double quoted. Ex: \"PokedexNumber\" is the first cell of the first row.\n",
    "\n",
    "\n",
    "Using for-loops, create a list of lists where each list within the overall list is a row of the csv/matrix, and each element in that list is a cell in that row. Additional criteria:\n",
    "\n",
    "1. Quotes are removed from each cell item.\n",
    "2. Numeric column values are converted to floats.\n",
    "3. There are some cells that are empty and have no information. For these cells put a -1 value in place.\n",
    "\n",
    "Your end result is effectively a matrix. Each list in the outer list is a row, and the *j*th elements of the list together form the *j*th column, which represents a data attribute. The first three lists in your pokedex list should look like this:\n",
    "\n",
    "    ['PokedexNumber', 'Name', 'Type', 'Total', 'HP', 'Attack', 'Defense', 'SpecialAttack', 'SpecialDefense', 'Speed']\n",
    "    [1.0, 'Bulbasaur', 'GrassPoison', 318.0, 45.0, 49.0, 49.0, 65.0, 65.0, 45.0]\n",
    "    [2.0, 'Ivysaur', 'GrassPoison', 405.0, 60.0, 62.0, 63.0, 80.0, 80.0, 60.0]"
   ]
  },
  {
   "cell_type": "code",
   "execution_count": 70,
   "metadata": {
    "scrolled": true
   },
   "outputs": [
    {
     "name": "stdout",
     "output_type": "stream",
     "text": [
      "[['PokedexNumber', 'Name', 'Type', 'Total', 'HP', 'Attack', 'Defense', 'SpecialAttack', 'SpecialDefense', 'Speed'], [1.0, 'Bulbasaur', 'GrassPoison', 318.0, 45.0, 49.0, 49.0, 65.0, 65.0, 45.0], [2.0, 'Ivysaur', 'GrassPoison', 405.0, 60.0, 62.0, 63.0, 80.0, 80.0, 60.0]]\n"
     ]
    }
   ],
   "source": [
    "raw_pd = ''\n",
    "pokedex_file = '/Users/gemmaboyle/Desktop/GA-DSI/resource_datasets/resource-datasets/pokemon/pokedex_basic.csv'\n",
    "with open(pokedex_file, 'r') as f:\n",
    "    raw_pd = f.read() \n",
    "    \n",
    "raw_pd_split = raw_pd.split('\\n')\n",
    "\n",
    "rows_list = []\n",
    "for i in raw_pd_split:\n",
    "    j = i.split(',')\n",
    "    rows_list.append(j)\n",
    "    \n",
    "new_rows_list = []\n",
    "for i in rows_list:\n",
    "    holder = []\n",
    "    for j in i:\n",
    "        k = j.strip('\"')\n",
    "        holder.append(k)\n",
    "    new_rows_list.append(holder)\n",
    "        \n",
    "final_pokedex =[]\n",
    "    \n",
    "for i in new_rows_list:\n",
    "    holder = []\n",
    "    for j in i:\n",
    "        if j.isdigit():\n",
    "            holder.append(float(j))\n",
    "        elif j == '':\n",
    "            holder.append(-1)\n",
    "        else: \n",
    "            holder.append(j)\n",
    "    final_pokedex.append(holder)\n",
    "\n",
    "print(final_pokedex[:3])\n"
   ]
  },
  {
   "cell_type": "markdown",
   "metadata": {},
   "source": [
    "### 8.2 Parse the raw pokedex with list comprehensions\n",
    "\n",
    "---\n",
    "\n",
    "Perform the same parsing as above, but **using only a single list comprehension** instead of for loops. You may have nested list comprehensions within the main list comprehension! The output should be exactly the same."
   ]
  },
  {
   "cell_type": "code",
   "execution_count": 71,
   "metadata": {},
   "outputs": [
    {
     "name": "stdout",
     "output_type": "stream",
     "text": [
      "[['PokedexNumber', 'Name', 'Type', 'Total', 'HP', 'Attack', 'Defense', 'SpecialAttack', 'SpecialDefense', 'Speed'], [1.0, 'Bulbasaur', 'GrassPoison', 318.0, 45.0, 49.0, 49.0, 65.0, 65.0, 45.0], [2.0, 'Ivysaur', 'GrassPoison', 405.0, 60.0, 62.0, 63.0, 80.0, 80.0, 60.0]]\n"
     ]
    }
   ],
   "source": [
    "# Final_pokedex equivalent to the above as a list comprehension\n",
    "\n",
    "final_pokedex = [[float(j) if j.isdigit() else -1 if j == '' else j for j in i] for i in \n",
    "                 [[j.strip('\"') for j in i] for i in \n",
    "                  [i.split(',') for i in raw_pd.split('\\n')]]]\n",
    "\n",
    "print(final_pokedex[:3])\n",
    "\n",
    "\n",
    "\n"
   ]
  },
  {
   "cell_type": "markdown",
   "metadata": {},
   "source": [
    "## 9. Write a function to generate the full pokedex\n",
    "\n",
    "---\n",
    "\n",
    "Write a function that recreates the pokedex you made before, but with the data read in from the full pokemon file. Create a unique key value for each entry in the pokemon dictionary.\n",
    "\n",
    "Your function should:\n",
    "\n",
    "1. Take the parsed pokedex information you created above as an argument.\n",
    "2. Return a dictionary in the same format as your original pokedex you created before containing the information from the parsed full pokedex file.\n",
    "\n",
    "To test the function, print out the pokemon with id = 100."
   ]
  },
  {
   "cell_type": "code",
   "execution_count": 72,
   "metadata": {
    "scrolled": true
   },
   "outputs": [
    {
     "name": "stdout",
     "output_type": "stream",
     "text": [
      "{0: {'name': 'Bulbasaur', 'type': 'GrassPoison', 'hp': 45.0, 'attack': 49.0, 'defense': 49.0, 'special_attack': 65.0, 'special_defense': 65.0, 'speed': 45.0}, 1: {'name': 'Ivysaur', 'type': 'GrassPoison', 'hp': 60.0, 'attack': 62.0, 'defense': 63.0, 'special_attack': 80.0, 'special_defense': 80.0, 'speed': 60.0}, 2: {'name': 'Venusaur', 'type': 'GrassPoison', 'hp': 80.0, 'attack': 82.0, 'defense': 83.0, 'special_attack': 100.0, 'special_defense': 100.0, 'speed': 80.0}, 3: {'name': 'VenusaurMega Venusaur', 'type': 'GrassPoison', 'hp': 80.0, 'attack': 100.0, 'defense': 123.0, 'special_attack': 122.0, 'special_defense': 120.0, 'speed': 80.0}, 4: {'name': 'Charmander', 'type': 'Fire', 'hp': 39.0, 'attack': 52.0, 'defense': 43.0, 'special_attack': 60.0, 'special_defense': 50.0, 'speed': 65.0}, 5: {'name': 'Charmeleon', 'type': 'Fire', 'hp': 58.0, 'attack': 64.0, 'defense': 58.0, 'special_attack': 80.0, 'special_defense': 65.0, 'speed': 80.0}, 6: {'name': 'Charizard', 'type': 'FireFlying', 'hp': 78.0, 'attack': 84.0, 'defense': 78.0, 'special_attack': 109.0, 'special_defense': 85.0, 'speed': 100.0}, 7: {'name': 'CharizardMega Charizard X', 'type': 'FireDragon', 'hp': 78.0, 'attack': 130.0, 'defense': 111.0, 'special_attack': 130.0, 'special_defense': 85.0, 'speed': 100.0}, 8: {'name': 'CharizardMega Charizard Y', 'type': 'FireFlying', 'hp': 78.0, 'attack': 104.0, 'defense': 78.0, 'special_attack': 159.0, 'special_defense': 115.0, 'speed': 100.0}, 9: {'name': 'Squirtle', 'type': 'Water', 'hp': 44.0, 'attack': 48.0, 'defense': 65.0, 'special_attack': 50.0, 'special_defense': 64.0, 'speed': 43.0}, 10: {'name': 'Wartortle', 'type': 'Water', 'hp': 59.0, 'attack': 63.0, 'defense': 80.0, 'special_attack': 65.0, 'special_defense': 80.0, 'speed': 58.0}, 11: {'name': 'Blastoise', 'type': 'Water', 'hp': 79.0, 'attack': 83.0, 'defense': 100.0, 'special_attack': 85.0, 'special_defense': 105.0, 'speed': 78.0}, 12: {'name': 'BlastoiseMega Blastoise', 'type': 'Water', 'hp': 79.0, 'attack': 103.0, 'defense': 120.0, 'special_attack': 135.0, 'special_defense': 115.0, 'speed': 78.0}, 13: {'name': 'Caterpie', 'type': 'Bug', 'hp': 45.0, 'attack': 30.0, 'defense': 35.0, 'special_attack': 20.0, 'special_defense': 20.0, 'speed': 45.0}, 14: {'name': 'Metapod', 'type': 'Bug', 'hp': 50.0, 'attack': 20.0, 'defense': 55.0, 'special_attack': 25.0, 'special_defense': 25.0, 'speed': 30.0}, 15: {'name': 'Butterfree', 'type': 'BugFlying', 'hp': 60.0, 'attack': 45.0, 'defense': 50.0, 'special_attack': 90.0, 'special_defense': 80.0, 'speed': 70.0}, 16: {'name': 'Weedle', 'type': 'BugPoison', 'hp': 40.0, 'attack': 35.0, 'defense': 30.0, 'special_attack': 20.0, 'special_defense': 20.0, 'speed': 50.0}, 17: {'name': 'Kakuna', 'type': 'BugPoison', 'hp': 45.0, 'attack': 25.0, 'defense': 50.0, 'special_attack': 25.0, 'special_defense': 25.0, 'speed': 35.0}, 18: {'name': 'Beedrill', 'type': 'BugPoison', 'hp': 65.0, 'attack': 90.0, 'defense': 40.0, 'special_attack': 45.0, 'special_defense': 80.0, 'speed': 75.0}, 19: {'name': 'BeedrillMega Beedrill', 'type': 'BugPoison', 'hp': 65.0, 'attack': 150.0, 'defense': 40.0, 'special_attack': 15.0, 'special_defense': 80.0, 'speed': 145.0}, 20: {'name': 'Pidgey', 'type': 'NormalFlying', 'hp': 40.0, 'attack': 45.0, 'defense': 40.0, 'special_attack': 35.0, 'special_defense': 35.0, 'speed': 56.0}, 21: {'name': 'Pidgeotto', 'type': 'NormalFlying', 'hp': 63.0, 'attack': 60.0, 'defense': 55.0, 'special_attack': 50.0, 'special_defense': 50.0, 'speed': 71.0}, 22: {'name': 'Pidgeot', 'type': 'NormalFlying', 'hp': 83.0, 'attack': 80.0, 'defense': 75.0, 'special_attack': 70.0, 'special_defense': 70.0, 'speed': 101.0}, 23: {'name': 'PidgeotMega Pidgeot', 'type': 'NormalFlying', 'hp': 83.0, 'attack': 80.0, 'defense': 80.0, 'special_attack': 135.0, 'special_defense': 80.0, 'speed': 121.0}, 24: {'name': 'Rattata', 'type': 'Normal', 'hp': 30.0, 'attack': 56.0, 'defense': 35.0, 'special_attack': 25.0, 'special_defense': 35.0, 'speed': 72.0}, 25: {'name': 'Raticate', 'type': 'Normal', 'hp': 55.0, 'attack': 81.0, 'defense': 60.0, 'special_attack': 50.0, 'special_defense': 70.0, 'speed': 97.0}, 26: {'name': 'Spearow', 'type': 'NormalFlying', 'hp': 40.0, 'attack': 60.0, 'defense': 30.0, 'special_attack': 31.0, 'special_defense': 31.0, 'speed': 70.0}, 27: {'name': 'Fearow', 'type': 'NormalFlying', 'hp': 65.0, 'attack': 90.0, 'defense': 65.0, 'special_attack': 61.0, 'special_defense': 61.0, 'speed': 100.0}, 28: {'name': 'Ekans', 'type': 'Poison', 'hp': 35.0, 'attack': 60.0, 'defense': 44.0, 'special_attack': 40.0, 'special_defense': 54.0, 'speed': 55.0}, 29: {'name': 'Arbok', 'type': 'Poison', 'hp': 60.0, 'attack': 85.0, 'defense': 69.0, 'special_attack': 65.0, 'special_defense': 79.0, 'speed': 80.0}, 30: {'name': 'Pikachu', 'type': 'Electric', 'hp': 35.0, 'attack': 55.0, 'defense': 40.0, 'special_attack': 50.0, 'special_defense': 50.0, 'speed': 90.0}, 31: {'name': 'Raichu', 'type': 'Electric', 'hp': 60.0, 'attack': 90.0, 'defense': 55.0, 'special_attack': 90.0, 'special_defense': 80.0, 'speed': 110.0}, 32: {'name': 'Sandshrew', 'type': 'Ground', 'hp': 50.0, 'attack': 75.0, 'defense': 85.0, 'special_attack': 20.0, 'special_defense': 30.0, 'speed': 40.0}, 33: {'name': 'Sandslash', 'type': 'Ground', 'hp': 75.0, 'attack': 100.0, 'defense': 110.0, 'special_attack': 45.0, 'special_defense': 55.0, 'speed': 65.0}, 34: {'name': 'Nidoran♀', 'type': 'Poison', 'hp': 55.0, 'attack': 47.0, 'defense': 52.0, 'special_attack': 40.0, 'special_defense': 40.0, 'speed': 41.0}, 35: {'name': 'Nidorina', 'type': 'Poison', 'hp': 70.0, 'attack': 62.0, 'defense': 67.0, 'special_attack': 55.0, 'special_defense': 55.0, 'speed': 56.0}, 36: {'name': 'Nidoqueen', 'type': 'PoisonGround', 'hp': 90.0, 'attack': 92.0, 'defense': 87.0, 'special_attack': 75.0, 'special_defense': 85.0, 'speed': 76.0}, 37: {'name': 'Nidoran♂', 'type': 'Poison', 'hp': 46.0, 'attack': 57.0, 'defense': 40.0, 'special_attack': 40.0, 'special_defense': 40.0, 'speed': 50.0}, 38: {'name': 'Nidorino', 'type': 'Poison', 'hp': 61.0, 'attack': 72.0, 'defense': 57.0, 'special_attack': 55.0, 'special_defense': 55.0, 'speed': 65.0}, 39: {'name': 'Nidoking', 'type': 'PoisonGround', 'hp': 81.0, 'attack': 102.0, 'defense': 77.0, 'special_attack': 85.0, 'special_defense': 75.0, 'speed': 85.0}, 40: {'name': 'Clefairy', 'type': 'Fairy', 'hp': 70.0, 'attack': 45.0, 'defense': 48.0, 'special_attack': 60.0, 'special_defense': 65.0, 'speed': 35.0}, 41: {'name': 'Clefable', 'type': 'Fairy', 'hp': 95.0, 'attack': 70.0, 'defense': 73.0, 'special_attack': 95.0, 'special_defense': 90.0, 'speed': 60.0}, 42: {'name': 'Vulpix', 'type': 'Fire', 'hp': 38.0, 'attack': 41.0, 'defense': 40.0, 'special_attack': 50.0, 'special_defense': 65.0, 'speed': 65.0}, 43: {'name': 'Ninetales', 'type': 'Fire', 'hp': 73.0, 'attack': 76.0, 'defense': 75.0, 'special_attack': 81.0, 'special_defense': 100.0, 'speed': 100.0}, 44: {'name': 'Jigglypuff', 'type': 'NormalFairy', 'hp': 115.0, 'attack': 45.0, 'defense': 20.0, 'special_attack': 45.0, 'special_defense': 25.0, 'speed': 20.0}, 45: {'name': 'Wigglytuff', 'type': 'NormalFairy', 'hp': 140.0, 'attack': 70.0, 'defense': 45.0, 'special_attack': 85.0, 'special_defense': 50.0, 'speed': 45.0}, 46: {'name': 'Zubat', 'type': 'PoisonFlying', 'hp': 40.0, 'attack': 45.0, 'defense': 35.0, 'special_attack': 30.0, 'special_defense': 40.0, 'speed': 55.0}, 47: {'name': 'Golbat', 'type': 'PoisonFlying', 'hp': 75.0, 'attack': 80.0, 'defense': 70.0, 'special_attack': 65.0, 'special_defense': 75.0, 'speed': 90.0}, 48: {'name': 'Oddish', 'type': 'GrassPoison', 'hp': 45.0, 'attack': 50.0, 'defense': 55.0, 'special_attack': 75.0, 'special_defense': 65.0, 'speed': 30.0}, 49: {'name': 'Gloom', 'type': 'GrassPoison', 'hp': 60.0, 'attack': 65.0, 'defense': 70.0, 'special_attack': 85.0, 'special_defense': 75.0, 'speed': 40.0}, 50: {'name': 'Vileplume', 'type': 'GrassPoison', 'hp': 75.0, 'attack': 80.0, 'defense': 85.0, 'special_attack': 110.0, 'special_defense': 90.0, 'speed': 50.0}, 51: {'name': 'Paras', 'type': 'BugGrass', 'hp': 35.0, 'attack': 70.0, 'defense': 55.0, 'special_attack': 45.0, 'special_defense': 55.0, 'speed': 25.0}, 52: {'name': 'Parasect', 'type': 'BugGrass', 'hp': 60.0, 'attack': 95.0, 'defense': 80.0, 'special_attack': 60.0, 'special_defense': 80.0, 'speed': 30.0}, 53: {'name': 'Venonat', 'type': 'BugPoison', 'hp': 60.0, 'attack': 55.0, 'defense': 50.0, 'special_attack': 40.0, 'special_defense': 55.0, 'speed': 45.0}, 54: {'name': 'Venomoth', 'type': 'BugPoison', 'hp': 70.0, 'attack': 65.0, 'defense': 60.0, 'special_attack': 90.0, 'special_defense': 75.0, 'speed': 90.0}, 55: {'name': 'Diglett', 'type': 'Ground', 'hp': 10.0, 'attack': 55.0, 'defense': 25.0, 'special_attack': 35.0, 'special_defense': 45.0, 'speed': 95.0}, 56: {'name': 'Dugtrio', 'type': 'Ground', 'hp': 35.0, 'attack': 80.0, 'defense': 50.0, 'special_attack': 50.0, 'special_defense': 70.0, 'speed': 120.0}, 57: {'name': 'Meowth', 'type': 'Normal', 'hp': 40.0, 'attack': 45.0, 'defense': 35.0, 'special_attack': 40.0, 'special_defense': 40.0, 'speed': 90.0}, 58: {'name': 'Persian', 'type': 'Normal', 'hp': 65.0, 'attack': 70.0, 'defense': 60.0, 'special_attack': 65.0, 'special_defense': 65.0, 'speed': 115.0}, 59: {'name': 'Psyduck', 'type': 'Water', 'hp': 50.0, 'attack': 52.0, 'defense': 48.0, 'special_attack': 65.0, 'special_defense': 50.0, 'speed': 55.0}, 60: {'name': 'Golduck', 'type': 'Water', 'hp': 80.0, 'attack': 82.0, 'defense': 78.0, 'special_attack': 95.0, 'special_defense': 80.0, 'speed': 85.0}, 61: {'name': 'Mankey', 'type': 'Fighting', 'hp': 40.0, 'attack': 80.0, 'defense': 35.0, 'special_attack': 35.0, 'special_defense': 45.0, 'speed': 70.0}, 62: {'name': 'Primeape', 'type': 'Fighting', 'hp': 65.0, 'attack': 105.0, 'defense': 60.0, 'special_attack': 60.0, 'special_defense': 70.0, 'speed': 95.0}, 63: {'name': 'Growlithe', 'type': 'Fire', 'hp': 55.0, 'attack': 70.0, 'defense': 45.0, 'special_attack': 70.0, 'special_defense': 50.0, 'speed': 60.0}, 64: {'name': 'Arcanine', 'type': 'Fire', 'hp': 90.0, 'attack': 110.0, 'defense': 80.0, 'special_attack': 100.0, 'special_defense': 80.0, 'speed': 95.0}, 65: {'name': 'Poliwag', 'type': 'Water', 'hp': 40.0, 'attack': 50.0, 'defense': 40.0, 'special_attack': 40.0, 'special_defense': 40.0, 'speed': 90.0}, 66: {'name': 'Poliwhirl', 'type': 'Water', 'hp': 65.0, 'attack': 65.0, 'defense': 65.0, 'special_attack': 50.0, 'special_defense': 50.0, 'speed': 90.0}, 67: {'name': 'Poliwrath', 'type': 'WaterFighting', 'hp': 90.0, 'attack': 95.0, 'defense': 95.0, 'special_attack': 70.0, 'special_defense': 90.0, 'speed': 70.0}, 68: {'name': 'Abra', 'type': 'Psychic', 'hp': 25.0, 'attack': 20.0, 'defense': 15.0, 'special_attack': 105.0, 'special_defense': 55.0, 'speed': 90.0}, 69: {'name': 'Kadabra', 'type': 'Psychic', 'hp': 40.0, 'attack': 35.0, 'defense': 30.0, 'special_attack': 120.0, 'special_defense': 70.0, 'speed': 105.0}, 70: {'name': 'Alakazam', 'type': 'Psychic', 'hp': 55.0, 'attack': 50.0, 'defense': 45.0, 'special_attack': 135.0, 'special_defense': 95.0, 'speed': 120.0}, 71: {'name': 'AlakazamMega Alakazam', 'type': 'Psychic', 'hp': 55.0, 'attack': 50.0, 'defense': 65.0, 'special_attack': 175.0, 'special_defense': 95.0, 'speed': 150.0}, 72: {'name': 'Machop', 'type': 'Fighting', 'hp': 70.0, 'attack': 80.0, 'defense': 50.0, 'special_attack': 35.0, 'special_defense': 35.0, 'speed': 35.0}, 73: {'name': 'Machoke', 'type': 'Fighting', 'hp': 80.0, 'attack': 100.0, 'defense': 70.0, 'special_attack': 50.0, 'special_defense': 60.0, 'speed': 45.0}, 74: {'name': 'Machamp', 'type': 'Fighting', 'hp': 90.0, 'attack': 130.0, 'defense': 80.0, 'special_attack': 65.0, 'special_defense': 85.0, 'speed': 55.0}, 75: {'name': 'Bellsprout', 'type': 'GrassPoison', 'hp': 50.0, 'attack': 75.0, 'defense': 35.0, 'special_attack': 70.0, 'special_defense': 30.0, 'speed': 40.0}, 76: {'name': 'Weepinbell', 'type': 'GrassPoison', 'hp': 65.0, 'attack': 90.0, 'defense': 50.0, 'special_attack': 85.0, 'special_defense': 45.0, 'speed': 55.0}, 77: {'name': 'Victreebel', 'type': 'GrassPoison', 'hp': 80.0, 'attack': 105.0, 'defense': 65.0, 'special_attack': 100.0, 'special_defense': 70.0, 'speed': 70.0}, 78: {'name': 'Tentacool', 'type': 'WaterPoison', 'hp': 40.0, 'attack': 40.0, 'defense': 35.0, 'special_attack': 50.0, 'special_defense': 100.0, 'speed': 70.0}, 79: {'name': 'Tentacruel', 'type': 'WaterPoison', 'hp': 80.0, 'attack': 70.0, 'defense': 65.0, 'special_attack': 80.0, 'special_defense': 120.0, 'speed': 100.0}, 80: {'name': 'Geodude', 'type': 'RockGround', 'hp': 40.0, 'attack': 80.0, 'defense': 100.0, 'special_attack': 30.0, 'special_defense': 30.0, 'speed': 20.0}, 81: {'name': 'Graveler', 'type': 'RockGround', 'hp': 55.0, 'attack': 95.0, 'defense': 115.0, 'special_attack': 45.0, 'special_defense': 45.0, 'speed': 35.0}, 82: {'name': 'Golem', 'type': 'RockGround', 'hp': 80.0, 'attack': 120.0, 'defense': 130.0, 'special_attack': 55.0, 'special_defense': 65.0, 'speed': 45.0}, 83: {'name': 'Ponyta', 'type': 'Fire', 'hp': 50.0, 'attack': 85.0, 'defense': 55.0, 'special_attack': 65.0, 'special_defense': 65.0, 'speed': 90.0}, 84: {'name': 'Rapidash', 'type': 'Fire', 'hp': 65.0, 'attack': 100.0, 'defense': 70.0, 'special_attack': 80.0, 'special_defense': 80.0, 'speed': 105.0}, 85: {'name': 'Slowpoke', 'type': 'WaterPsychic', 'hp': 90.0, 'attack': 65.0, 'defense': 65.0, 'special_attack': 40.0, 'special_defense': 40.0, 'speed': 15.0}, 86: {'name': 'Slowbro', 'type': 'WaterPsychic', 'hp': 95.0, 'attack': 75.0, 'defense': 110.0, 'special_attack': 100.0, 'special_defense': 80.0, 'speed': 30.0}, 87: {'name': 'SlowbroMega Slowbro', 'type': 'WaterPsychic', 'hp': 95.0, 'attack': 75.0, 'defense': 180.0, 'special_attack': 130.0, 'special_defense': 80.0, 'speed': 30.0}, 88: {'name': 'Magnemite', 'type': 'ElectricSteel', 'hp': 25.0, 'attack': 35.0, 'defense': 70.0, 'special_attack': 95.0, 'special_defense': 55.0, 'speed': 45.0}, 89: {'name': 'Magneton', 'type': 'ElectricSteel', 'hp': 50.0, 'attack': 60.0, 'defense': 95.0, 'special_attack': 120.0, 'special_defense': 70.0, 'speed': 70.0}, 90: {'name': \"Farfetch'd\", 'type': 'NormalFlying', 'hp': 52.0, 'attack': 65.0, 'defense': 55.0, 'special_attack': 58.0, 'special_defense': 62.0, 'speed': 60.0}, 91: {'name': 'Doduo', 'type': 'NormalFlying', 'hp': 35.0, 'attack': 85.0, 'defense': 45.0, 'special_attack': 35.0, 'special_defense': 35.0, 'speed': 75.0}, 92: {'name': 'Dodrio', 'type': 'NormalFlying', 'hp': 60.0, 'attack': 110.0, 'defense': 70.0, 'special_attack': 60.0, 'special_defense': 60.0, 'speed': 100.0}, 93: {'name': 'Seel', 'type': 'Water', 'hp': 65.0, 'attack': 45.0, 'defense': 55.0, 'special_attack': 45.0, 'special_defense': 70.0, 'speed': 45.0}, 94: {'name': 'Dewgong', 'type': 'WaterIce', 'hp': 90.0, 'attack': 70.0, 'defense': 80.0, 'special_attack': 70.0, 'special_defense': 95.0, 'speed': 70.0}, 95: {'name': 'Grimer', 'type': 'Poison', 'hp': 80.0, 'attack': 80.0, 'defense': 50.0, 'special_attack': 40.0, 'special_defense': 50.0, 'speed': 25.0}, 96: {'name': 'Muk', 'type': 'Poison', 'hp': 105.0, 'attack': 105.0, 'defense': 75.0, 'special_attack': 65.0, 'special_defense': 100.0, 'speed': 50.0}, 97: {'name': 'Shellder', 'type': 'Water', 'hp': 30.0, 'attack': 65.0, 'defense': 100.0, 'special_attack': 45.0, 'special_defense': 25.0, 'speed': 40.0}, 98: {'name': 'Cloyster', 'type': 'WaterIce', 'hp': 50.0, 'attack': 95.0, 'defense': 180.0, 'special_attack': 85.0, 'special_defense': 45.0, 'speed': 70.0}, 99: {'name': 'Gastly', 'type': 'GhostPoison', 'hp': 30.0, 'attack': 35.0, 'defense': 30.0, 'special_attack': 100.0, 'special_defense': 35.0, 'speed': 80.0}, 100: {'name': 'Haunter', 'type': 'GhostPoison', 'hp': 45.0, 'attack': 50.0, 'defense': 45.0, 'special_attack': 115.0, 'special_defense': 55.0, 'speed': 95.0}, 101: {'name': 'Gengar', 'type': 'GhostPoison', 'hp': 60.0, 'attack': 65.0, 'defense': 60.0, 'special_attack': 130.0, 'special_defense': 75.0, 'speed': 110.0}, 102: {'name': 'GengarMega Gengar', 'type': 'GhostPoison', 'hp': 60.0, 'attack': 65.0, 'defense': 80.0, 'special_attack': 170.0, 'special_defense': 95.0, 'speed': 130.0}, 103: {'name': 'Onix', 'type': 'RockGround', 'hp': 35.0, 'attack': 45.0, 'defense': 160.0, 'special_attack': 30.0, 'special_defense': 45.0, 'speed': 70.0}, 104: {'name': 'Drowzee', 'type': 'Psychic', 'hp': 60.0, 'attack': 48.0, 'defense': 45.0, 'special_attack': 43.0, 'special_defense': 90.0, 'speed': 42.0}, 105: {'name': 'Hypno', 'type': 'Psychic', 'hp': 85.0, 'attack': 73.0, 'defense': 70.0, 'special_attack': 73.0, 'special_defense': 115.0, 'speed': 67.0}, 106: {'name': 'Krabby', 'type': 'Water', 'hp': 30.0, 'attack': 105.0, 'defense': 90.0, 'special_attack': 25.0, 'special_defense': 25.0, 'speed': 50.0}, 107: {'name': 'Kingler', 'type': 'Water', 'hp': 55.0, 'attack': 130.0, 'defense': 115.0, 'special_attack': 50.0, 'special_defense': 50.0, 'speed': 75.0}, 108: {'name': 'Voltorb', 'type': 'Electric', 'hp': 40.0, 'attack': 30.0, 'defense': 50.0, 'special_attack': 55.0, 'special_defense': 55.0, 'speed': 100.0}, 109: {'name': 'Electrode', 'type': 'Electric', 'hp': 60.0, 'attack': 50.0, 'defense': 70.0, 'special_attack': 80.0, 'special_defense': 80.0, 'speed': 140.0}, 110: {'name': 'Exeggcute', 'type': 'GrassPsychic', 'hp': 60.0, 'attack': 40.0, 'defense': 80.0, 'special_attack': 60.0, 'special_defense': 45.0, 'speed': 40.0}, 111: {'name': 'Exeggutor', 'type': 'GrassPsychic', 'hp': 95.0, 'attack': 95.0, 'defense': 85.0, 'special_attack': 125.0, 'special_defense': 65.0, 'speed': 55.0}, 112: {'name': 'Cubone', 'type': 'Ground', 'hp': 50.0, 'attack': 50.0, 'defense': 95.0, 'special_attack': 40.0, 'special_defense': 50.0, 'speed': 35.0}, 113: {'name': 'Marowak', 'type': 'Ground', 'hp': 60.0, 'attack': 80.0, 'defense': 110.0, 'special_attack': 50.0, 'special_defense': 80.0, 'speed': 45.0}, 114: {'name': 'Hitmonlee', 'type': 'Fighting', 'hp': 50.0, 'attack': 120.0, 'defense': 53.0, 'special_attack': 35.0, 'special_defense': 110.0, 'speed': 87.0}, 115: {'name': 'Hitmonchan', 'type': 'Fighting', 'hp': 50.0, 'attack': 105.0, 'defense': 79.0, 'special_attack': 35.0, 'special_defense': 110.0, 'speed': 76.0}, 116: {'name': 'Lickitung', 'type': 'Normal', 'hp': 90.0, 'attack': 55.0, 'defense': 75.0, 'special_attack': 60.0, 'special_defense': 75.0, 'speed': 30.0}, 117: {'name': 'Koffing', 'type': 'Poison', 'hp': 40.0, 'attack': 65.0, 'defense': 95.0, 'special_attack': 60.0, 'special_defense': 45.0, 'speed': 35.0}, 118: {'name': 'Weezing', 'type': 'Poison', 'hp': 65.0, 'attack': 90.0, 'defense': 120.0, 'special_attack': 85.0, 'special_defense': 70.0, 'speed': 60.0}, 119: {'name': 'Rhyhorn', 'type': 'GroundRock', 'hp': 80.0, 'attack': 85.0, 'defense': 95.0, 'special_attack': 30.0, 'special_defense': 30.0, 'speed': 25.0}, 120: {'name': 'Rhydon', 'type': 'GroundRock', 'hp': 105.0, 'attack': 130.0, 'defense': 120.0, 'special_attack': 45.0, 'special_defense': 45.0, 'speed': 40.0}, 121: {'name': 'Chansey', 'type': 'Normal', 'hp': 250.0, 'attack': 5.0, 'defense': 5.0, 'special_attack': 35.0, 'special_defense': 105.0, 'speed': 50.0}, 122: {'name': 'Tangela', 'type': 'Grass', 'hp': 65.0, 'attack': 55.0, 'defense': 115.0, 'special_attack': 100.0, 'special_defense': 40.0, 'speed': 60.0}, 123: {'name': 'Kangaskhan', 'type': 'Normal', 'hp': 105.0, 'attack': 95.0, 'defense': 80.0, 'special_attack': 40.0, 'special_defense': 80.0, 'speed': 90.0}, 124: {'name': 'KangaskhanMega Kangaskhan', 'type': 'Normal', 'hp': 105.0, 'attack': 125.0, 'defense': 100.0, 'special_attack': 60.0, 'special_defense': 100.0, 'speed': 100.0}, 125: {'name': 'Horsea', 'type': 'Water', 'hp': 30.0, 'attack': 40.0, 'defense': 70.0, 'special_attack': 70.0, 'special_defense': 25.0, 'speed': 60.0}, 126: {'name': 'Seadra', 'type': 'Water', 'hp': 55.0, 'attack': 65.0, 'defense': 95.0, 'special_attack': 95.0, 'special_defense': 45.0, 'speed': 85.0}, 127: {'name': 'Goldeen', 'type': 'Water', 'hp': 45.0, 'attack': 67.0, 'defense': 60.0, 'special_attack': 35.0, 'special_defense': 50.0, 'speed': 63.0}, 128: {'name': 'Seaking', 'type': 'Water', 'hp': 80.0, 'attack': 92.0, 'defense': 65.0, 'special_attack': 65.0, 'special_defense': 80.0, 'speed': 68.0}, 129: {'name': 'Staryu', 'type': 'Water', 'hp': 30.0, 'attack': 45.0, 'defense': 55.0, 'special_attack': 70.0, 'special_defense': 55.0, 'speed': 85.0}, 130: {'name': 'Starmie', 'type': 'WaterPsychic', 'hp': 60.0, 'attack': 75.0, 'defense': 85.0, 'special_attack': 100.0, 'special_defense': 85.0, 'speed': 115.0}, 131: {'name': 'Mr. Mime', 'type': 'PsychicFairy', 'hp': 40.0, 'attack': 45.0, 'defense': 65.0, 'special_attack': 100.0, 'special_defense': 120.0, 'speed': 90.0}, 132: {'name': 'Scyther', 'type': 'BugFlying', 'hp': 70.0, 'attack': 110.0, 'defense': 80.0, 'special_attack': 55.0, 'special_defense': 80.0, 'speed': 105.0}, 133: {'name': 'Jynx', 'type': 'IcePsychic', 'hp': 65.0, 'attack': 50.0, 'defense': 35.0, 'special_attack': 115.0, 'special_defense': 95.0, 'speed': 95.0}, 134: {'name': 'Electabuzz', 'type': 'Electric', 'hp': 65.0, 'attack': 83.0, 'defense': 57.0, 'special_attack': 95.0, 'special_defense': 85.0, 'speed': 105.0}, 135: {'name': 'Magmar', 'type': 'Fire', 'hp': 65.0, 'attack': 95.0, 'defense': 57.0, 'special_attack': 100.0, 'special_defense': 85.0, 'speed': 93.0}, 136: {'name': 'Pinsir', 'type': 'Bug', 'hp': 65.0, 'attack': 125.0, 'defense': 100.0, 'special_attack': 55.0, 'special_defense': 70.0, 'speed': 85.0}, 137: {'name': 'PinsirMega Pinsir', 'type': 'BugFlying', 'hp': 65.0, 'attack': 155.0, 'defense': 120.0, 'special_attack': 65.0, 'special_defense': 90.0, 'speed': 105.0}, 138: {'name': 'Tauros', 'type': 'Normal', 'hp': 75.0, 'attack': 100.0, 'defense': 95.0, 'special_attack': 40.0, 'special_defense': 70.0, 'speed': 110.0}, 139: {'name': 'Magikarp', 'type': 'Water', 'hp': 20.0, 'attack': 10.0, 'defense': 55.0, 'special_attack': 15.0, 'special_defense': 20.0, 'speed': 80.0}, 140: {'name': 'Gyarados', 'type': 'WaterFlying', 'hp': 95.0, 'attack': 125.0, 'defense': 79.0, 'special_attack': 60.0, 'special_defense': 100.0, 'speed': 81.0}, 141: {'name': 'GyaradosMega Gyarados', 'type': 'WaterDark', 'hp': 95.0, 'attack': 155.0, 'defense': 109.0, 'special_attack': 70.0, 'special_defense': 130.0, 'speed': 81.0}, 142: {'name': 'Lapras', 'type': 'WaterIce', 'hp': 130.0, 'attack': 85.0, 'defense': 80.0, 'special_attack': 85.0, 'special_defense': 95.0, 'speed': 60.0}, 143: {'name': 'Ditto', 'type': 'Normal', 'hp': 48.0, 'attack': 48.0, 'defense': 48.0, 'special_attack': 48.0, 'special_defense': 48.0, 'speed': 48.0}, 144: {'name': 'Eevee', 'type': 'Normal', 'hp': 55.0, 'attack': 55.0, 'defense': 50.0, 'special_attack': 45.0, 'special_defense': 65.0, 'speed': 55.0}, 145: {'name': 'Vaporeon', 'type': 'Water', 'hp': 130.0, 'attack': 65.0, 'defense': 60.0, 'special_attack': 110.0, 'special_defense': 95.0, 'speed': 65.0}, 146: {'name': 'Jolteon', 'type': 'Electric', 'hp': 65.0, 'attack': 65.0, 'defense': 60.0, 'special_attack': 110.0, 'special_defense': 95.0, 'speed': 130.0}, 147: {'name': 'Flareon', 'type': 'Fire', 'hp': 65.0, 'attack': 130.0, 'defense': 60.0, 'special_attack': 95.0, 'special_defense': 110.0, 'speed': 65.0}, 148: {'name': 'Porygon', 'type': 'Normal', 'hp': 65.0, 'attack': 60.0, 'defense': 70.0, 'special_attack': 85.0, 'special_defense': 75.0, 'speed': 40.0}, 149: {'name': 'Omanyte', 'type': 'RockWater', 'hp': 35.0, 'attack': 40.0, 'defense': 100.0, 'special_attack': 90.0, 'special_defense': 55.0, 'speed': 35.0}, 150: {'name': 'Omastar', 'type': 'RockWater', 'hp': 70.0, 'attack': 60.0, 'defense': 125.0, 'special_attack': 115.0, 'special_defense': 70.0, 'speed': 55.0}, 151: {'name': 'Kabuto', 'type': 'RockWater', 'hp': 30.0, 'attack': 80.0, 'defense': 90.0, 'special_attack': 55.0, 'special_defense': 45.0, 'speed': 55.0}, 152: {'name': 'Kabutops', 'type': 'RockWater', 'hp': 60.0, 'attack': 115.0, 'defense': 105.0, 'special_attack': 65.0, 'special_defense': 70.0, 'speed': 80.0}, 153: {'name': 'Aerodactyl', 'type': 'RockFlying', 'hp': 80.0, 'attack': 105.0, 'defense': 65.0, 'special_attack': 60.0, 'special_defense': 75.0, 'speed': 130.0}, 154: {'name': 'AerodactylMega Aerodactyl', 'type': 'RockFlying', 'hp': 80.0, 'attack': 135.0, 'defense': 85.0, 'special_attack': 70.0, 'special_defense': 95.0, 'speed': 150.0}, 155: {'name': 'Snorlax', 'type': 'Normal', 'hp': 160.0, 'attack': 110.0, 'defense': 65.0, 'special_attack': 65.0, 'special_defense': 110.0, 'speed': 30.0}, 156: {'name': 'Articuno', 'type': 'IceFlying', 'hp': 90.0, 'attack': 85.0, 'defense': 100.0, 'special_attack': 95.0, 'special_defense': 125.0, 'speed': 85.0}, 157: {'name': 'Zapdos', 'type': 'ElectricFlying', 'hp': 90.0, 'attack': 90.0, 'defense': 85.0, 'special_attack': 125.0, 'special_defense': 90.0, 'speed': 100.0}, 158: {'name': 'Moltres', 'type': 'FireFlying', 'hp': 90.0, 'attack': 100.0, 'defense': 90.0, 'special_attack': 125.0, 'special_defense': 85.0, 'speed': 90.0}, 159: {'name': 'Dratini', 'type': 'Dragon', 'hp': 41.0, 'attack': 64.0, 'defense': 45.0, 'special_attack': 50.0, 'special_defense': 50.0, 'speed': 50.0}, 160: {'name': 'Dragonair', 'type': 'Dragon', 'hp': 61.0, 'attack': 84.0, 'defense': 65.0, 'special_attack': 70.0, 'special_defense': 70.0, 'speed': 70.0}, 161: {'name': 'Dragonite', 'type': 'DragonFlying', 'hp': 91.0, 'attack': 134.0, 'defense': 95.0, 'special_attack': 100.0, 'special_defense': 100.0, 'speed': 80.0}, 162: {'name': 'Mewtwo', 'type': 'Psychic', 'hp': 106.0, 'attack': 110.0, 'defense': 90.0, 'special_attack': 154.0, 'special_defense': 90.0, 'speed': 130.0}, 163: {'name': 'MewtwoMega Mewtwo X', 'type': 'PsychicFighting', 'hp': 106.0, 'attack': 190.0, 'defense': 100.0, 'special_attack': 154.0, 'special_defense': 100.0, 'speed': 130.0}, 164: {'name': 'MewtwoMega Mewtwo Y', 'type': 'Psychic', 'hp': 106.0, 'attack': 150.0, 'defense': 70.0, 'special_attack': 194.0, 'special_defense': 120.0, 'speed': 140.0}, 165: {'name': 'Mew', 'type': 'Psychic', 'hp': 100.0, 'attack': 100.0, 'defense': 100.0, 'special_attack': 100.0, 'special_defense': 100.0, 'speed': 100.0}, 166: {'name': 'Chikorita', 'type': 'Grass', 'hp': 45.0, 'attack': 49.0, 'defense': 65.0, 'special_attack': 49.0, 'special_defense': 65.0, 'speed': 45.0}, 167: {'name': 'Bayleef', 'type': 'Grass', 'hp': 60.0, 'attack': 62.0, 'defense': 80.0, 'special_attack': 63.0, 'special_defense': 80.0, 'speed': 60.0}, 168: {'name': 'Meganium', 'type': 'Grass', 'hp': 80.0, 'attack': 82.0, 'defense': 100.0, 'special_attack': 83.0, 'special_defense': 100.0, 'speed': 80.0}, 169: {'name': 'Cyndaquil', 'type': 'Fire', 'hp': 39.0, 'attack': 52.0, 'defense': 43.0, 'special_attack': 60.0, 'special_defense': 50.0, 'speed': 65.0}, 170: {'name': 'Quilava', 'type': 'Fire', 'hp': 58.0, 'attack': 64.0, 'defense': 58.0, 'special_attack': 80.0, 'special_defense': 65.0, 'speed': 80.0}, 171: {'name': 'Typhlosion', 'type': 'Fire', 'hp': 78.0, 'attack': 84.0, 'defense': 78.0, 'special_attack': 109.0, 'special_defense': 85.0, 'speed': 100.0}, 172: {'name': 'Totodile', 'type': 'Water', 'hp': 50.0, 'attack': 65.0, 'defense': 64.0, 'special_attack': 44.0, 'special_defense': 48.0, 'speed': 43.0}, 173: {'name': 'Croconaw', 'type': 'Water', 'hp': 65.0, 'attack': 80.0, 'defense': 80.0, 'special_attack': 59.0, 'special_defense': 63.0, 'speed': 58.0}, 174: {'name': 'Feraligatr', 'type': 'Water', 'hp': 85.0, 'attack': 105.0, 'defense': 100.0, 'special_attack': 79.0, 'special_defense': 83.0, 'speed': 78.0}, 175: {'name': 'Sentret', 'type': 'Normal', 'hp': 35.0, 'attack': 46.0, 'defense': 34.0, 'special_attack': 35.0, 'special_defense': 45.0, 'speed': 20.0}, 176: {'name': 'Furret', 'type': 'Normal', 'hp': 85.0, 'attack': 76.0, 'defense': 64.0, 'special_attack': 45.0, 'special_defense': 55.0, 'speed': 90.0}, 177: {'name': 'Hoothoot', 'type': 'NormalFlying', 'hp': 60.0, 'attack': 30.0, 'defense': 30.0, 'special_attack': 36.0, 'special_defense': 56.0, 'speed': 50.0}, 178: {'name': 'Noctowl', 'type': 'NormalFlying', 'hp': 100.0, 'attack': 50.0, 'defense': 50.0, 'special_attack': 76.0, 'special_defense': 96.0, 'speed': 70.0}, 179: {'name': 'Ledyba', 'type': 'BugFlying', 'hp': 40.0, 'attack': 20.0, 'defense': 30.0, 'special_attack': 40.0, 'special_defense': 80.0, 'speed': 55.0}, 180: {'name': 'Ledian', 'type': 'BugFlying', 'hp': 55.0, 'attack': 35.0, 'defense': 50.0, 'special_attack': 55.0, 'special_defense': 110.0, 'speed': 85.0}, 181: {'name': 'Spinarak', 'type': 'BugPoison', 'hp': 40.0, 'attack': 60.0, 'defense': 40.0, 'special_attack': 40.0, 'special_defense': 40.0, 'speed': 30.0}, 182: {'name': 'Ariados', 'type': 'BugPoison', 'hp': 70.0, 'attack': 90.0, 'defense': 70.0, 'special_attack': 60.0, 'special_defense': 60.0, 'speed': 40.0}, 183: {'name': 'Crobat', 'type': 'PoisonFlying', 'hp': 85.0, 'attack': 90.0, 'defense': 80.0, 'special_attack': 70.0, 'special_defense': 80.0, 'speed': 130.0}, 184: {'name': 'Chinchou', 'type': 'WaterElectric', 'hp': 75.0, 'attack': 38.0, 'defense': 38.0, 'special_attack': 56.0, 'special_defense': 56.0, 'speed': 67.0}, 185: {'name': 'Lanturn', 'type': 'WaterElectric', 'hp': 125.0, 'attack': 58.0, 'defense': 58.0, 'special_attack': 76.0, 'special_defense': 76.0, 'speed': 67.0}, 186: {'name': 'Pichu', 'type': 'Electric', 'hp': 20.0, 'attack': 40.0, 'defense': 15.0, 'special_attack': 35.0, 'special_defense': 35.0, 'speed': 60.0}, 187: {'name': 'Cleffa', 'type': 'Fairy', 'hp': 50.0, 'attack': 25.0, 'defense': 28.0, 'special_attack': 45.0, 'special_defense': 55.0, 'speed': 15.0}, 188: {'name': 'Igglybuff', 'type': 'NormalFairy', 'hp': 90.0, 'attack': 30.0, 'defense': 15.0, 'special_attack': 40.0, 'special_defense': 20.0, 'speed': 15.0}, 189: {'name': 'Togepi', 'type': 'Fairy', 'hp': 35.0, 'attack': 20.0, 'defense': 65.0, 'special_attack': 40.0, 'special_defense': 65.0, 'speed': 20.0}, 190: {'name': 'Togetic', 'type': 'FairyFlying', 'hp': 55.0, 'attack': 40.0, 'defense': 85.0, 'special_attack': 80.0, 'special_defense': 105.0, 'speed': 40.0}, 191: {'name': 'Natu', 'type': 'PsychicFlying', 'hp': 40.0, 'attack': 50.0, 'defense': 45.0, 'special_attack': 70.0, 'special_defense': 45.0, 'speed': 70.0}, 192: {'name': 'Xatu', 'type': 'PsychicFlying', 'hp': 65.0, 'attack': 75.0, 'defense': 70.0, 'special_attack': 95.0, 'special_defense': 70.0, 'speed': 95.0}, 193: {'name': 'Mareep', 'type': 'Electric', 'hp': 55.0, 'attack': 40.0, 'defense': 40.0, 'special_attack': 65.0, 'special_defense': 45.0, 'speed': 35.0}, 194: {'name': 'Flaaffy', 'type': 'Electric', 'hp': 70.0, 'attack': 55.0, 'defense': 55.0, 'special_attack': 80.0, 'special_defense': 60.0, 'speed': 45.0}, 195: {'name': 'Ampharos', 'type': 'Electric', 'hp': 90.0, 'attack': 75.0, 'defense': 85.0, 'special_attack': 115.0, 'special_defense': 90.0, 'speed': 55.0}, 196: {'name': 'AmpharosMega Ampharos', 'type': 'ElectricDragon', 'hp': 90.0, 'attack': 95.0, 'defense': 105.0, 'special_attack': 165.0, 'special_defense': 110.0, 'speed': 45.0}, 197: {'name': 'Bellossom', 'type': 'Grass', 'hp': 75.0, 'attack': 80.0, 'defense': 95.0, 'special_attack': 90.0, 'special_defense': 100.0, 'speed': 50.0}, 198: {'name': 'Marill', 'type': 'WaterFairy', 'hp': 70.0, 'attack': 20.0, 'defense': 50.0, 'special_attack': 20.0, 'special_defense': 50.0, 'speed': 40.0}, 199: {'name': 'Azumarill', 'type': 'WaterFairy', 'hp': 100.0, 'attack': 50.0, 'defense': 80.0, 'special_attack': 60.0, 'special_defense': 80.0, 'speed': 50.0}, 200: {'name': 'Sudowoodo', 'type': 'Rock', 'hp': 70.0, 'attack': 100.0, 'defense': 115.0, 'special_attack': 30.0, 'special_defense': 65.0, 'speed': 30.0}, 201: {'name': 'Politoed', 'type': 'Water', 'hp': 90.0, 'attack': 75.0, 'defense': 75.0, 'special_attack': 90.0, 'special_defense': 100.0, 'speed': 70.0}, 202: {'name': 'Hoppip', 'type': 'GrassFlying', 'hp': 35.0, 'attack': 35.0, 'defense': 40.0, 'special_attack': 35.0, 'special_defense': 55.0, 'speed': 50.0}, 203: {'name': 'Skiploom', 'type': 'GrassFlying', 'hp': 55.0, 'attack': 45.0, 'defense': 50.0, 'special_attack': 45.0, 'special_defense': 65.0, 'speed': 80.0}, 204: {'name': 'Jumpluff', 'type': 'GrassFlying', 'hp': 75.0, 'attack': 55.0, 'defense': 70.0, 'special_attack': 55.0, 'special_defense': 95.0, 'speed': 110.0}, 205: {'name': 'Aipom', 'type': 'Normal', 'hp': 55.0, 'attack': 70.0, 'defense': 55.0, 'special_attack': 40.0, 'special_defense': 55.0, 'speed': 85.0}, 206: {'name': 'Sunkern', 'type': 'Grass', 'hp': 30.0, 'attack': 30.0, 'defense': 30.0, 'special_attack': 30.0, 'special_defense': 30.0, 'speed': 30.0}, 207: {'name': 'Sunflora', 'type': 'Grass', 'hp': 75.0, 'attack': 75.0, 'defense': 55.0, 'special_attack': 105.0, 'special_defense': 85.0, 'speed': 30.0}, 208: {'name': 'Yanma', 'type': 'BugFlying', 'hp': 65.0, 'attack': 65.0, 'defense': 45.0, 'special_attack': 75.0, 'special_defense': 45.0, 'speed': 95.0}, 209: {'name': 'Wooper', 'type': 'WaterGround', 'hp': 55.0, 'attack': 45.0, 'defense': 45.0, 'special_attack': 25.0, 'special_defense': 25.0, 'speed': 15.0}, 210: {'name': 'Quagsire', 'type': 'WaterGround', 'hp': 95.0, 'attack': 85.0, 'defense': 85.0, 'special_attack': 65.0, 'special_defense': 65.0, 'speed': 35.0}, 211: {'name': 'Espeon', 'type': 'Psychic', 'hp': 65.0, 'attack': 65.0, 'defense': 60.0, 'special_attack': 130.0, 'special_defense': 95.0, 'speed': 110.0}, 212: {'name': 'Umbreon', 'type': 'Dark', 'hp': 95.0, 'attack': 65.0, 'defense': 110.0, 'special_attack': 60.0, 'special_defense': 130.0, 'speed': 65.0}, 213: {'name': 'Murkrow', 'type': 'DarkFlying', 'hp': 60.0, 'attack': 85.0, 'defense': 42.0, 'special_attack': 85.0, 'special_defense': 42.0, 'speed': 91.0}, 214: {'name': 'Slowking', 'type': 'WaterPsychic', 'hp': 95.0, 'attack': 75.0, 'defense': 80.0, 'special_attack': 100.0, 'special_defense': 110.0, 'speed': 30.0}, 215: {'name': 'Misdreavus', 'type': 'Ghost', 'hp': 60.0, 'attack': 60.0, 'defense': 60.0, 'special_attack': 85.0, 'special_defense': 85.0, 'speed': 85.0}, 216: {'name': 'Unown', 'type': 'Psychic', 'hp': 48.0, 'attack': 72.0, 'defense': 48.0, 'special_attack': 72.0, 'special_defense': 48.0, 'speed': 48.0}, 217: {'name': 'Wobbuffet', 'type': 'Psychic', 'hp': 190.0, 'attack': 33.0, 'defense': 58.0, 'special_attack': 33.0, 'special_defense': 58.0, 'speed': 33.0}, 218: {'name': 'Girafarig', 'type': 'NormalPsychic', 'hp': 70.0, 'attack': 80.0, 'defense': 65.0, 'special_attack': 90.0, 'special_defense': 65.0, 'speed': 85.0}, 219: {'name': 'Pineco', 'type': 'Bug', 'hp': 50.0, 'attack': 65.0, 'defense': 90.0, 'special_attack': 35.0, 'special_defense': 35.0, 'speed': 15.0}, 220: {'name': 'Forretress', 'type': 'BugSteel', 'hp': 75.0, 'attack': 90.0, 'defense': 140.0, 'special_attack': 60.0, 'special_defense': 60.0, 'speed': 40.0}, 221: {'name': 'Dunsparce', 'type': 'Normal', 'hp': 100.0, 'attack': 70.0, 'defense': 70.0, 'special_attack': 65.0, 'special_defense': 65.0, 'speed': 45.0}, 222: {'name': 'Gligar', 'type': 'GroundFlying', 'hp': 65.0, 'attack': 75.0, 'defense': 105.0, 'special_attack': 35.0, 'special_defense': 65.0, 'speed': 85.0}, 223: {'name': 'Steelix', 'type': 'SteelGround', 'hp': 75.0, 'attack': 85.0, 'defense': 200.0, 'special_attack': 55.0, 'special_defense': 65.0, 'speed': 30.0}, 224: {'name': 'SteelixMega Steelix', 'type': 'SteelGround', 'hp': 75.0, 'attack': 125.0, 'defense': 230.0, 'special_attack': 55.0, 'special_defense': 95.0, 'speed': 30.0}, 225: {'name': 'Snubbull', 'type': 'Fairy', 'hp': 60.0, 'attack': 80.0, 'defense': 50.0, 'special_attack': 40.0, 'special_defense': 40.0, 'speed': 30.0}, 226: {'name': 'Granbull', 'type': 'Fairy', 'hp': 90.0, 'attack': 120.0, 'defense': 75.0, 'special_attack': 60.0, 'special_defense': 60.0, 'speed': 45.0}, 227: {'name': 'Qwilfish', 'type': 'WaterPoison', 'hp': 65.0, 'attack': 95.0, 'defense': 75.0, 'special_attack': 55.0, 'special_defense': 55.0, 'speed': 85.0}, 228: {'name': 'Scizor', 'type': 'BugSteel', 'hp': 70.0, 'attack': 130.0, 'defense': 100.0, 'special_attack': 55.0, 'special_defense': 80.0, 'speed': 65.0}, 229: {'name': 'ScizorMega Scizor', 'type': 'BugSteel', 'hp': 70.0, 'attack': 150.0, 'defense': 140.0, 'special_attack': 65.0, 'special_defense': 100.0, 'speed': 75.0}, 230: {'name': 'Shuckle', 'type': 'BugRock', 'hp': 20.0, 'attack': 10.0, 'defense': 230.0, 'special_attack': 10.0, 'special_defense': 230.0, 'speed': 5.0}, 231: {'name': 'Heracross', 'type': 'BugFighting', 'hp': 80.0, 'attack': 125.0, 'defense': 75.0, 'special_attack': 40.0, 'special_defense': 95.0, 'speed': 85.0}, 232: {'name': 'HeracrossMega Heracross', 'type': 'BugFighting', 'hp': 80.0, 'attack': 185.0, 'defense': 115.0, 'special_attack': 40.0, 'special_defense': 105.0, 'speed': 75.0}, 233: {'name': 'Sneasel', 'type': 'DarkIce', 'hp': 55.0, 'attack': 95.0, 'defense': 55.0, 'special_attack': 35.0, 'special_defense': 75.0, 'speed': 115.0}, 234: {'name': 'Teddiursa', 'type': 'Normal', 'hp': 60.0, 'attack': 80.0, 'defense': 50.0, 'special_attack': 50.0, 'special_defense': 50.0, 'speed': 40.0}, 235: {'name': 'Ursaring', 'type': 'Normal', 'hp': 90.0, 'attack': 130.0, 'defense': 75.0, 'special_attack': 75.0, 'special_defense': 75.0, 'speed': 55.0}, 236: {'name': 'Slugma', 'type': 'Fire', 'hp': 40.0, 'attack': 40.0, 'defense': 40.0, 'special_attack': 70.0, 'special_defense': 40.0, 'speed': 20.0}, 237: {'name': 'Magcargo', 'type': 'FireRock', 'hp': 50.0, 'attack': 50.0, 'defense': 120.0, 'special_attack': 80.0, 'special_defense': 80.0, 'speed': 30.0}, 238: {'name': 'Swinub', 'type': 'IceGround', 'hp': 50.0, 'attack': 50.0, 'defense': 40.0, 'special_attack': 30.0, 'special_defense': 30.0, 'speed': 50.0}, 239: {'name': 'Piloswine', 'type': 'IceGround', 'hp': 100.0, 'attack': 100.0, 'defense': 80.0, 'special_attack': 60.0, 'special_defense': 60.0, 'speed': 50.0}, 240: {'name': 'Corsola', 'type': 'WaterRock', 'hp': 55.0, 'attack': 55.0, 'defense': 85.0, 'special_attack': 65.0, 'special_defense': 85.0, 'speed': 35.0}, 241: {'name': 'Remoraid', 'type': 'Water', 'hp': 35.0, 'attack': 65.0, 'defense': 35.0, 'special_attack': 65.0, 'special_defense': 35.0, 'speed': 65.0}, 242: {'name': 'Octillery', 'type': 'Water', 'hp': 75.0, 'attack': 105.0, 'defense': 75.0, 'special_attack': 105.0, 'special_defense': 75.0, 'speed': 45.0}, 243: {'name': 'Delibird', 'type': 'IceFlying', 'hp': 45.0, 'attack': 55.0, 'defense': 45.0, 'special_attack': 65.0, 'special_defense': 45.0, 'speed': 75.0}, 244: {'name': 'Mantine', 'type': 'WaterFlying', 'hp': 65.0, 'attack': 40.0, 'defense': 70.0, 'special_attack': 80.0, 'special_defense': 140.0, 'speed': 70.0}, 245: {'name': 'Skarmory', 'type': 'SteelFlying', 'hp': 65.0, 'attack': 80.0, 'defense': 140.0, 'special_attack': 40.0, 'special_defense': 70.0, 'speed': 70.0}, 246: {'name': 'Houndour', 'type': 'DarkFire', 'hp': 45.0, 'attack': 60.0, 'defense': 30.0, 'special_attack': 80.0, 'special_defense': 50.0, 'speed': 65.0}, 247: {'name': 'Houndoom', 'type': 'DarkFire', 'hp': 75.0, 'attack': 90.0, 'defense': 50.0, 'special_attack': 110.0, 'special_defense': 80.0, 'speed': 95.0}, 248: {'name': 'HoundoomMega Houndoom', 'type': 'DarkFire', 'hp': 75.0, 'attack': 90.0, 'defense': 90.0, 'special_attack': 140.0, 'special_defense': 90.0, 'speed': 115.0}, 249: {'name': 'Kingdra', 'type': 'WaterDragon', 'hp': 75.0, 'attack': 95.0, 'defense': 95.0, 'special_attack': 95.0, 'special_defense': 95.0, 'speed': 85.0}, 250: {'name': 'Phanpy', 'type': 'Ground', 'hp': 90.0, 'attack': 60.0, 'defense': 60.0, 'special_attack': 40.0, 'special_defense': 40.0, 'speed': 40.0}, 251: {'name': 'Donphan', 'type': 'Ground', 'hp': 90.0, 'attack': 120.0, 'defense': 120.0, 'special_attack': 60.0, 'special_defense': 60.0, 'speed': 50.0}, 252: {'name': 'Porygon2', 'type': 'Normal', 'hp': 85.0, 'attack': 80.0, 'defense': 90.0, 'special_attack': 105.0, 'special_defense': 95.0, 'speed': 60.0}, 253: {'name': 'Stantler', 'type': 'Normal', 'hp': 73.0, 'attack': 95.0, 'defense': 62.0, 'special_attack': 85.0, 'special_defense': 65.0, 'speed': 85.0}, 254: {'name': 'Smeargle', 'type': 'Normal', 'hp': 55.0, 'attack': 20.0, 'defense': 35.0, 'special_attack': 20.0, 'special_defense': 45.0, 'speed': 75.0}, 255: {'name': 'Tyrogue', 'type': 'Fighting', 'hp': 35.0, 'attack': 35.0, 'defense': 35.0, 'special_attack': 35.0, 'special_defense': 35.0, 'speed': 35.0}, 256: {'name': 'Hitmontop', 'type': 'Fighting', 'hp': 50.0, 'attack': 95.0, 'defense': 95.0, 'special_attack': 35.0, 'special_defense': 110.0, 'speed': 70.0}, 257: {'name': 'Smoochum', 'type': 'IcePsychic', 'hp': 45.0, 'attack': 30.0, 'defense': 15.0, 'special_attack': 85.0, 'special_defense': 65.0, 'speed': 65.0}, 258: {'name': 'Elekid', 'type': 'Electric', 'hp': 45.0, 'attack': 63.0, 'defense': 37.0, 'special_attack': 65.0, 'special_defense': 55.0, 'speed': 95.0}, 259: {'name': 'Magby', 'type': 'Fire', 'hp': 45.0, 'attack': 75.0, 'defense': 37.0, 'special_attack': 70.0, 'special_defense': 55.0, 'speed': 83.0}, 260: {'name': 'Miltank', 'type': 'Normal', 'hp': 95.0, 'attack': 80.0, 'defense': 105.0, 'special_attack': 40.0, 'special_defense': 70.0, 'speed': 100.0}, 261: {'name': 'Blissey', 'type': 'Normal', 'hp': 255.0, 'attack': 10.0, 'defense': 10.0, 'special_attack': 75.0, 'special_defense': 135.0, 'speed': 55.0}, 262: {'name': 'Raikou', 'type': 'Electric', 'hp': 90.0, 'attack': 85.0, 'defense': 75.0, 'special_attack': 115.0, 'special_defense': 100.0, 'speed': 115.0}, 263: {'name': 'Entei', 'type': 'Fire', 'hp': 115.0, 'attack': 115.0, 'defense': 85.0, 'special_attack': 90.0, 'special_defense': 75.0, 'speed': 100.0}, 264: {'name': 'Suicune', 'type': 'Water', 'hp': 100.0, 'attack': 75.0, 'defense': 115.0, 'special_attack': 90.0, 'special_defense': 115.0, 'speed': 85.0}, 265: {'name': 'Larvitar', 'type': 'RockGround', 'hp': 50.0, 'attack': 64.0, 'defense': 50.0, 'special_attack': 45.0, 'special_defense': 50.0, 'speed': 41.0}, 266: {'name': 'Pupitar', 'type': 'RockGround', 'hp': 70.0, 'attack': 84.0, 'defense': 70.0, 'special_attack': 65.0, 'special_defense': 70.0, 'speed': 51.0}, 267: {'name': 'Tyranitar', 'type': 'RockDark', 'hp': 100.0, 'attack': 134.0, 'defense': 110.0, 'special_attack': 95.0, 'special_defense': 100.0, 'speed': 61.0}, 268: {'name': 'TyranitarMega Tyranitar', 'type': 'RockDark', 'hp': 100.0, 'attack': 164.0, 'defense': 150.0, 'special_attack': 95.0, 'special_defense': 120.0, 'speed': 71.0}, 269: {'name': 'Lugia', 'type': 'PsychicFlying', 'hp': 106.0, 'attack': 90.0, 'defense': 130.0, 'special_attack': 90.0, 'special_defense': 154.0, 'speed': 110.0}, 270: {'name': 'Ho-oh', 'type': 'FireFlying', 'hp': 106.0, 'attack': 130.0, 'defense': 90.0, 'special_attack': 110.0, 'special_defense': 154.0, 'speed': 90.0}, 271: {'name': 'Celebi', 'type': 'PsychicGrass', 'hp': 100.0, 'attack': 100.0, 'defense': 100.0, 'special_attack': 100.0, 'special_defense': 100.0, 'speed': 100.0}, 272: {'name': 'Treecko', 'type': 'Grass', 'hp': 40.0, 'attack': 45.0, 'defense': 35.0, 'special_attack': 65.0, 'special_defense': 55.0, 'speed': 70.0}, 273: {'name': 'Grovyle', 'type': 'Grass', 'hp': 50.0, 'attack': 65.0, 'defense': 45.0, 'special_attack': 85.0, 'special_defense': 65.0, 'speed': 95.0}, 274: {'name': 'Sceptile', 'type': 'Grass', 'hp': 70.0, 'attack': 85.0, 'defense': 65.0, 'special_attack': 105.0, 'special_defense': 85.0, 'speed': 120.0}, 275: {'name': 'SceptileMega Sceptile', 'type': 'GrassDragon', 'hp': 70.0, 'attack': 110.0, 'defense': 75.0, 'special_attack': 145.0, 'special_defense': 85.0, 'speed': 145.0}, 276: {'name': 'Torchic', 'type': 'Fire', 'hp': 45.0, 'attack': 60.0, 'defense': 40.0, 'special_attack': 70.0, 'special_defense': 50.0, 'speed': 45.0}, 277: {'name': 'Combusken', 'type': 'FireFighting', 'hp': 60.0, 'attack': 85.0, 'defense': 60.0, 'special_attack': 85.0, 'special_defense': 60.0, 'speed': 55.0}, 278: {'name': 'Blaziken', 'type': 'FireFighting', 'hp': 80.0, 'attack': 120.0, 'defense': 70.0, 'special_attack': 110.0, 'special_defense': 70.0, 'speed': 80.0}, 279: {'name': 'BlazikenMega Blaziken', 'type': 'FireFighting', 'hp': 80.0, 'attack': 160.0, 'defense': 80.0, 'special_attack': 130.0, 'special_defense': 80.0, 'speed': 100.0}, 280: {'name': 'Mudkip', 'type': 'Water', 'hp': 50.0, 'attack': 70.0, 'defense': 50.0, 'special_attack': 50.0, 'special_defense': 50.0, 'speed': 40.0}, 281: {'name': 'Marshtomp', 'type': 'WaterGround', 'hp': 70.0, 'attack': 85.0, 'defense': 70.0, 'special_attack': 60.0, 'special_defense': 70.0, 'speed': 50.0}, 282: {'name': 'Swampert', 'type': 'WaterGround', 'hp': 100.0, 'attack': 110.0, 'defense': 90.0, 'special_attack': 85.0, 'special_defense': 90.0, 'speed': 60.0}, 283: {'name': 'SwampertMega Swampert', 'type': 'WaterGround', 'hp': 100.0, 'attack': 150.0, 'defense': 110.0, 'special_attack': 95.0, 'special_defense': 110.0, 'speed': 70.0}, 284: {'name': 'Poochyena', 'type': 'Dark', 'hp': 35.0, 'attack': 55.0, 'defense': 35.0, 'special_attack': 30.0, 'special_defense': 30.0, 'speed': 35.0}, 285: {'name': 'Mightyena', 'type': 'Dark', 'hp': 70.0, 'attack': 90.0, 'defense': 70.0, 'special_attack': 60.0, 'special_defense': 60.0, 'speed': 70.0}, 286: {'name': 'Zigzagoon', 'type': 'Normal', 'hp': 38.0, 'attack': 30.0, 'defense': 41.0, 'special_attack': 30.0, 'special_defense': 41.0, 'speed': 60.0}, 287: {'name': 'Linoone', 'type': 'Normal', 'hp': 78.0, 'attack': 70.0, 'defense': 61.0, 'special_attack': 50.0, 'special_defense': 61.0, 'speed': 100.0}, 288: {'name': 'Wurmple', 'type': 'Bug', 'hp': 45.0, 'attack': 45.0, 'defense': 35.0, 'special_attack': 20.0, 'special_defense': 30.0, 'speed': 20.0}, 289: {'name': 'Silcoon', 'type': 'Bug', 'hp': 50.0, 'attack': 35.0, 'defense': 55.0, 'special_attack': 25.0, 'special_defense': 25.0, 'speed': 15.0}, 290: {'name': 'Beautifly', 'type': 'BugFlying', 'hp': 60.0, 'attack': 70.0, 'defense': 50.0, 'special_attack': 100.0, 'special_defense': 50.0, 'speed': 65.0}, 291: {'name': 'Cascoon', 'type': 'Bug', 'hp': 50.0, 'attack': 35.0, 'defense': 55.0, 'special_attack': 25.0, 'special_defense': 25.0, 'speed': 15.0}, 292: {'name': 'Dustox', 'type': 'BugPoison', 'hp': 60.0, 'attack': 50.0, 'defense': 70.0, 'special_attack': 50.0, 'special_defense': 90.0, 'speed': 65.0}, 293: {'name': 'Lotad', 'type': 'WaterGrass', 'hp': 40.0, 'attack': 30.0, 'defense': 30.0, 'special_attack': 40.0, 'special_defense': 50.0, 'speed': 30.0}, 294: {'name': 'Lombre', 'type': 'WaterGrass', 'hp': 60.0, 'attack': 50.0, 'defense': 50.0, 'special_attack': 60.0, 'special_defense': 70.0, 'speed': 50.0}, 295: {'name': 'Ludicolo', 'type': 'WaterGrass', 'hp': 80.0, 'attack': 70.0, 'defense': 70.0, 'special_attack': 90.0, 'special_defense': 100.0, 'speed': 70.0}, 296: {'name': 'Seedot', 'type': 'Grass', 'hp': 40.0, 'attack': 40.0, 'defense': 50.0, 'special_attack': 30.0, 'special_defense': 30.0, 'speed': 30.0}, 297: {'name': 'Nuzleaf', 'type': 'GrassDark', 'hp': 70.0, 'attack': 70.0, 'defense': 40.0, 'special_attack': 60.0, 'special_defense': 40.0, 'speed': 60.0}, 298: {'name': 'Shiftry', 'type': 'GrassDark', 'hp': 90.0, 'attack': 100.0, 'defense': 60.0, 'special_attack': 90.0, 'special_defense': 60.0, 'speed': 80.0}, 299: {'name': 'Taillow', 'type': 'NormalFlying', 'hp': 40.0, 'attack': 55.0, 'defense': 30.0, 'special_attack': 30.0, 'special_defense': 30.0, 'speed': 85.0}, 300: {'name': 'Swellow', 'type': 'NormalFlying', 'hp': 60.0, 'attack': 85.0, 'defense': 60.0, 'special_attack': 50.0, 'special_defense': 50.0, 'speed': 125.0}, 301: {'name': 'Wingull', 'type': 'WaterFlying', 'hp': 40.0, 'attack': 30.0, 'defense': 30.0, 'special_attack': 55.0, 'special_defense': 30.0, 'speed': 85.0}, 302: {'name': 'Pelipper', 'type': 'WaterFlying', 'hp': 60.0, 'attack': 50.0, 'defense': 100.0, 'special_attack': 85.0, 'special_defense': 70.0, 'speed': 65.0}, 303: {'name': 'Ralts', 'type': 'PsychicFairy', 'hp': 28.0, 'attack': 25.0, 'defense': 25.0, 'special_attack': 45.0, 'special_defense': 35.0, 'speed': 40.0}, 304: {'name': 'Kirlia', 'type': 'PsychicFairy', 'hp': 38.0, 'attack': 35.0, 'defense': 35.0, 'special_attack': 65.0, 'special_defense': 55.0, 'speed': 50.0}, 305: {'name': 'Gardevoir', 'type': 'PsychicFairy', 'hp': 68.0, 'attack': 65.0, 'defense': 65.0, 'special_attack': 125.0, 'special_defense': 115.0, 'speed': 80.0}, 306: {'name': 'GardevoirMega Gardevoir', 'type': 'PsychicFairy', 'hp': 68.0, 'attack': 85.0, 'defense': 65.0, 'special_attack': 165.0, 'special_defense': 135.0, 'speed': 100.0}, 307: {'name': 'Surskit', 'type': 'BugWater', 'hp': 40.0, 'attack': 30.0, 'defense': 32.0, 'special_attack': 50.0, 'special_defense': 52.0, 'speed': 65.0}, 308: {'name': 'Masquerain', 'type': 'BugFlying', 'hp': 70.0, 'attack': 60.0, 'defense': 62.0, 'special_attack': 80.0, 'special_defense': 82.0, 'speed': 60.0}, 309: {'name': 'Shroomish', 'type': 'Grass', 'hp': 60.0, 'attack': 40.0, 'defense': 60.0, 'special_attack': 40.0, 'special_defense': 60.0, 'speed': 35.0}, 310: {'name': 'Breloom', 'type': 'GrassFighting', 'hp': 60.0, 'attack': 130.0, 'defense': 80.0, 'special_attack': 60.0, 'special_defense': 60.0, 'speed': 70.0}, 311: {'name': 'Slakoth', 'type': 'Normal', 'hp': 60.0, 'attack': 60.0, 'defense': 60.0, 'special_attack': 35.0, 'special_defense': 35.0, 'speed': 30.0}, 312: {'name': 'Vigoroth', 'type': 'Normal', 'hp': 80.0, 'attack': 80.0, 'defense': 80.0, 'special_attack': 55.0, 'special_defense': 55.0, 'speed': 90.0}, 313: {'name': 'Slaking', 'type': 'Normal', 'hp': 150.0, 'attack': 160.0, 'defense': 100.0, 'special_attack': 95.0, 'special_defense': 65.0, 'speed': 100.0}, 314: {'name': 'Nincada', 'type': 'BugGround', 'hp': 31.0, 'attack': 45.0, 'defense': 90.0, 'special_attack': 30.0, 'special_defense': 30.0, 'speed': 40.0}, 315: {'name': 'Ninjask', 'type': 'BugFlying', 'hp': 61.0, 'attack': 90.0, 'defense': 45.0, 'special_attack': 50.0, 'special_defense': 50.0, 'speed': 160.0}, 316: {'name': 'Shedinja', 'type': 'BugGhost', 'hp': 1.0, 'attack': 90.0, 'defense': 45.0, 'special_attack': 30.0, 'special_defense': 30.0, 'speed': 40.0}, 317: {'name': 'Whismur', 'type': 'Normal', 'hp': 64.0, 'attack': 51.0, 'defense': 23.0, 'special_attack': 51.0, 'special_defense': 23.0, 'speed': 28.0}, 318: {'name': 'Loudred', 'type': 'Normal', 'hp': 84.0, 'attack': 71.0, 'defense': 43.0, 'special_attack': 71.0, 'special_defense': 43.0, 'speed': 48.0}, 319: {'name': 'Exploud', 'type': 'Normal', 'hp': 104.0, 'attack': 91.0, 'defense': 63.0, 'special_attack': 91.0, 'special_defense': 73.0, 'speed': 68.0}, 320: {'name': 'Makuhita', 'type': 'Fighting', 'hp': 72.0, 'attack': 60.0, 'defense': 30.0, 'special_attack': 20.0, 'special_defense': 30.0, 'speed': 25.0}, 321: {'name': 'Hariyama', 'type': 'Fighting', 'hp': 144.0, 'attack': 120.0, 'defense': 60.0, 'special_attack': 40.0, 'special_defense': 60.0, 'speed': 50.0}, 322: {'name': 'Azurill', 'type': 'NormalFairy', 'hp': 50.0, 'attack': 20.0, 'defense': 40.0, 'special_attack': 20.0, 'special_defense': 40.0, 'speed': 20.0}, 323: {'name': 'Nosepass', 'type': 'Rock', 'hp': 30.0, 'attack': 45.0, 'defense': 135.0, 'special_attack': 45.0, 'special_defense': 90.0, 'speed': 30.0}, 324: {'name': 'Skitty', 'type': 'Normal', 'hp': 50.0, 'attack': 45.0, 'defense': 45.0, 'special_attack': 35.0, 'special_defense': 35.0, 'speed': 50.0}, 325: {'name': 'Delcatty', 'type': 'Normal', 'hp': 70.0, 'attack': 65.0, 'defense': 65.0, 'special_attack': 55.0, 'special_defense': 55.0, 'speed': 70.0}, 326: {'name': 'Sableye', 'type': 'DarkGhost', 'hp': 50.0, 'attack': 75.0, 'defense': 75.0, 'special_attack': 65.0, 'special_defense': 65.0, 'speed': 50.0}, 327: {'name': 'SableyeMega Sableye', 'type': 'DarkGhost', 'hp': 50.0, 'attack': 85.0, 'defense': 125.0, 'special_attack': 85.0, 'special_defense': 115.0, 'speed': 20.0}, 328: {'name': 'Mawile', 'type': 'SteelFairy', 'hp': 50.0, 'attack': 85.0, 'defense': 85.0, 'special_attack': 55.0, 'special_defense': 55.0, 'speed': 50.0}, 329: {'name': 'MawileMega Mawile', 'type': 'SteelFairy', 'hp': 50.0, 'attack': 105.0, 'defense': 125.0, 'special_attack': 55.0, 'special_defense': 95.0, 'speed': 50.0}, 330: {'name': 'Aron', 'type': 'SteelRock', 'hp': 50.0, 'attack': 70.0, 'defense': 100.0, 'special_attack': 40.0, 'special_defense': 40.0, 'speed': 30.0}, 331: {'name': 'Lairon', 'type': 'SteelRock', 'hp': 60.0, 'attack': 90.0, 'defense': 140.0, 'special_attack': 50.0, 'special_defense': 50.0, 'speed': 40.0}, 332: {'name': 'Aggron', 'type': 'SteelRock', 'hp': 70.0, 'attack': 110.0, 'defense': 180.0, 'special_attack': 60.0, 'special_defense': 60.0, 'speed': 50.0}, 333: {'name': 'AggronMega Aggron', 'type': 'Steel', 'hp': 70.0, 'attack': 140.0, 'defense': 230.0, 'special_attack': 60.0, 'special_defense': 80.0, 'speed': 50.0}, 334: {'name': 'Meditite', 'type': 'FightingPsychic', 'hp': 30.0, 'attack': 40.0, 'defense': 55.0, 'special_attack': 40.0, 'special_defense': 55.0, 'speed': 60.0}, 335: {'name': 'Medicham', 'type': 'FightingPsychic', 'hp': 60.0, 'attack': 60.0, 'defense': 75.0, 'special_attack': 60.0, 'special_defense': 75.0, 'speed': 80.0}, 336: {'name': 'MedichamMega Medicham', 'type': 'FightingPsychic', 'hp': 60.0, 'attack': 100.0, 'defense': 85.0, 'special_attack': 80.0, 'special_defense': 85.0, 'speed': 100.0}, 337: {'name': 'Electrike', 'type': 'Electric', 'hp': 40.0, 'attack': 45.0, 'defense': 40.0, 'special_attack': 65.0, 'special_defense': 40.0, 'speed': 65.0}, 338: {'name': 'Manectric', 'type': 'Electric', 'hp': 70.0, 'attack': 75.0, 'defense': 60.0, 'special_attack': 105.0, 'special_defense': 60.0, 'speed': 105.0}, 339: {'name': 'ManectricMega Manectric', 'type': 'Electric', 'hp': 70.0, 'attack': 75.0, 'defense': 80.0, 'special_attack': 135.0, 'special_defense': 80.0, 'speed': 135.0}, 340: {'name': 'Plusle', 'type': 'Electric', 'hp': 60.0, 'attack': 50.0, 'defense': 40.0, 'special_attack': 85.0, 'special_defense': 75.0, 'speed': 95.0}, 341: {'name': 'Minun', 'type': 'Electric', 'hp': 60.0, 'attack': 40.0, 'defense': 50.0, 'special_attack': 75.0, 'special_defense': 85.0, 'speed': 95.0}, 342: {'name': 'Volbeat', 'type': 'Bug', 'hp': 65.0, 'attack': 73.0, 'defense': 55.0, 'special_attack': 47.0, 'special_defense': 75.0, 'speed': 85.0}, 343: {'name': 'Illumise', 'type': 'Bug', 'hp': 65.0, 'attack': 47.0, 'defense': 55.0, 'special_attack': 73.0, 'special_defense': 75.0, 'speed': 85.0}, 344: {'name': 'Roselia', 'type': 'GrassPoison', 'hp': 50.0, 'attack': 60.0, 'defense': 45.0, 'special_attack': 100.0, 'special_defense': 80.0, 'speed': 65.0}, 345: {'name': 'Gulpin', 'type': 'Poison', 'hp': 70.0, 'attack': 43.0, 'defense': 53.0, 'special_attack': 43.0, 'special_defense': 53.0, 'speed': 40.0}, 346: {'name': 'Swalot', 'type': 'Poison', 'hp': 100.0, 'attack': 73.0, 'defense': 83.0, 'special_attack': 73.0, 'special_defense': 83.0, 'speed': 55.0}, 347: {'name': 'Carvanha', 'type': 'WaterDark', 'hp': 45.0, 'attack': 90.0, 'defense': 20.0, 'special_attack': 65.0, 'special_defense': 20.0, 'speed': 65.0}, 348: {'name': 'Sharpedo', 'type': 'WaterDark', 'hp': 70.0, 'attack': 120.0, 'defense': 40.0, 'special_attack': 95.0, 'special_defense': 40.0, 'speed': 95.0}, 349: {'name': 'SharpedoMega Sharpedo', 'type': 'WaterDark', 'hp': 70.0, 'attack': 140.0, 'defense': 70.0, 'special_attack': 110.0, 'special_defense': 65.0, 'speed': 105.0}, 350: {'name': 'Wailmer', 'type': 'Water', 'hp': 130.0, 'attack': 70.0, 'defense': 35.0, 'special_attack': 70.0, 'special_defense': 35.0, 'speed': 60.0}, 351: {'name': 'Wailord', 'type': 'Water', 'hp': 170.0, 'attack': 90.0, 'defense': 45.0, 'special_attack': 90.0, 'special_defense': 45.0, 'speed': 60.0}, 352: {'name': 'Numel', 'type': 'FireGround', 'hp': 60.0, 'attack': 60.0, 'defense': 40.0, 'special_attack': 65.0, 'special_defense': 45.0, 'speed': 35.0}, 353: {'name': 'Camerupt', 'type': 'FireGround', 'hp': 70.0, 'attack': 100.0, 'defense': 70.0, 'special_attack': 105.0, 'special_defense': 75.0, 'speed': 40.0}, 354: {'name': 'CameruptMega Camerupt', 'type': 'FireGround', 'hp': 70.0, 'attack': 120.0, 'defense': 100.0, 'special_attack': 145.0, 'special_defense': 105.0, 'speed': 20.0}, 355: {'name': 'Torkoal', 'type': 'Fire', 'hp': 70.0, 'attack': 85.0, 'defense': 140.0, 'special_attack': 85.0, 'special_defense': 70.0, 'speed': 20.0}, 356: {'name': 'Spoink', 'type': 'Psychic', 'hp': 60.0, 'attack': 25.0, 'defense': 35.0, 'special_attack': 70.0, 'special_defense': 80.0, 'speed': 60.0}, 357: {'name': 'Grumpig', 'type': 'Psychic', 'hp': 80.0, 'attack': 45.0, 'defense': 65.0, 'special_attack': 90.0, 'special_defense': 110.0, 'speed': 80.0}, 358: {'name': 'Spinda', 'type': 'Normal', 'hp': 60.0, 'attack': 60.0, 'defense': 60.0, 'special_attack': 60.0, 'special_defense': 60.0, 'speed': 60.0}, 359: {'name': 'Trapinch', 'type': 'Ground', 'hp': 45.0, 'attack': 100.0, 'defense': 45.0, 'special_attack': 45.0, 'special_defense': 45.0, 'speed': 10.0}, 360: {'name': 'Vibrava', 'type': 'GroundDragon', 'hp': 50.0, 'attack': 70.0, 'defense': 50.0, 'special_attack': 50.0, 'special_defense': 50.0, 'speed': 70.0}, 361: {'name': 'Flygon', 'type': 'GroundDragon', 'hp': 80.0, 'attack': 100.0, 'defense': 80.0, 'special_attack': 80.0, 'special_defense': 80.0, 'speed': 100.0}, 362: {'name': 'Cacnea', 'type': 'Grass', 'hp': 50.0, 'attack': 85.0, 'defense': 40.0, 'special_attack': 85.0, 'special_defense': 40.0, 'speed': 35.0}, 363: {'name': 'Cacturne', 'type': 'GrassDark', 'hp': 70.0, 'attack': 115.0, 'defense': 60.0, 'special_attack': 115.0, 'special_defense': 60.0, 'speed': 55.0}, 364: {'name': 'Swablu', 'type': 'NormalFlying', 'hp': 45.0, 'attack': 40.0, 'defense': 60.0, 'special_attack': 40.0, 'special_defense': 75.0, 'speed': 50.0}, 365: {'name': 'Altaria', 'type': 'DragonFlying', 'hp': 75.0, 'attack': 70.0, 'defense': 90.0, 'special_attack': 70.0, 'special_defense': 105.0, 'speed': 80.0}, 366: {'name': 'AltariaMega Altaria', 'type': 'DragonFairy', 'hp': 75.0, 'attack': 110.0, 'defense': 110.0, 'special_attack': 110.0, 'special_defense': 105.0, 'speed': 80.0}, 367: {'name': 'Zangoose', 'type': 'Normal', 'hp': 73.0, 'attack': 115.0, 'defense': 60.0, 'special_attack': 60.0, 'special_defense': 60.0, 'speed': 90.0}, 368: {'name': 'Seviper', 'type': 'Poison', 'hp': 73.0, 'attack': 100.0, 'defense': 60.0, 'special_attack': 100.0, 'special_defense': 60.0, 'speed': 65.0}, 369: {'name': 'Lunatone', 'type': 'RockPsychic', 'hp': 70.0, 'attack': 55.0, 'defense': 65.0, 'special_attack': 95.0, 'special_defense': 85.0, 'speed': 70.0}, 370: {'name': 'Solrock', 'type': 'RockPsychic', 'hp': 70.0, 'attack': 95.0, 'defense': 85.0, 'special_attack': 55.0, 'special_defense': 65.0, 'speed': 70.0}, 371: {'name': 'Barboach', 'type': 'WaterGround', 'hp': 50.0, 'attack': 48.0, 'defense': 43.0, 'special_attack': 46.0, 'special_defense': 41.0, 'speed': 60.0}, 372: {'name': 'Whiscash', 'type': 'WaterGround', 'hp': 110.0, 'attack': 78.0, 'defense': 73.0, 'special_attack': 76.0, 'special_defense': 71.0, 'speed': 60.0}, 373: {'name': 'Corphish', 'type': 'Water', 'hp': 43.0, 'attack': 80.0, 'defense': 65.0, 'special_attack': 50.0, 'special_defense': 35.0, 'speed': 35.0}, 374: {'name': 'Crawdaunt', 'type': 'WaterDark', 'hp': 63.0, 'attack': 120.0, 'defense': 85.0, 'special_attack': 90.0, 'special_defense': 55.0, 'speed': 55.0}, 375: {'name': 'Baltoy', 'type': 'GroundPsychic', 'hp': 40.0, 'attack': 40.0, 'defense': 55.0, 'special_attack': 40.0, 'special_defense': 70.0, 'speed': 55.0}, 376: {'name': 'Claydol', 'type': 'GroundPsychic', 'hp': 60.0, 'attack': 70.0, 'defense': 105.0, 'special_attack': 70.0, 'special_defense': 120.0, 'speed': 75.0}, 377: {'name': 'Lileep', 'type': 'RockGrass', 'hp': 66.0, 'attack': 41.0, 'defense': 77.0, 'special_attack': 61.0, 'special_defense': 87.0, 'speed': 23.0}, 378: {'name': 'Cradily', 'type': 'RockGrass', 'hp': 86.0, 'attack': 81.0, 'defense': 97.0, 'special_attack': 81.0, 'special_defense': 107.0, 'speed': 43.0}, 379: {'name': 'Anorith', 'type': 'RockBug', 'hp': 45.0, 'attack': 95.0, 'defense': 50.0, 'special_attack': 40.0, 'special_defense': 50.0, 'speed': 75.0}, 380: {'name': 'Armaldo', 'type': 'RockBug', 'hp': 75.0, 'attack': 125.0, 'defense': 100.0, 'special_attack': 70.0, 'special_defense': 80.0, 'speed': 45.0}, 381: {'name': 'Feebas', 'type': 'Water', 'hp': 20.0, 'attack': 15.0, 'defense': 20.0, 'special_attack': 10.0, 'special_defense': 55.0, 'speed': 80.0}, 382: {'name': 'Milotic', 'type': 'Water', 'hp': 95.0, 'attack': 60.0, 'defense': 79.0, 'special_attack': 100.0, 'special_defense': 125.0, 'speed': 81.0}, 383: {'name': 'Castform', 'type': 'Normal', 'hp': 70.0, 'attack': 70.0, 'defense': 70.0, 'special_attack': 70.0, 'special_defense': 70.0, 'speed': 70.0}, 384: {'name': 'Kecleon', 'type': 'Normal', 'hp': 60.0, 'attack': 90.0, 'defense': 70.0, 'special_attack': 60.0, 'special_defense': 120.0, 'speed': 40.0}, 385: {'name': 'Shuppet', 'type': 'Ghost', 'hp': 44.0, 'attack': 75.0, 'defense': 35.0, 'special_attack': 63.0, 'special_defense': 33.0, 'speed': 45.0}, 386: {'name': 'Banette', 'type': 'Ghost', 'hp': 64.0, 'attack': 115.0, 'defense': 65.0, 'special_attack': 83.0, 'special_defense': 63.0, 'speed': 65.0}, 387: {'name': 'BanetteMega Banette', 'type': 'Ghost', 'hp': 64.0, 'attack': 165.0, 'defense': 75.0, 'special_attack': 93.0, 'special_defense': 83.0, 'speed': 75.0}, 388: {'name': 'Duskull', 'type': 'Ghost', 'hp': 20.0, 'attack': 40.0, 'defense': 90.0, 'special_attack': 30.0, 'special_defense': 90.0, 'speed': 25.0}, 389: {'name': 'Dusclops', 'type': 'Ghost', 'hp': 40.0, 'attack': 70.0, 'defense': 130.0, 'special_attack': 60.0, 'special_defense': 130.0, 'speed': 25.0}, 390: {'name': 'Tropius', 'type': 'GrassFlying', 'hp': 99.0, 'attack': 68.0, 'defense': 83.0, 'special_attack': 72.0, 'special_defense': 87.0, 'speed': 51.0}, 391: {'name': 'Chimecho', 'type': 'Psychic', 'hp': 65.0, 'attack': 50.0, 'defense': 70.0, 'special_attack': 95.0, 'special_defense': 80.0, 'speed': 65.0}, 392: {'name': 'Absol', 'type': 'Dark', 'hp': 65.0, 'attack': 130.0, 'defense': 60.0, 'special_attack': 75.0, 'special_defense': 60.0, 'speed': 75.0}, 393: {'name': 'AbsolMega Absol', 'type': 'Dark', 'hp': 65.0, 'attack': 150.0, 'defense': 60.0, 'special_attack': 115.0, 'special_defense': 60.0, 'speed': 115.0}, 394: {'name': 'Wynaut', 'type': 'Psychic', 'hp': 95.0, 'attack': 23.0, 'defense': 48.0, 'special_attack': 23.0, 'special_defense': 48.0, 'speed': 23.0}, 395: {'name': 'Snorunt', 'type': 'Ice', 'hp': 50.0, 'attack': 50.0, 'defense': 50.0, 'special_attack': 50.0, 'special_defense': 50.0, 'speed': 50.0}, 396: {'name': 'Glalie', 'type': 'Ice', 'hp': 80.0, 'attack': 80.0, 'defense': 80.0, 'special_attack': 80.0, 'special_defense': 80.0, 'speed': 80.0}, 397: {'name': 'GlalieMega Glalie', 'type': 'Ice', 'hp': 80.0, 'attack': 120.0, 'defense': 80.0, 'special_attack': 120.0, 'special_defense': 80.0, 'speed': 100.0}, 398: {'name': 'Spheal', 'type': 'IceWater', 'hp': 70.0, 'attack': 40.0, 'defense': 50.0, 'special_attack': 55.0, 'special_defense': 50.0, 'speed': 25.0}, 399: {'name': 'Sealeo', 'type': 'IceWater', 'hp': 90.0, 'attack': 60.0, 'defense': 70.0, 'special_attack': 75.0, 'special_defense': 70.0, 'speed': 45.0}, 400: {'name': 'Walrein', 'type': 'IceWater', 'hp': 110.0, 'attack': 80.0, 'defense': 90.0, 'special_attack': 95.0, 'special_defense': 90.0, 'speed': 65.0}, 401: {'name': 'Clamperl', 'type': 'Water', 'hp': 35.0, 'attack': 64.0, 'defense': 85.0, 'special_attack': 74.0, 'special_defense': 55.0, 'speed': 32.0}, 402: {'name': 'Huntail', 'type': 'Water', 'hp': 55.0, 'attack': 104.0, 'defense': 105.0, 'special_attack': 94.0, 'special_defense': 75.0, 'speed': 52.0}, 403: {'name': 'Gorebyss', 'type': 'Water', 'hp': 55.0, 'attack': 84.0, 'defense': 105.0, 'special_attack': 114.0, 'special_defense': 75.0, 'speed': 52.0}, 404: {'name': 'Relicanth', 'type': 'WaterRock', 'hp': 100.0, 'attack': 90.0, 'defense': 130.0, 'special_attack': 45.0, 'special_defense': 65.0, 'speed': 55.0}, 405: {'name': 'Luvdisc', 'type': 'Water', 'hp': 43.0, 'attack': 30.0, 'defense': 55.0, 'special_attack': 40.0, 'special_defense': 65.0, 'speed': 97.0}, 406: {'name': 'Bagon', 'type': 'Dragon', 'hp': 45.0, 'attack': 75.0, 'defense': 60.0, 'special_attack': 40.0, 'special_defense': 30.0, 'speed': 50.0}, 407: {'name': 'Shelgon', 'type': 'Dragon', 'hp': 65.0, 'attack': 95.0, 'defense': 100.0, 'special_attack': 60.0, 'special_defense': 50.0, 'speed': 50.0}, 408: {'name': 'Salamence', 'type': 'DragonFlying', 'hp': 95.0, 'attack': 135.0, 'defense': 80.0, 'special_attack': 110.0, 'special_defense': 80.0, 'speed': 100.0}, 409: {'name': 'SalamenceMega Salamence', 'type': 'DragonFlying', 'hp': 95.0, 'attack': 145.0, 'defense': 130.0, 'special_attack': 120.0, 'special_defense': 90.0, 'speed': 120.0}, 410: {'name': 'Beldum', 'type': 'SteelPsychic', 'hp': 40.0, 'attack': 55.0, 'defense': 80.0, 'special_attack': 35.0, 'special_defense': 60.0, 'speed': 30.0}, 411: {'name': 'Metang', 'type': 'SteelPsychic', 'hp': 60.0, 'attack': 75.0, 'defense': 100.0, 'special_attack': 55.0, 'special_defense': 80.0, 'speed': 50.0}, 412: {'name': 'Metagross', 'type': 'SteelPsychic', 'hp': 80.0, 'attack': 135.0, 'defense': 130.0, 'special_attack': 95.0, 'special_defense': 90.0, 'speed': 70.0}, 413: {'name': 'MetagrossMega Metagross', 'type': 'SteelPsychic', 'hp': 80.0, 'attack': 145.0, 'defense': 150.0, 'special_attack': 105.0, 'special_defense': 110.0, 'speed': 110.0}, 414: {'name': 'Regirock', 'type': 'Rock', 'hp': 80.0, 'attack': 100.0, 'defense': 200.0, 'special_attack': 50.0, 'special_defense': 100.0, 'speed': 50.0}, 415: {'name': 'Regice', 'type': 'Ice', 'hp': 80.0, 'attack': 50.0, 'defense': 100.0, 'special_attack': 100.0, 'special_defense': 200.0, 'speed': 50.0}, 416: {'name': 'Registeel', 'type': 'Steel', 'hp': 80.0, 'attack': 75.0, 'defense': 150.0, 'special_attack': 75.0, 'special_defense': 150.0, 'speed': 50.0}, 417: {'name': 'Latias', 'type': 'DragonPsychic', 'hp': 80.0, 'attack': 80.0, 'defense': 90.0, 'special_attack': 110.0, 'special_defense': 130.0, 'speed': 110.0}, 418: {'name': 'LatiasMega Latias', 'type': 'DragonPsychic', 'hp': 80.0, 'attack': 100.0, 'defense': 120.0, 'special_attack': 140.0, 'special_defense': 150.0, 'speed': 110.0}, 419: {'name': 'Latios', 'type': 'DragonPsychic', 'hp': 80.0, 'attack': 90.0, 'defense': 80.0, 'special_attack': 130.0, 'special_defense': 110.0, 'speed': 110.0}, 420: {'name': 'LatiosMega Latios', 'type': 'DragonPsychic', 'hp': 80.0, 'attack': 130.0, 'defense': 100.0, 'special_attack': 160.0, 'special_defense': 120.0, 'speed': 110.0}, 421: {'name': 'Kyogre', 'type': 'Water', 'hp': 100.0, 'attack': 100.0, 'defense': 90.0, 'special_attack': 150.0, 'special_defense': 140.0, 'speed': 90.0}, 422: {'name': 'KyogrePrimal Kyogre', 'type': 'Water', 'hp': 100.0, 'attack': 150.0, 'defense': 90.0, 'special_attack': 180.0, 'special_defense': 160.0, 'speed': 90.0}, 423: {'name': 'Groudon', 'type': 'Ground', 'hp': 100.0, 'attack': 150.0, 'defense': 140.0, 'special_attack': 100.0, 'special_defense': 90.0, 'speed': 90.0}, 424: {'name': 'GroudonPrimal Groudon', 'type': 'GroundFire', 'hp': 100.0, 'attack': 180.0, 'defense': 160.0, 'special_attack': 150.0, 'special_defense': 90.0, 'speed': 90.0}, 425: {'name': 'Rayquaza', 'type': 'DragonFlying', 'hp': 105.0, 'attack': 150.0, 'defense': 90.0, 'special_attack': 150.0, 'special_defense': 90.0, 'speed': 95.0}, 426: {'name': 'RayquazaMega Rayquaza', 'type': 'DragonFlying', 'hp': 105.0, 'attack': 180.0, 'defense': 100.0, 'special_attack': 180.0, 'special_defense': 100.0, 'speed': 115.0}, 427: {'name': 'Jirachi', 'type': 'SteelPsychic', 'hp': 100.0, 'attack': 100.0, 'defense': 100.0, 'special_attack': 100.0, 'special_defense': 100.0, 'speed': 100.0}, 428: {'name': 'DeoxysNormal Forme', 'type': 'Psychic', 'hp': 50.0, 'attack': 150.0, 'defense': 50.0, 'special_attack': 150.0, 'special_defense': 50.0, 'speed': 150.0}, 429: {'name': 'DeoxysAttack Forme', 'type': 'Psychic', 'hp': 50.0, 'attack': 180.0, 'defense': 20.0, 'special_attack': 180.0, 'special_defense': 20.0, 'speed': 150.0}, 430: {'name': 'DeoxysDefense Forme', 'type': 'Psychic', 'hp': 50.0, 'attack': 70.0, 'defense': 160.0, 'special_attack': 70.0, 'special_defense': 160.0, 'speed': 90.0}, 431: {'name': 'DeoxysSpeed Forme', 'type': 'Psychic', 'hp': 50.0, 'attack': 95.0, 'defense': 90.0, 'special_attack': 95.0, 'special_defense': 90.0, 'speed': 180.0}, 432: {'name': 'Turtwig', 'type': 'Grass', 'hp': 55.0, 'attack': 68.0, 'defense': 64.0, 'special_attack': 45.0, 'special_defense': 55.0, 'speed': 31.0}, 433: {'name': 'Grotle', 'type': 'Grass', 'hp': 75.0, 'attack': 89.0, 'defense': 85.0, 'special_attack': 55.0, 'special_defense': 65.0, 'speed': 36.0}, 434: {'name': 'Torterra', 'type': 'GrassGround', 'hp': 95.0, 'attack': 109.0, 'defense': 105.0, 'special_attack': 75.0, 'special_defense': 85.0, 'speed': 56.0}, 435: {'name': 'Chimchar', 'type': 'Fire', 'hp': 44.0, 'attack': 58.0, 'defense': 44.0, 'special_attack': 58.0, 'special_defense': 44.0, 'speed': 61.0}, 436: {'name': 'Monferno', 'type': 'FireFighting', 'hp': 64.0, 'attack': 78.0, 'defense': 52.0, 'special_attack': 78.0, 'special_defense': 52.0, 'speed': 81.0}, 437: {'name': 'Infernape', 'type': 'FireFighting', 'hp': 76.0, 'attack': 104.0, 'defense': 71.0, 'special_attack': 104.0, 'special_defense': 71.0, 'speed': 108.0}, 438: {'name': 'Piplup', 'type': 'Water', 'hp': 53.0, 'attack': 51.0, 'defense': 53.0, 'special_attack': 61.0, 'special_defense': 56.0, 'speed': 40.0}, 439: {'name': 'Prinplup', 'type': 'Water', 'hp': 64.0, 'attack': 66.0, 'defense': 68.0, 'special_attack': 81.0, 'special_defense': 76.0, 'speed': 50.0}, 440: {'name': 'Empoleon', 'type': 'WaterSteel', 'hp': 84.0, 'attack': 86.0, 'defense': 88.0, 'special_attack': 111.0, 'special_defense': 101.0, 'speed': 60.0}, 441: {'name': 'Starly', 'type': 'NormalFlying', 'hp': 40.0, 'attack': 55.0, 'defense': 30.0, 'special_attack': 30.0, 'special_defense': 30.0, 'speed': 60.0}, 442: {'name': 'Staravia', 'type': 'NormalFlying', 'hp': 55.0, 'attack': 75.0, 'defense': 50.0, 'special_attack': 40.0, 'special_defense': 40.0, 'speed': 80.0}, 443: {'name': 'Staraptor', 'type': 'NormalFlying', 'hp': 85.0, 'attack': 120.0, 'defense': 70.0, 'special_attack': 50.0, 'special_defense': 60.0, 'speed': 100.0}, 444: {'name': 'Bidoof', 'type': 'Normal', 'hp': 59.0, 'attack': 45.0, 'defense': 40.0, 'special_attack': 35.0, 'special_defense': 40.0, 'speed': 31.0}, 445: {'name': 'Bibarel', 'type': 'NormalWater', 'hp': 79.0, 'attack': 85.0, 'defense': 60.0, 'special_attack': 55.0, 'special_defense': 60.0, 'speed': 71.0}, 446: {'name': 'Kricketot', 'type': 'Bug', 'hp': 37.0, 'attack': 25.0, 'defense': 41.0, 'special_attack': 25.0, 'special_defense': 41.0, 'speed': 25.0}, 447: {'name': 'Kricketune', 'type': 'Bug', 'hp': 77.0, 'attack': 85.0, 'defense': 51.0, 'special_attack': 55.0, 'special_defense': 51.0, 'speed': 65.0}, 448: {'name': 'Shinx', 'type': 'Electric', 'hp': 45.0, 'attack': 65.0, 'defense': 34.0, 'special_attack': 40.0, 'special_defense': 34.0, 'speed': 45.0}, 449: {'name': 'Luxio', 'type': 'Electric', 'hp': 60.0, 'attack': 85.0, 'defense': 49.0, 'special_attack': 60.0, 'special_defense': 49.0, 'speed': 60.0}, 450: {'name': 'Luxray', 'type': 'Electric', 'hp': 80.0, 'attack': 120.0, 'defense': 79.0, 'special_attack': 95.0, 'special_defense': 79.0, 'speed': 70.0}, 451: {'name': 'Budew', 'type': 'GrassPoison', 'hp': 40.0, 'attack': 30.0, 'defense': 35.0, 'special_attack': 50.0, 'special_defense': 70.0, 'speed': 55.0}, 452: {'name': 'Roserade', 'type': 'GrassPoison', 'hp': 60.0, 'attack': 70.0, 'defense': 65.0, 'special_attack': 125.0, 'special_defense': 105.0, 'speed': 90.0}, 453: {'name': 'Cranidos', 'type': 'Rock', 'hp': 67.0, 'attack': 125.0, 'defense': 40.0, 'special_attack': 30.0, 'special_defense': 30.0, 'speed': 58.0}, 454: {'name': 'Rampardos', 'type': 'Rock', 'hp': 97.0, 'attack': 165.0, 'defense': 60.0, 'special_attack': 65.0, 'special_defense': 50.0, 'speed': 58.0}, 455: {'name': 'Shieldon', 'type': 'RockSteel', 'hp': 30.0, 'attack': 42.0, 'defense': 118.0, 'special_attack': 42.0, 'special_defense': 88.0, 'speed': 30.0}, 456: {'name': 'Bastiodon', 'type': 'RockSteel', 'hp': 60.0, 'attack': 52.0, 'defense': 168.0, 'special_attack': 47.0, 'special_defense': 138.0, 'speed': 30.0}, 457: {'name': 'Burmy', 'type': 'Bug', 'hp': 40.0, 'attack': 29.0, 'defense': 45.0, 'special_attack': 29.0, 'special_defense': 45.0, 'speed': 36.0}, 458: {'name': 'WormadamPlant Cloak', 'type': 'BugGrass', 'hp': 60.0, 'attack': 59.0, 'defense': 85.0, 'special_attack': 79.0, 'special_defense': 105.0, 'speed': 36.0}, 459: {'name': 'WormadamSandy Cloak', 'type': 'BugGround', 'hp': 60.0, 'attack': 79.0, 'defense': 105.0, 'special_attack': 59.0, 'special_defense': 85.0, 'speed': 36.0}, 460: {'name': 'WormadamTrash Cloak', 'type': 'BugSteel', 'hp': 60.0, 'attack': 69.0, 'defense': 95.0, 'special_attack': 69.0, 'special_defense': 95.0, 'speed': 36.0}, 461: {'name': 'Mothim', 'type': 'BugFlying', 'hp': 70.0, 'attack': 94.0, 'defense': 50.0, 'special_attack': 94.0, 'special_defense': 50.0, 'speed': 66.0}, 462: {'name': 'Combee', 'type': 'BugFlying', 'hp': 30.0, 'attack': 30.0, 'defense': 42.0, 'special_attack': 30.0, 'special_defense': 42.0, 'speed': 70.0}, 463: {'name': 'Vespiquen', 'type': 'BugFlying', 'hp': 70.0, 'attack': 80.0, 'defense': 102.0, 'special_attack': 80.0, 'special_defense': 102.0, 'speed': 40.0}, 464: {'name': 'Pachirisu', 'type': 'Electric', 'hp': 60.0, 'attack': 45.0, 'defense': 70.0, 'special_attack': 45.0, 'special_defense': 90.0, 'speed': 95.0}, 465: {'name': 'Buizel', 'type': 'Water', 'hp': 55.0, 'attack': 65.0, 'defense': 35.0, 'special_attack': 60.0, 'special_defense': 30.0, 'speed': 85.0}, 466: {'name': 'Floatzel', 'type': 'Water', 'hp': 85.0, 'attack': 105.0, 'defense': 55.0, 'special_attack': 85.0, 'special_defense': 50.0, 'speed': 115.0}, 467: {'name': 'Cherubi', 'type': 'Grass', 'hp': 45.0, 'attack': 35.0, 'defense': 45.0, 'special_attack': 62.0, 'special_defense': 53.0, 'speed': 35.0}, 468: {'name': 'Cherrim', 'type': 'Grass', 'hp': 70.0, 'attack': 60.0, 'defense': 70.0, 'special_attack': 87.0, 'special_defense': 78.0, 'speed': 85.0}, 469: {'name': 'Shellos', 'type': 'Water', 'hp': 76.0, 'attack': 48.0, 'defense': 48.0, 'special_attack': 57.0, 'special_defense': 62.0, 'speed': 34.0}, 470: {'name': 'Gastrodon', 'type': 'WaterGround', 'hp': 111.0, 'attack': 83.0, 'defense': 68.0, 'special_attack': 92.0, 'special_defense': 82.0, 'speed': 39.0}, 471: {'name': 'Ambipom', 'type': 'Normal', 'hp': 75.0, 'attack': 100.0, 'defense': 66.0, 'special_attack': 60.0, 'special_defense': 66.0, 'speed': 115.0}, 472: {'name': 'Drifloon', 'type': 'GhostFlying', 'hp': 90.0, 'attack': 50.0, 'defense': 34.0, 'special_attack': 60.0, 'special_defense': 44.0, 'speed': 70.0}, 473: {'name': 'Drifblim', 'type': 'GhostFlying', 'hp': 150.0, 'attack': 80.0, 'defense': 44.0, 'special_attack': 90.0, 'special_defense': 54.0, 'speed': 80.0}, 474: {'name': 'Buneary', 'type': 'Normal', 'hp': 55.0, 'attack': 66.0, 'defense': 44.0, 'special_attack': 44.0, 'special_defense': 56.0, 'speed': 85.0}, 475: {'name': 'Lopunny', 'type': 'Normal', 'hp': 65.0, 'attack': 76.0, 'defense': 84.0, 'special_attack': 54.0, 'special_defense': 96.0, 'speed': 105.0}, 476: {'name': 'LopunnyMega Lopunny', 'type': 'NormalFighting', 'hp': 65.0, 'attack': 136.0, 'defense': 94.0, 'special_attack': 54.0, 'special_defense': 96.0, 'speed': 135.0}, 477: {'name': 'Mismagius', 'type': 'Ghost', 'hp': 60.0, 'attack': 60.0, 'defense': 60.0, 'special_attack': 105.0, 'special_defense': 105.0, 'speed': 105.0}, 478: {'name': 'Honchkrow', 'type': 'DarkFlying', 'hp': 100.0, 'attack': 125.0, 'defense': 52.0, 'special_attack': 105.0, 'special_defense': 52.0, 'speed': 71.0}, 479: {'name': 'Glameow', 'type': 'Normal', 'hp': 49.0, 'attack': 55.0, 'defense': 42.0, 'special_attack': 42.0, 'special_defense': 37.0, 'speed': 85.0}, 480: {'name': 'Purugly', 'type': 'Normal', 'hp': 71.0, 'attack': 82.0, 'defense': 64.0, 'special_attack': 64.0, 'special_defense': 59.0, 'speed': 112.0}, 481: {'name': 'Chingling', 'type': 'Psychic', 'hp': 45.0, 'attack': 30.0, 'defense': 50.0, 'special_attack': 65.0, 'special_defense': 50.0, 'speed': 45.0}, 482: {'name': 'Stunky', 'type': 'PoisonDark', 'hp': 63.0, 'attack': 63.0, 'defense': 47.0, 'special_attack': 41.0, 'special_defense': 41.0, 'speed': 74.0}, 483: {'name': 'Skuntank', 'type': 'PoisonDark', 'hp': 103.0, 'attack': 93.0, 'defense': 67.0, 'special_attack': 71.0, 'special_defense': 61.0, 'speed': 84.0}, 484: {'name': 'Bronzor', 'type': 'SteelPsychic', 'hp': 57.0, 'attack': 24.0, 'defense': 86.0, 'special_attack': 24.0, 'special_defense': 86.0, 'speed': 23.0}, 485: {'name': 'Bronzong', 'type': 'SteelPsychic', 'hp': 67.0, 'attack': 89.0, 'defense': 116.0, 'special_attack': 79.0, 'special_defense': 116.0, 'speed': 33.0}, 486: {'name': 'Bonsly', 'type': 'Rock', 'hp': 50.0, 'attack': 80.0, 'defense': 95.0, 'special_attack': 10.0, 'special_defense': 45.0, 'speed': 10.0}, 487: {'name': 'Mime Jr.', 'type': 'PsychicFairy', 'hp': 20.0, 'attack': 25.0, 'defense': 45.0, 'special_attack': 70.0, 'special_defense': 90.0, 'speed': 60.0}, 488: {'name': 'Happiny', 'type': 'Normal', 'hp': 100.0, 'attack': 5.0, 'defense': 5.0, 'special_attack': 15.0, 'special_defense': 65.0, 'speed': 30.0}, 489: {'name': 'Chatot', 'type': 'NormalFlying', 'hp': 76.0, 'attack': 65.0, 'defense': 45.0, 'special_attack': 92.0, 'special_defense': 42.0, 'speed': 91.0}, 490: {'name': 'Spiritomb', 'type': 'GhostDark', 'hp': 50.0, 'attack': 92.0, 'defense': 108.0, 'special_attack': 92.0, 'special_defense': 108.0, 'speed': 35.0}, 491: {'name': 'Gible', 'type': 'DragonGround', 'hp': 58.0, 'attack': 70.0, 'defense': 45.0, 'special_attack': 40.0, 'special_defense': 45.0, 'speed': 42.0}, 492: {'name': 'Gabite', 'type': 'DragonGround', 'hp': 68.0, 'attack': 90.0, 'defense': 65.0, 'special_attack': 50.0, 'special_defense': 55.0, 'speed': 82.0}, 493: {'name': 'Garchomp', 'type': 'DragonGround', 'hp': 108.0, 'attack': 130.0, 'defense': 95.0, 'special_attack': 80.0, 'special_defense': 85.0, 'speed': 102.0}, 494: {'name': 'GarchompMega Garchomp', 'type': 'DragonGround', 'hp': 108.0, 'attack': 170.0, 'defense': 115.0, 'special_attack': 120.0, 'special_defense': 95.0, 'speed': 92.0}, 495: {'name': 'Munchlax', 'type': 'Normal', 'hp': 135.0, 'attack': 85.0, 'defense': 40.0, 'special_attack': 40.0, 'special_defense': 85.0, 'speed': 5.0}, 496: {'name': 'Riolu', 'type': 'Fighting', 'hp': 40.0, 'attack': 70.0, 'defense': 40.0, 'special_attack': 35.0, 'special_defense': 40.0, 'speed': 60.0}, 497: {'name': 'Lucario', 'type': 'FightingSteel', 'hp': 70.0, 'attack': 110.0, 'defense': 70.0, 'special_attack': 115.0, 'special_defense': 70.0, 'speed': 90.0}, 498: {'name': 'LucarioMega Lucario', 'type': 'FightingSteel', 'hp': 70.0, 'attack': 145.0, 'defense': 88.0, 'special_attack': 140.0, 'special_defense': 70.0, 'speed': 112.0}, 499: {'name': 'Hippopotas', 'type': 'Ground', 'hp': 68.0, 'attack': 72.0, 'defense': 78.0, 'special_attack': 38.0, 'special_defense': 42.0, 'speed': 32.0}, 500: {'name': 'Hippowdon', 'type': 'Ground', 'hp': 108.0, 'attack': 112.0, 'defense': 118.0, 'special_attack': 68.0, 'special_defense': 72.0, 'speed': 47.0}, 501: {'name': 'Skorupi', 'type': 'PoisonBug', 'hp': 40.0, 'attack': 50.0, 'defense': 90.0, 'special_attack': 30.0, 'special_defense': 55.0, 'speed': 65.0}, 502: {'name': 'Drapion', 'type': 'PoisonDark', 'hp': 70.0, 'attack': 90.0, 'defense': 110.0, 'special_attack': 60.0, 'special_defense': 75.0, 'speed': 95.0}, 503: {'name': 'Croagunk', 'type': 'PoisonFighting', 'hp': 48.0, 'attack': 61.0, 'defense': 40.0, 'special_attack': 61.0, 'special_defense': 40.0, 'speed': 50.0}, 504: {'name': 'Toxicroak', 'type': 'PoisonFighting', 'hp': 83.0, 'attack': 106.0, 'defense': 65.0, 'special_attack': 86.0, 'special_defense': 65.0, 'speed': 85.0}, 505: {'name': 'Carnivine', 'type': 'Grass', 'hp': 74.0, 'attack': 100.0, 'defense': 72.0, 'special_attack': 90.0, 'special_defense': 72.0, 'speed': 46.0}, 506: {'name': 'Finneon', 'type': 'Water', 'hp': 49.0, 'attack': 49.0, 'defense': 56.0, 'special_attack': 49.0, 'special_defense': 61.0, 'speed': 66.0}, 507: {'name': 'Lumineon', 'type': 'Water', 'hp': 69.0, 'attack': 69.0, 'defense': 76.0, 'special_attack': 69.0, 'special_defense': 86.0, 'speed': 91.0}, 508: {'name': 'Mantyke', 'type': 'WaterFlying', 'hp': 45.0, 'attack': 20.0, 'defense': 50.0, 'special_attack': 60.0, 'special_defense': 120.0, 'speed': 50.0}, 509: {'name': 'Snover', 'type': 'GrassIce', 'hp': 60.0, 'attack': 62.0, 'defense': 50.0, 'special_attack': 62.0, 'special_defense': 60.0, 'speed': 40.0}, 510: {'name': 'Abomasnow', 'type': 'GrassIce', 'hp': 90.0, 'attack': 92.0, 'defense': 75.0, 'special_attack': 92.0, 'special_defense': 85.0, 'speed': 60.0}, 511: {'name': 'AbomasnowMega Abomasnow', 'type': 'GrassIce', 'hp': 90.0, 'attack': 132.0, 'defense': 105.0, 'special_attack': 132.0, 'special_defense': 105.0, 'speed': 30.0}, 512: {'name': 'Weavile', 'type': 'DarkIce', 'hp': 70.0, 'attack': 120.0, 'defense': 65.0, 'special_attack': 45.0, 'special_defense': 85.0, 'speed': 125.0}, 513: {'name': 'Magnezone', 'type': 'ElectricSteel', 'hp': 70.0, 'attack': 70.0, 'defense': 115.0, 'special_attack': 130.0, 'special_defense': 90.0, 'speed': 60.0}, 514: {'name': 'Lickilicky', 'type': 'Normal', 'hp': 110.0, 'attack': 85.0, 'defense': 95.0, 'special_attack': 80.0, 'special_defense': 95.0, 'speed': 50.0}, 515: {'name': 'Rhyperior', 'type': 'GroundRock', 'hp': 115.0, 'attack': 140.0, 'defense': 130.0, 'special_attack': 55.0, 'special_defense': 55.0, 'speed': 40.0}, 516: {'name': 'Tangrowth', 'type': 'Grass', 'hp': 100.0, 'attack': 100.0, 'defense': 125.0, 'special_attack': 110.0, 'special_defense': 50.0, 'speed': 50.0}, 517: {'name': 'Electivire', 'type': 'Electric', 'hp': 75.0, 'attack': 123.0, 'defense': 67.0, 'special_attack': 95.0, 'special_defense': 85.0, 'speed': 95.0}, 518: {'name': 'Magmortar', 'type': 'Fire', 'hp': 75.0, 'attack': 95.0, 'defense': 67.0, 'special_attack': 125.0, 'special_defense': 95.0, 'speed': 83.0}, 519: {'name': 'Togekiss', 'type': 'FairyFlying', 'hp': 85.0, 'attack': 50.0, 'defense': 95.0, 'special_attack': 120.0, 'special_defense': 115.0, 'speed': 80.0}, 520: {'name': 'Yanmega', 'type': 'BugFlying', 'hp': 86.0, 'attack': 76.0, 'defense': 86.0, 'special_attack': 116.0, 'special_defense': 56.0, 'speed': 95.0}, 521: {'name': 'Leafeon', 'type': 'Grass', 'hp': 65.0, 'attack': 110.0, 'defense': 130.0, 'special_attack': 60.0, 'special_defense': 65.0, 'speed': 95.0}, 522: {'name': 'Glaceon', 'type': 'Ice', 'hp': 65.0, 'attack': 60.0, 'defense': 110.0, 'special_attack': 130.0, 'special_defense': 95.0, 'speed': 65.0}, 523: {'name': 'Gliscor', 'type': 'GroundFlying', 'hp': 75.0, 'attack': 95.0, 'defense': 125.0, 'special_attack': 45.0, 'special_defense': 75.0, 'speed': 95.0}, 524: {'name': 'Mamoswine', 'type': 'IceGround', 'hp': 110.0, 'attack': 130.0, 'defense': 80.0, 'special_attack': 70.0, 'special_defense': 60.0, 'speed': 80.0}, 525: {'name': 'Porygon-Z', 'type': 'Normal', 'hp': 85.0, 'attack': 80.0, 'defense': 70.0, 'special_attack': 135.0, 'special_defense': 75.0, 'speed': 90.0}, 526: {'name': 'Gallade', 'type': 'PsychicFighting', 'hp': 68.0, 'attack': 125.0, 'defense': 65.0, 'special_attack': 65.0, 'special_defense': 115.0, 'speed': 80.0}, 527: {'name': 'GalladeMega Gallade', 'type': 'PsychicFighting', 'hp': 68.0, 'attack': 165.0, 'defense': 95.0, 'special_attack': 65.0, 'special_defense': 115.0, 'speed': 110.0}, 528: {'name': 'Probopass', 'type': 'RockSteel', 'hp': 60.0, 'attack': 55.0, 'defense': 145.0, 'special_attack': 75.0, 'special_defense': 150.0, 'speed': 40.0}, 529: {'name': 'Dusknoir', 'type': 'Ghost', 'hp': 45.0, 'attack': 100.0, 'defense': 135.0, 'special_attack': 65.0, 'special_defense': 135.0, 'speed': 45.0}, 530: {'name': 'Froslass', 'type': 'IceGhost', 'hp': 70.0, 'attack': 80.0, 'defense': 70.0, 'special_attack': 80.0, 'special_defense': 70.0, 'speed': 110.0}, 531: {'name': 'Rotom', 'type': 'ElectricGhost', 'hp': 50.0, 'attack': 50.0, 'defense': 77.0, 'special_attack': 95.0, 'special_defense': 77.0, 'speed': 91.0}, 532: {'name': 'RotomHeat Rotom', 'type': 'ElectricFire', 'hp': 50.0, 'attack': 65.0, 'defense': 107.0, 'special_attack': 105.0, 'special_defense': 107.0, 'speed': 86.0}, 533: {'name': 'RotomWash Rotom', 'type': 'ElectricWater', 'hp': 50.0, 'attack': 65.0, 'defense': 107.0, 'special_attack': 105.0, 'special_defense': 107.0, 'speed': 86.0}, 534: {'name': 'RotomFrost Rotom', 'type': 'ElectricIce', 'hp': 50.0, 'attack': 65.0, 'defense': 107.0, 'special_attack': 105.0, 'special_defense': 107.0, 'speed': 86.0}, 535: {'name': 'RotomFan Rotom', 'type': 'ElectricFlying', 'hp': 50.0, 'attack': 65.0, 'defense': 107.0, 'special_attack': 105.0, 'special_defense': 107.0, 'speed': 86.0}, 536: {'name': 'RotomMow Rotom', 'type': 'ElectricGrass', 'hp': 50.0, 'attack': 65.0, 'defense': 107.0, 'special_attack': 105.0, 'special_defense': 107.0, 'speed': 86.0}, 537: {'name': 'Uxie', 'type': 'Psychic', 'hp': 75.0, 'attack': 75.0, 'defense': 130.0, 'special_attack': 75.0, 'special_defense': 130.0, 'speed': 95.0}, 538: {'name': 'Mesprit', 'type': 'Psychic', 'hp': 80.0, 'attack': 105.0, 'defense': 105.0, 'special_attack': 105.0, 'special_defense': 105.0, 'speed': 80.0}, 539: {'name': 'Azelf', 'type': 'Psychic', 'hp': 75.0, 'attack': 125.0, 'defense': 70.0, 'special_attack': 125.0, 'special_defense': 70.0, 'speed': 115.0}, 540: {'name': 'Dialga', 'type': 'SteelDragon', 'hp': 100.0, 'attack': 120.0, 'defense': 120.0, 'special_attack': 150.0, 'special_defense': 100.0, 'speed': 90.0}, 541: {'name': 'Palkia', 'type': 'WaterDragon', 'hp': 90.0, 'attack': 120.0, 'defense': 100.0, 'special_attack': 150.0, 'special_defense': 120.0, 'speed': 100.0}, 542: {'name': 'Heatran', 'type': 'FireSteel', 'hp': 91.0, 'attack': 90.0, 'defense': 106.0, 'special_attack': 130.0, 'special_defense': 106.0, 'speed': 77.0}, 543: {'name': 'Regigigas', 'type': 'Normal', 'hp': 110.0, 'attack': 160.0, 'defense': 110.0, 'special_attack': 80.0, 'special_defense': 110.0, 'speed': 100.0}, 544: {'name': 'GiratinaAltered Forme', 'type': 'GhostDragon', 'hp': 150.0, 'attack': 100.0, 'defense': 120.0, 'special_attack': 100.0, 'special_defense': 120.0, 'speed': 90.0}, 545: {'name': 'GiratinaOrigin Forme', 'type': 'GhostDragon', 'hp': 150.0, 'attack': 120.0, 'defense': 100.0, 'special_attack': 120.0, 'special_defense': 100.0, 'speed': 90.0}, 546: {'name': 'Cresselia', 'type': 'Psychic', 'hp': 120.0, 'attack': 70.0, 'defense': 120.0, 'special_attack': 75.0, 'special_defense': 130.0, 'speed': 85.0}, 547: {'name': 'Phione', 'type': 'Water', 'hp': 80.0, 'attack': 80.0, 'defense': 80.0, 'special_attack': 80.0, 'special_defense': 80.0, 'speed': 80.0}, 548: {'name': 'Manaphy', 'type': 'Water', 'hp': 100.0, 'attack': 100.0, 'defense': 100.0, 'special_attack': 100.0, 'special_defense': 100.0, 'speed': 100.0}, 549: {'name': 'Darkrai', 'type': 'Dark', 'hp': 70.0, 'attack': 90.0, 'defense': 90.0, 'special_attack': 135.0, 'special_defense': 90.0, 'speed': 125.0}, 550: {'name': 'ShayminLand Forme', 'type': 'Grass', 'hp': 100.0, 'attack': 100.0, 'defense': 100.0, 'special_attack': 100.0, 'special_defense': 100.0, 'speed': 100.0}, 551: {'name': 'ShayminSky Forme', 'type': 'GrassFlying', 'hp': 100.0, 'attack': 103.0, 'defense': 75.0, 'special_attack': 120.0, 'special_defense': 75.0, 'speed': 127.0}, 552: {'name': 'Arceus', 'type': 'Normal', 'hp': 120.0, 'attack': 120.0, 'defense': 120.0, 'special_attack': 120.0, 'special_defense': 120.0, 'speed': 120.0}, 553: {'name': 'Victini', 'type': 'PsychicFire', 'hp': 100.0, 'attack': 100.0, 'defense': 100.0, 'special_attack': 100.0, 'special_defense': 100.0, 'speed': 100.0}, 554: {'name': 'Snivy', 'type': 'Grass', 'hp': 45.0, 'attack': 45.0, 'defense': 55.0, 'special_attack': 45.0, 'special_defense': 55.0, 'speed': 63.0}, 555: {'name': 'Servine', 'type': 'Grass', 'hp': 60.0, 'attack': 60.0, 'defense': 75.0, 'special_attack': 60.0, 'special_defense': 75.0, 'speed': 83.0}, 556: {'name': 'Serperior', 'type': 'Grass', 'hp': 75.0, 'attack': 75.0, 'defense': 95.0, 'special_attack': 75.0, 'special_defense': 95.0, 'speed': 113.0}, 557: {'name': 'Tepig', 'type': 'Fire', 'hp': 65.0, 'attack': 63.0, 'defense': 45.0, 'special_attack': 45.0, 'special_defense': 45.0, 'speed': 45.0}, 558: {'name': 'Pignite', 'type': 'FireFighting', 'hp': 90.0, 'attack': 93.0, 'defense': 55.0, 'special_attack': 70.0, 'special_defense': 55.0, 'speed': 55.0}, 559: {'name': 'Emboar', 'type': 'FireFighting', 'hp': 110.0, 'attack': 123.0, 'defense': 65.0, 'special_attack': 100.0, 'special_defense': 65.0, 'speed': 65.0}, 560: {'name': 'Oshawott', 'type': 'Water', 'hp': 55.0, 'attack': 55.0, 'defense': 45.0, 'special_attack': 63.0, 'special_defense': 45.0, 'speed': 45.0}, 561: {'name': 'Dewott', 'type': 'Water', 'hp': 75.0, 'attack': 75.0, 'defense': 60.0, 'special_attack': 83.0, 'special_defense': 60.0, 'speed': 60.0}, 562: {'name': 'Samurott', 'type': 'Water', 'hp': 95.0, 'attack': 100.0, 'defense': 85.0, 'special_attack': 108.0, 'special_defense': 70.0, 'speed': 70.0}, 563: {'name': 'Patrat', 'type': 'Normal', 'hp': 45.0, 'attack': 55.0, 'defense': 39.0, 'special_attack': 35.0, 'special_defense': 39.0, 'speed': 42.0}, 564: {'name': 'Watchog', 'type': 'Normal', 'hp': 60.0, 'attack': 85.0, 'defense': 69.0, 'special_attack': 60.0, 'special_defense': 69.0, 'speed': 77.0}, 565: {'name': 'Lillipup', 'type': 'Normal', 'hp': 45.0, 'attack': 60.0, 'defense': 45.0, 'special_attack': 25.0, 'special_defense': 45.0, 'speed': 55.0}, 566: {'name': 'Herdier', 'type': 'Normal', 'hp': 65.0, 'attack': 80.0, 'defense': 65.0, 'special_attack': 35.0, 'special_defense': 65.0, 'speed': 60.0}, 567: {'name': 'Stoutland', 'type': 'Normal', 'hp': 85.0, 'attack': 110.0, 'defense': 90.0, 'special_attack': 45.0, 'special_defense': 90.0, 'speed': 80.0}, 568: {'name': 'Purrloin', 'type': 'Dark', 'hp': 41.0, 'attack': 50.0, 'defense': 37.0, 'special_attack': 50.0, 'special_defense': 37.0, 'speed': 66.0}, 569: {'name': 'Liepard', 'type': 'Dark', 'hp': 64.0, 'attack': 88.0, 'defense': 50.0, 'special_attack': 88.0, 'special_defense': 50.0, 'speed': 106.0}, 570: {'name': 'Pansage', 'type': 'Grass', 'hp': 50.0, 'attack': 53.0, 'defense': 48.0, 'special_attack': 53.0, 'special_defense': 48.0, 'speed': 64.0}, 571: {'name': 'Simisage', 'type': 'Grass', 'hp': 75.0, 'attack': 98.0, 'defense': 63.0, 'special_attack': 98.0, 'special_defense': 63.0, 'speed': 101.0}, 572: {'name': 'Pansear', 'type': 'Fire', 'hp': 50.0, 'attack': 53.0, 'defense': 48.0, 'special_attack': 53.0, 'special_defense': 48.0, 'speed': 64.0}, 573: {'name': 'Simisear', 'type': 'Fire', 'hp': 75.0, 'attack': 98.0, 'defense': 63.0, 'special_attack': 98.0, 'special_defense': 63.0, 'speed': 101.0}, 574: {'name': 'Panpour', 'type': 'Water', 'hp': 50.0, 'attack': 53.0, 'defense': 48.0, 'special_attack': 53.0, 'special_defense': 48.0, 'speed': 64.0}, 575: {'name': 'Simipour', 'type': 'Water', 'hp': 75.0, 'attack': 98.0, 'defense': 63.0, 'special_attack': 98.0, 'special_defense': 63.0, 'speed': 101.0}, 576: {'name': 'Munna', 'type': 'Psychic', 'hp': 76.0, 'attack': 25.0, 'defense': 45.0, 'special_attack': 67.0, 'special_defense': 55.0, 'speed': 24.0}, 577: {'name': 'Musharna', 'type': 'Psychic', 'hp': 116.0, 'attack': 55.0, 'defense': 85.0, 'special_attack': 107.0, 'special_defense': 95.0, 'speed': 29.0}, 578: {'name': 'Pidove', 'type': 'NormalFlying', 'hp': 50.0, 'attack': 55.0, 'defense': 50.0, 'special_attack': 36.0, 'special_defense': 30.0, 'speed': 43.0}, 579: {'name': 'Tranquill', 'type': 'NormalFlying', 'hp': 62.0, 'attack': 77.0, 'defense': 62.0, 'special_attack': 50.0, 'special_defense': 42.0, 'speed': 65.0}, 580: {'name': 'Unfezant', 'type': 'NormalFlying', 'hp': 80.0, 'attack': 115.0, 'defense': 80.0, 'special_attack': 65.0, 'special_defense': 55.0, 'speed': 93.0}, 581: {'name': 'Blitzle', 'type': 'Electric', 'hp': 45.0, 'attack': 60.0, 'defense': 32.0, 'special_attack': 50.0, 'special_defense': 32.0, 'speed': 76.0}, 582: {'name': 'Zebstrika', 'type': 'Electric', 'hp': 75.0, 'attack': 100.0, 'defense': 63.0, 'special_attack': 80.0, 'special_defense': 63.0, 'speed': 116.0}, 583: {'name': 'Roggenrola', 'type': 'Rock', 'hp': 55.0, 'attack': 75.0, 'defense': 85.0, 'special_attack': 25.0, 'special_defense': 25.0, 'speed': 15.0}, 584: {'name': 'Boldore', 'type': 'Rock', 'hp': 70.0, 'attack': 105.0, 'defense': 105.0, 'special_attack': 50.0, 'special_defense': 40.0, 'speed': 20.0}, 585: {'name': 'Gigalith', 'type': 'Rock', 'hp': 85.0, 'attack': 135.0, 'defense': 130.0, 'special_attack': 60.0, 'special_defense': 80.0, 'speed': 25.0}, 586: {'name': 'Woobat', 'type': 'PsychicFlying', 'hp': 55.0, 'attack': 45.0, 'defense': 43.0, 'special_attack': 55.0, 'special_defense': 43.0, 'speed': 72.0}, 587: {'name': 'Swoobat', 'type': 'PsychicFlying', 'hp': 67.0, 'attack': 57.0, 'defense': 55.0, 'special_attack': 77.0, 'special_defense': 55.0, 'speed': 114.0}, 588: {'name': 'Drilbur', 'type': 'Ground', 'hp': 60.0, 'attack': 85.0, 'defense': 40.0, 'special_attack': 30.0, 'special_defense': 45.0, 'speed': 68.0}, 589: {'name': 'Excadrill', 'type': 'GroundSteel', 'hp': 110.0, 'attack': 135.0, 'defense': 60.0, 'special_attack': 50.0, 'special_defense': 65.0, 'speed': 88.0}, 590: {'name': 'Audino', 'type': 'Normal', 'hp': 103.0, 'attack': 60.0, 'defense': 86.0, 'special_attack': 60.0, 'special_defense': 86.0, 'speed': 50.0}, 591: {'name': 'AudinoMega Audino', 'type': 'NormalFairy', 'hp': 103.0, 'attack': 60.0, 'defense': 126.0, 'special_attack': 80.0, 'special_defense': 126.0, 'speed': 50.0}, 592: {'name': 'Timburr', 'type': 'Fighting', 'hp': 75.0, 'attack': 80.0, 'defense': 55.0, 'special_attack': 25.0, 'special_defense': 35.0, 'speed': 35.0}, 593: {'name': 'Gurdurr', 'type': 'Fighting', 'hp': 85.0, 'attack': 105.0, 'defense': 85.0, 'special_attack': 40.0, 'special_defense': 50.0, 'speed': 40.0}, 594: {'name': 'Conkeldurr', 'type': 'Fighting', 'hp': 105.0, 'attack': 140.0, 'defense': 95.0, 'special_attack': 55.0, 'special_defense': 65.0, 'speed': 45.0}, 595: {'name': 'Tympole', 'type': 'Water', 'hp': 50.0, 'attack': 50.0, 'defense': 40.0, 'special_attack': 50.0, 'special_defense': 40.0, 'speed': 64.0}, 596: {'name': 'Palpitoad', 'type': 'WaterGround', 'hp': 75.0, 'attack': 65.0, 'defense': 55.0, 'special_attack': 65.0, 'special_defense': 55.0, 'speed': 69.0}, 597: {'name': 'Seismitoad', 'type': 'WaterGround', 'hp': 105.0, 'attack': 95.0, 'defense': 75.0, 'special_attack': 85.0, 'special_defense': 75.0, 'speed': 74.0}, 598: {'name': 'Throh', 'type': 'Fighting', 'hp': 120.0, 'attack': 100.0, 'defense': 85.0, 'special_attack': 30.0, 'special_defense': 85.0, 'speed': 45.0}, 599: {'name': 'Sawk', 'type': 'Fighting', 'hp': 75.0, 'attack': 125.0, 'defense': 75.0, 'special_attack': 30.0, 'special_defense': 75.0, 'speed': 85.0}, 600: {'name': 'Sewaddle', 'type': 'BugGrass', 'hp': 45.0, 'attack': 53.0, 'defense': 70.0, 'special_attack': 40.0, 'special_defense': 60.0, 'speed': 42.0}, 601: {'name': 'Swadloon', 'type': 'BugGrass', 'hp': 55.0, 'attack': 63.0, 'defense': 90.0, 'special_attack': 50.0, 'special_defense': 80.0, 'speed': 42.0}, 602: {'name': 'Leavanny', 'type': 'BugGrass', 'hp': 75.0, 'attack': 103.0, 'defense': 80.0, 'special_attack': 70.0, 'special_defense': 80.0, 'speed': 92.0}, 603: {'name': 'Venipede', 'type': 'BugPoison', 'hp': 30.0, 'attack': 45.0, 'defense': 59.0, 'special_attack': 30.0, 'special_defense': 39.0, 'speed': 57.0}, 604: {'name': 'Whirlipede', 'type': 'BugPoison', 'hp': 40.0, 'attack': 55.0, 'defense': 99.0, 'special_attack': 40.0, 'special_defense': 79.0, 'speed': 47.0}, 605: {'name': 'Scolipede', 'type': 'BugPoison', 'hp': 60.0, 'attack': 100.0, 'defense': 89.0, 'special_attack': 55.0, 'special_defense': 69.0, 'speed': 112.0}, 606: {'name': 'Cottonee', 'type': 'GrassFairy', 'hp': 40.0, 'attack': 27.0, 'defense': 60.0, 'special_attack': 37.0, 'special_defense': 50.0, 'speed': 66.0}, 607: {'name': 'Whimsicott', 'type': 'GrassFairy', 'hp': 60.0, 'attack': 67.0, 'defense': 85.0, 'special_attack': 77.0, 'special_defense': 75.0, 'speed': 116.0}, 608: {'name': 'Petilil', 'type': 'Grass', 'hp': 45.0, 'attack': 35.0, 'defense': 50.0, 'special_attack': 70.0, 'special_defense': 50.0, 'speed': 30.0}, 609: {'name': 'Lilligant', 'type': 'Grass', 'hp': 70.0, 'attack': 60.0, 'defense': 75.0, 'special_attack': 110.0, 'special_defense': 75.0, 'speed': 90.0}, 610: {'name': 'Basculin', 'type': 'Water', 'hp': 70.0, 'attack': 92.0, 'defense': 65.0, 'special_attack': 80.0, 'special_defense': 55.0, 'speed': 98.0}, 611: {'name': 'Sandile', 'type': 'GroundDark', 'hp': 50.0, 'attack': 72.0, 'defense': 35.0, 'special_attack': 35.0, 'special_defense': 35.0, 'speed': 65.0}, 612: {'name': 'Krokorok', 'type': 'GroundDark', 'hp': 60.0, 'attack': 82.0, 'defense': 45.0, 'special_attack': 45.0, 'special_defense': 45.0, 'speed': 74.0}, 613: {'name': 'Krookodile', 'type': 'GroundDark', 'hp': 95.0, 'attack': 117.0, 'defense': 80.0, 'special_attack': 65.0, 'special_defense': 70.0, 'speed': 92.0}, 614: {'name': 'Darumaka', 'type': 'Fire', 'hp': 70.0, 'attack': 90.0, 'defense': 45.0, 'special_attack': 15.0, 'special_defense': 45.0, 'speed': 50.0}, 615: {'name': 'DarmanitanStandard Mode', 'type': 'Fire', 'hp': 105.0, 'attack': 140.0, 'defense': 55.0, 'special_attack': 30.0, 'special_defense': 55.0, 'speed': 95.0}, 616: {'name': 'DarmanitanZen Mode', 'type': 'FirePsychic', 'hp': 105.0, 'attack': 30.0, 'defense': 105.0, 'special_attack': 140.0, 'special_defense': 105.0, 'speed': 55.0}, 617: {'name': 'Maractus', 'type': 'Grass', 'hp': 75.0, 'attack': 86.0, 'defense': 67.0, 'special_attack': 106.0, 'special_defense': 67.0, 'speed': 60.0}, 618: {'name': 'Dwebble', 'type': 'BugRock', 'hp': 50.0, 'attack': 65.0, 'defense': 85.0, 'special_attack': 35.0, 'special_defense': 35.0, 'speed': 55.0}, 619: {'name': 'Crustle', 'type': 'BugRock', 'hp': 70.0, 'attack': 95.0, 'defense': 125.0, 'special_attack': 65.0, 'special_defense': 75.0, 'speed': 45.0}, 620: {'name': 'Scraggy', 'type': 'DarkFighting', 'hp': 50.0, 'attack': 75.0, 'defense': 70.0, 'special_attack': 35.0, 'special_defense': 70.0, 'speed': 48.0}, 621: {'name': 'Scrafty', 'type': 'DarkFighting', 'hp': 65.0, 'attack': 90.0, 'defense': 115.0, 'special_attack': 45.0, 'special_defense': 115.0, 'speed': 58.0}, 622: {'name': 'Sigilyph', 'type': 'PsychicFlying', 'hp': 72.0, 'attack': 58.0, 'defense': 80.0, 'special_attack': 103.0, 'special_defense': 80.0, 'speed': 97.0}, 623: {'name': 'Yamask', 'type': 'Ghost', 'hp': 38.0, 'attack': 30.0, 'defense': 85.0, 'special_attack': 55.0, 'special_defense': 65.0, 'speed': 30.0}, 624: {'name': 'Cofagrigus', 'type': 'Ghost', 'hp': 58.0, 'attack': 50.0, 'defense': 145.0, 'special_attack': 95.0, 'special_defense': 105.0, 'speed': 30.0}, 625: {'name': 'Tirtouga', 'type': 'WaterRock', 'hp': 54.0, 'attack': 78.0, 'defense': 103.0, 'special_attack': 53.0, 'special_defense': 45.0, 'speed': 22.0}, 626: {'name': 'Carracosta', 'type': 'WaterRock', 'hp': 74.0, 'attack': 108.0, 'defense': 133.0, 'special_attack': 83.0, 'special_defense': 65.0, 'speed': 32.0}, 627: {'name': 'Archen', 'type': 'RockFlying', 'hp': 55.0, 'attack': 112.0, 'defense': 45.0, 'special_attack': 74.0, 'special_defense': 45.0, 'speed': 70.0}, 628: {'name': 'Archeops', 'type': 'RockFlying', 'hp': 75.0, 'attack': 140.0, 'defense': 65.0, 'special_attack': 112.0, 'special_defense': 65.0, 'speed': 110.0}, 629: {'name': 'Trubbish', 'type': 'Poison', 'hp': 50.0, 'attack': 50.0, 'defense': 62.0, 'special_attack': 40.0, 'special_defense': 62.0, 'speed': 65.0}, 630: {'name': 'Garbodor', 'type': 'Poison', 'hp': 80.0, 'attack': 95.0, 'defense': 82.0, 'special_attack': 60.0, 'special_defense': 82.0, 'speed': 75.0}, 631: {'name': 'Zorua', 'type': 'Dark', 'hp': 40.0, 'attack': 65.0, 'defense': 40.0, 'special_attack': 80.0, 'special_defense': 40.0, 'speed': 65.0}, 632: {'name': 'Zoroark', 'type': 'Dark', 'hp': 60.0, 'attack': 105.0, 'defense': 60.0, 'special_attack': 120.0, 'special_defense': 60.0, 'speed': 105.0}, 633: {'name': 'Minccino', 'type': 'Normal', 'hp': 55.0, 'attack': 50.0, 'defense': 40.0, 'special_attack': 40.0, 'special_defense': 40.0, 'speed': 75.0}, 634: {'name': 'Cinccino', 'type': 'Normal', 'hp': 75.0, 'attack': 95.0, 'defense': 60.0, 'special_attack': 65.0, 'special_defense': 60.0, 'speed': 115.0}, 635: {'name': 'Gothita', 'type': 'Psychic', 'hp': 45.0, 'attack': 30.0, 'defense': 50.0, 'special_attack': 55.0, 'special_defense': 65.0, 'speed': 45.0}, 636: {'name': 'Gothorita', 'type': 'Psychic', 'hp': 60.0, 'attack': 45.0, 'defense': 70.0, 'special_attack': 75.0, 'special_defense': 85.0, 'speed': 55.0}, 637: {'name': 'Gothitelle', 'type': 'Psychic', 'hp': 70.0, 'attack': 55.0, 'defense': 95.0, 'special_attack': 95.0, 'special_defense': 110.0, 'speed': 65.0}, 638: {'name': 'Solosis', 'type': 'Psychic', 'hp': 45.0, 'attack': 30.0, 'defense': 40.0, 'special_attack': 105.0, 'special_defense': 50.0, 'speed': 20.0}, 639: {'name': 'Duosion', 'type': 'Psychic', 'hp': 65.0, 'attack': 40.0, 'defense': 50.0, 'special_attack': 125.0, 'special_defense': 60.0, 'speed': 30.0}, 640: {'name': 'Reuniclus', 'type': 'Psychic', 'hp': 110.0, 'attack': 65.0, 'defense': 75.0, 'special_attack': 125.0, 'special_defense': 85.0, 'speed': 30.0}, 641: {'name': 'Ducklett', 'type': 'WaterFlying', 'hp': 62.0, 'attack': 44.0, 'defense': 50.0, 'special_attack': 44.0, 'special_defense': 50.0, 'speed': 55.0}, 642: {'name': 'Swanna', 'type': 'WaterFlying', 'hp': 75.0, 'attack': 87.0, 'defense': 63.0, 'special_attack': 87.0, 'special_defense': 63.0, 'speed': 98.0}, 643: {'name': 'Vanillite', 'type': 'Ice', 'hp': 36.0, 'attack': 50.0, 'defense': 50.0, 'special_attack': 65.0, 'special_defense': 60.0, 'speed': 44.0}, 644: {'name': 'Vanillish', 'type': 'Ice', 'hp': 51.0, 'attack': 65.0, 'defense': 65.0, 'special_attack': 80.0, 'special_defense': 75.0, 'speed': 59.0}, 645: {'name': 'Vanilluxe', 'type': 'Ice', 'hp': 71.0, 'attack': 95.0, 'defense': 85.0, 'special_attack': 110.0, 'special_defense': 95.0, 'speed': 79.0}, 646: {'name': 'Deerling', 'type': 'NormalGrass', 'hp': 60.0, 'attack': 60.0, 'defense': 50.0, 'special_attack': 40.0, 'special_defense': 50.0, 'speed': 75.0}, 647: {'name': 'Sawsbuck', 'type': 'NormalGrass', 'hp': 80.0, 'attack': 100.0, 'defense': 70.0, 'special_attack': 60.0, 'special_defense': 70.0, 'speed': 95.0}, 648: {'name': 'Emolga', 'type': 'ElectricFlying', 'hp': 55.0, 'attack': 75.0, 'defense': 60.0, 'special_attack': 75.0, 'special_defense': 60.0, 'speed': 103.0}, 649: {'name': 'Karrablast', 'type': 'Bug', 'hp': 50.0, 'attack': 75.0, 'defense': 45.0, 'special_attack': 40.0, 'special_defense': 45.0, 'speed': 60.0}, 650: {'name': 'Escavalier', 'type': 'BugSteel', 'hp': 70.0, 'attack': 135.0, 'defense': 105.0, 'special_attack': 60.0, 'special_defense': 105.0, 'speed': 20.0}, 651: {'name': 'Foongus', 'type': 'GrassPoison', 'hp': 69.0, 'attack': 55.0, 'defense': 45.0, 'special_attack': 55.0, 'special_defense': 55.0, 'speed': 15.0}, 652: {'name': 'Amoonguss', 'type': 'GrassPoison', 'hp': 114.0, 'attack': 85.0, 'defense': 70.0, 'special_attack': 85.0, 'special_defense': 80.0, 'speed': 30.0}, 653: {'name': 'Frillish', 'type': 'WaterGhost', 'hp': 55.0, 'attack': 40.0, 'defense': 50.0, 'special_attack': 65.0, 'special_defense': 85.0, 'speed': 40.0}, 654: {'name': 'Jellicent', 'type': 'WaterGhost', 'hp': 100.0, 'attack': 60.0, 'defense': 70.0, 'special_attack': 85.0, 'special_defense': 105.0, 'speed': 60.0}, 655: {'name': 'Alomomola', 'type': 'Water', 'hp': 165.0, 'attack': 75.0, 'defense': 80.0, 'special_attack': 40.0, 'special_defense': 45.0, 'speed': 65.0}, 656: {'name': 'Joltik', 'type': 'BugElectric', 'hp': 50.0, 'attack': 47.0, 'defense': 50.0, 'special_attack': 57.0, 'special_defense': 50.0, 'speed': 65.0}, 657: {'name': 'Galvantula', 'type': 'BugElectric', 'hp': 70.0, 'attack': 77.0, 'defense': 60.0, 'special_attack': 97.0, 'special_defense': 60.0, 'speed': 108.0}, 658: {'name': 'Ferroseed', 'type': 'GrassSteel', 'hp': 44.0, 'attack': 50.0, 'defense': 91.0, 'special_attack': 24.0, 'special_defense': 86.0, 'speed': 10.0}, 659: {'name': 'Ferrothorn', 'type': 'GrassSteel', 'hp': 74.0, 'attack': 94.0, 'defense': 131.0, 'special_attack': 54.0, 'special_defense': 116.0, 'speed': 20.0}, 660: {'name': 'Klink', 'type': 'Steel', 'hp': 40.0, 'attack': 55.0, 'defense': 70.0, 'special_attack': 45.0, 'special_defense': 60.0, 'speed': 30.0}, 661: {'name': 'Klang', 'type': 'Steel', 'hp': 60.0, 'attack': 80.0, 'defense': 95.0, 'special_attack': 70.0, 'special_defense': 85.0, 'speed': 50.0}, 662: {'name': 'Klinklang', 'type': 'Steel', 'hp': 60.0, 'attack': 100.0, 'defense': 115.0, 'special_attack': 70.0, 'special_defense': 85.0, 'speed': 90.0}, 663: {'name': 'Tynamo', 'type': 'Electric', 'hp': 35.0, 'attack': 55.0, 'defense': 40.0, 'special_attack': 45.0, 'special_defense': 40.0, 'speed': 60.0}, 664: {'name': 'Eelektrik', 'type': 'Electric', 'hp': 65.0, 'attack': 85.0, 'defense': 70.0, 'special_attack': 75.0, 'special_defense': 70.0, 'speed': 40.0}, 665: {'name': 'Eelektross', 'type': 'Electric', 'hp': 85.0, 'attack': 115.0, 'defense': 80.0, 'special_attack': 105.0, 'special_defense': 80.0, 'speed': 50.0}, 666: {'name': 'Elgyem', 'type': 'Psychic', 'hp': 55.0, 'attack': 55.0, 'defense': 55.0, 'special_attack': 85.0, 'special_defense': 55.0, 'speed': 30.0}, 667: {'name': 'Beheeyem', 'type': 'Psychic', 'hp': 75.0, 'attack': 75.0, 'defense': 75.0, 'special_attack': 125.0, 'special_defense': 95.0, 'speed': 40.0}, 668: {'name': 'Litwick', 'type': 'GhostFire', 'hp': 50.0, 'attack': 30.0, 'defense': 55.0, 'special_attack': 65.0, 'special_defense': 55.0, 'speed': 20.0}, 669: {'name': 'Lampent', 'type': 'GhostFire', 'hp': 60.0, 'attack': 40.0, 'defense': 60.0, 'special_attack': 95.0, 'special_defense': 60.0, 'speed': 55.0}, 670: {'name': 'Chandelure', 'type': 'GhostFire', 'hp': 60.0, 'attack': 55.0, 'defense': 90.0, 'special_attack': 145.0, 'special_defense': 90.0, 'speed': 80.0}, 671: {'name': 'Axew', 'type': 'Dragon', 'hp': 46.0, 'attack': 87.0, 'defense': 60.0, 'special_attack': 30.0, 'special_defense': 40.0, 'speed': 57.0}, 672: {'name': 'Fraxure', 'type': 'Dragon', 'hp': 66.0, 'attack': 117.0, 'defense': 70.0, 'special_attack': 40.0, 'special_defense': 50.0, 'speed': 67.0}, 673: {'name': 'Haxorus', 'type': 'Dragon', 'hp': 76.0, 'attack': 147.0, 'defense': 90.0, 'special_attack': 60.0, 'special_defense': 70.0, 'speed': 97.0}, 674: {'name': 'Cubchoo', 'type': 'Ice', 'hp': 55.0, 'attack': 70.0, 'defense': 40.0, 'special_attack': 60.0, 'special_defense': 40.0, 'speed': 40.0}, 675: {'name': 'Beartic', 'type': 'Ice', 'hp': 95.0, 'attack': 110.0, 'defense': 80.0, 'special_attack': 70.0, 'special_defense': 80.0, 'speed': 50.0}, 676: {'name': 'Cryogonal', 'type': 'Ice', 'hp': 70.0, 'attack': 50.0, 'defense': 30.0, 'special_attack': 95.0, 'special_defense': 135.0, 'speed': 105.0}, 677: {'name': 'Shelmet', 'type': 'Bug', 'hp': 50.0, 'attack': 40.0, 'defense': 85.0, 'special_attack': 40.0, 'special_defense': 65.0, 'speed': 25.0}, 678: {'name': 'Accelgor', 'type': 'Bug', 'hp': 80.0, 'attack': 70.0, 'defense': 40.0, 'special_attack': 100.0, 'special_defense': 60.0, 'speed': 145.0}, 679: {'name': 'Stunfisk', 'type': 'GroundElectric', 'hp': 109.0, 'attack': 66.0, 'defense': 84.0, 'special_attack': 81.0, 'special_defense': 99.0, 'speed': 32.0}, 680: {'name': 'Mienfoo', 'type': 'Fighting', 'hp': 45.0, 'attack': 85.0, 'defense': 50.0, 'special_attack': 55.0, 'special_defense': 50.0, 'speed': 65.0}, 681: {'name': 'Mienshao', 'type': 'Fighting', 'hp': 65.0, 'attack': 125.0, 'defense': 60.0, 'special_attack': 95.0, 'special_defense': 60.0, 'speed': 105.0}, 682: {'name': 'Druddigon', 'type': 'Dragon', 'hp': 77.0, 'attack': 120.0, 'defense': 90.0, 'special_attack': 60.0, 'special_defense': 90.0, 'speed': 48.0}, 683: {'name': 'Golett', 'type': 'GroundGhost', 'hp': 59.0, 'attack': 74.0, 'defense': 50.0, 'special_attack': 35.0, 'special_defense': 50.0, 'speed': 35.0}, 684: {'name': 'Golurk', 'type': 'GroundGhost', 'hp': 89.0, 'attack': 124.0, 'defense': 80.0, 'special_attack': 55.0, 'special_defense': 80.0, 'speed': 55.0}, 685: {'name': 'Pawniard', 'type': 'DarkSteel', 'hp': 45.0, 'attack': 85.0, 'defense': 70.0, 'special_attack': 40.0, 'special_defense': 40.0, 'speed': 60.0}, 686: {'name': 'Bisharp', 'type': 'DarkSteel', 'hp': 65.0, 'attack': 125.0, 'defense': 100.0, 'special_attack': 60.0, 'special_defense': 70.0, 'speed': 70.0}, 687: {'name': 'Bouffalant', 'type': 'Normal', 'hp': 95.0, 'attack': 110.0, 'defense': 95.0, 'special_attack': 40.0, 'special_defense': 95.0, 'speed': 55.0}, 688: {'name': 'Rufflet', 'type': 'NormalFlying', 'hp': 70.0, 'attack': 83.0, 'defense': 50.0, 'special_attack': 37.0, 'special_defense': 50.0, 'speed': 60.0}, 689: {'name': 'Braviary', 'type': 'NormalFlying', 'hp': 100.0, 'attack': 123.0, 'defense': 75.0, 'special_attack': 57.0, 'special_defense': 75.0, 'speed': 80.0}, 690: {'name': 'Vullaby', 'type': 'DarkFlying', 'hp': 70.0, 'attack': 55.0, 'defense': 75.0, 'special_attack': 45.0, 'special_defense': 65.0, 'speed': 60.0}, 691: {'name': 'Mandibuzz', 'type': 'DarkFlying', 'hp': 110.0, 'attack': 65.0, 'defense': 105.0, 'special_attack': 55.0, 'special_defense': 95.0, 'speed': 80.0}, 692: {'name': 'Heatmor', 'type': 'Fire', 'hp': 85.0, 'attack': 97.0, 'defense': 66.0, 'special_attack': 105.0, 'special_defense': 66.0, 'speed': 65.0}, 693: {'name': 'Durant', 'type': 'BugSteel', 'hp': 58.0, 'attack': 109.0, 'defense': 112.0, 'special_attack': 48.0, 'special_defense': 48.0, 'speed': 109.0}, 694: {'name': 'Deino', 'type': 'DarkDragon', 'hp': 52.0, 'attack': 65.0, 'defense': 50.0, 'special_attack': 45.0, 'special_defense': 50.0, 'speed': 38.0}, 695: {'name': 'Zweilous', 'type': 'DarkDragon', 'hp': 72.0, 'attack': 85.0, 'defense': 70.0, 'special_attack': 65.0, 'special_defense': 70.0, 'speed': 58.0}, 696: {'name': 'Hydreigon', 'type': 'DarkDragon', 'hp': 92.0, 'attack': 105.0, 'defense': 90.0, 'special_attack': 125.0, 'special_defense': 90.0, 'speed': 98.0}, 697: {'name': 'Larvesta', 'type': 'BugFire', 'hp': 55.0, 'attack': 85.0, 'defense': 55.0, 'special_attack': 50.0, 'special_defense': 55.0, 'speed': 60.0}, 698: {'name': 'Volcarona', 'type': 'BugFire', 'hp': 85.0, 'attack': 60.0, 'defense': 65.0, 'special_attack': 135.0, 'special_defense': 105.0, 'speed': 100.0}, 699: {'name': 'Cobalion', 'type': 'SteelFighting', 'hp': 91.0, 'attack': 90.0, 'defense': 129.0, 'special_attack': 90.0, 'special_defense': 72.0, 'speed': 108.0}, 700: {'name': 'Terrakion', 'type': 'RockFighting', 'hp': 91.0, 'attack': 129.0, 'defense': 90.0, 'special_attack': 72.0, 'special_defense': 90.0, 'speed': 108.0}, 701: {'name': 'Virizion', 'type': 'GrassFighting', 'hp': 91.0, 'attack': 90.0, 'defense': 72.0, 'special_attack': 90.0, 'special_defense': 129.0, 'speed': 108.0}, 702: {'name': 'TornadusIncarnate Forme', 'type': 'Flying', 'hp': 79.0, 'attack': 115.0, 'defense': 70.0, 'special_attack': 125.0, 'special_defense': 80.0, 'speed': 111.0}, 703: {'name': 'TornadusTherian Forme', 'type': 'Flying', 'hp': 79.0, 'attack': 100.0, 'defense': 80.0, 'special_attack': 110.0, 'special_defense': 90.0, 'speed': 121.0}, 704: {'name': 'ThundurusIncarnate Forme', 'type': 'ElectricFlying', 'hp': 79.0, 'attack': 115.0, 'defense': 70.0, 'special_attack': 125.0, 'special_defense': 80.0, 'speed': 111.0}, 705: {'name': 'ThundurusTherian Forme', 'type': 'ElectricFlying', 'hp': 79.0, 'attack': 105.0, 'defense': 70.0, 'special_attack': 145.0, 'special_defense': 80.0, 'speed': 101.0}, 706: {'name': 'Reshiram', 'type': 'DragonFire', 'hp': 100.0, 'attack': 120.0, 'defense': 100.0, 'special_attack': 150.0, 'special_defense': 120.0, 'speed': 90.0}, 707: {'name': 'Zekrom', 'type': 'DragonElectric', 'hp': 100.0, 'attack': 150.0, 'defense': 120.0, 'special_attack': 120.0, 'special_defense': 100.0, 'speed': 90.0}, 708: {'name': 'LandorusIncarnate Forme', 'type': 'GroundFlying', 'hp': 89.0, 'attack': 125.0, 'defense': 90.0, 'special_attack': 115.0, 'special_defense': 80.0, 'speed': 101.0}, 709: {'name': 'LandorusTherian Forme', 'type': 'GroundFlying', 'hp': 89.0, 'attack': 145.0, 'defense': 90.0, 'special_attack': 105.0, 'special_defense': 80.0, 'speed': 91.0}, 710: {'name': 'Kyurem', 'type': 'DragonIce', 'hp': 125.0, 'attack': 130.0, 'defense': 90.0, 'special_attack': 130.0, 'special_defense': 90.0, 'speed': 95.0}, 711: {'name': 'KyuremBlack Kyurem', 'type': 'DragonIce', 'hp': 125.0, 'attack': 170.0, 'defense': 100.0, 'special_attack': 120.0, 'special_defense': 90.0, 'speed': 95.0}, 712: {'name': 'KyuremWhite Kyurem', 'type': 'DragonIce', 'hp': 125.0, 'attack': 120.0, 'defense': 90.0, 'special_attack': 170.0, 'special_defense': 100.0, 'speed': 95.0}, 713: {'name': 'KeldeoOrdinary Forme', 'type': 'WaterFighting', 'hp': 91.0, 'attack': 72.0, 'defense': 90.0, 'special_attack': 129.0, 'special_defense': 90.0, 'speed': 108.0}, 714: {'name': 'KeldeoResolute Forme', 'type': 'WaterFighting', 'hp': 91.0, 'attack': 72.0, 'defense': 90.0, 'special_attack': 129.0, 'special_defense': 90.0, 'speed': 108.0}, 715: {'name': 'MeloettaAria Forme', 'type': 'NormalPsychic', 'hp': 100.0, 'attack': 77.0, 'defense': 77.0, 'special_attack': 128.0, 'special_defense': 128.0, 'speed': 90.0}, 716: {'name': 'MeloettaPirouette Forme', 'type': 'NormalFighting', 'hp': 100.0, 'attack': 128.0, 'defense': 90.0, 'special_attack': 77.0, 'special_defense': 77.0, 'speed': 128.0}, 717: {'name': 'Genesect', 'type': 'BugSteel', 'hp': 71.0, 'attack': 120.0, 'defense': 95.0, 'special_attack': 120.0, 'special_defense': 95.0, 'speed': 99.0}, 718: {'name': 'Chespin', 'type': 'Grass', 'hp': 56.0, 'attack': 61.0, 'defense': 65.0, 'special_attack': 48.0, 'special_defense': 45.0, 'speed': 38.0}, 719: {'name': 'Quilladin', 'type': 'Grass', 'hp': 61.0, 'attack': 78.0, 'defense': 95.0, 'special_attack': 56.0, 'special_defense': 58.0, 'speed': 57.0}, 720: {'name': 'Chesnaught', 'type': 'GrassFighting', 'hp': 88.0, 'attack': 107.0, 'defense': 122.0, 'special_attack': 74.0, 'special_defense': 75.0, 'speed': 64.0}, 721: {'name': 'Fennekin', 'type': 'Fire', 'hp': 40.0, 'attack': 45.0, 'defense': 40.0, 'special_attack': 62.0, 'special_defense': 60.0, 'speed': 60.0}, 722: {'name': 'Braixen', 'type': 'Fire', 'hp': 59.0, 'attack': 59.0, 'defense': 58.0, 'special_attack': 90.0, 'special_defense': 70.0, 'speed': 73.0}, 723: {'name': 'Delphox', 'type': 'FirePsychic', 'hp': 75.0, 'attack': 69.0, 'defense': 72.0, 'special_attack': 114.0, 'special_defense': 100.0, 'speed': 104.0}, 724: {'name': 'Froakie', 'type': 'Water', 'hp': 41.0, 'attack': 56.0, 'defense': 40.0, 'special_attack': 62.0, 'special_defense': 44.0, 'speed': 71.0}, 725: {'name': 'Frogadier', 'type': 'Water', 'hp': 54.0, 'attack': 63.0, 'defense': 52.0, 'special_attack': 83.0, 'special_defense': 56.0, 'speed': 97.0}, 726: {'name': 'Greninja', 'type': 'WaterDark', 'hp': 72.0, 'attack': 95.0, 'defense': 67.0, 'special_attack': 103.0, 'special_defense': 71.0, 'speed': 122.0}, 727: {'name': 'Bunnelby', 'type': 'Normal', 'hp': 38.0, 'attack': 36.0, 'defense': 38.0, 'special_attack': 32.0, 'special_defense': 36.0, 'speed': 57.0}, 728: {'name': 'Diggersby', 'type': 'NormalGround', 'hp': 85.0, 'attack': 56.0, 'defense': 77.0, 'special_attack': 50.0, 'special_defense': 77.0, 'speed': 78.0}, 729: {'name': 'Fletchling', 'type': 'NormalFlying', 'hp': 45.0, 'attack': 50.0, 'defense': 43.0, 'special_attack': 40.0, 'special_defense': 38.0, 'speed': 62.0}, 730: {'name': 'Fletchinder', 'type': 'FireFlying', 'hp': 62.0, 'attack': 73.0, 'defense': 55.0, 'special_attack': 56.0, 'special_defense': 52.0, 'speed': 84.0}, 731: {'name': 'Talonflame', 'type': 'FireFlying', 'hp': 78.0, 'attack': 81.0, 'defense': 71.0, 'special_attack': 74.0, 'special_defense': 69.0, 'speed': 126.0}, 732: {'name': 'Scatterbug', 'type': 'Bug', 'hp': 38.0, 'attack': 35.0, 'defense': 40.0, 'special_attack': 27.0, 'special_defense': 25.0, 'speed': 35.0}, 733: {'name': 'Spewpa', 'type': 'Bug', 'hp': 45.0, 'attack': 22.0, 'defense': 60.0, 'special_attack': 27.0, 'special_defense': 30.0, 'speed': 29.0}, 734: {'name': 'Vivillon', 'type': 'BugFlying', 'hp': 80.0, 'attack': 52.0, 'defense': 50.0, 'special_attack': 90.0, 'special_defense': 50.0, 'speed': 89.0}, 735: {'name': 'Litleo', 'type': 'FireNormal', 'hp': 62.0, 'attack': 50.0, 'defense': 58.0, 'special_attack': 73.0, 'special_defense': 54.0, 'speed': 72.0}, 736: {'name': 'Pyroar', 'type': 'FireNormal', 'hp': 86.0, 'attack': 68.0, 'defense': 72.0, 'special_attack': 109.0, 'special_defense': 66.0, 'speed': 106.0}, 737: {'name': 'Flabébé', 'type': 'Fairy', 'hp': 44.0, 'attack': 38.0, 'defense': 39.0, 'special_attack': 61.0, 'special_defense': 79.0, 'speed': 42.0}, 738: {'name': 'Floette', 'type': 'Fairy', 'hp': 54.0, 'attack': 45.0, 'defense': 47.0, 'special_attack': 75.0, 'special_defense': 98.0, 'speed': 52.0}, 739: {'name': 'Florges', 'type': 'Fairy', 'hp': 78.0, 'attack': 65.0, 'defense': 68.0, 'special_attack': 112.0, 'special_defense': 154.0, 'speed': 75.0}, 740: {'name': 'Skiddo', 'type': 'Grass', 'hp': 66.0, 'attack': 65.0, 'defense': 48.0, 'special_attack': 62.0, 'special_defense': 57.0, 'speed': 52.0}, 741: {'name': 'Gogoat', 'type': 'Grass', 'hp': 123.0, 'attack': 100.0, 'defense': 62.0, 'special_attack': 97.0, 'special_defense': 81.0, 'speed': 68.0}, 742: {'name': 'Pancham', 'type': 'Fighting', 'hp': 67.0, 'attack': 82.0, 'defense': 62.0, 'special_attack': 46.0, 'special_defense': 48.0, 'speed': 43.0}, 743: {'name': 'Pangoro', 'type': 'FightingDark', 'hp': 95.0, 'attack': 124.0, 'defense': 78.0, 'special_attack': 69.0, 'special_defense': 71.0, 'speed': 58.0}, 744: {'name': 'Furfrou', 'type': 'Normal', 'hp': 75.0, 'attack': 80.0, 'defense': 60.0, 'special_attack': 65.0, 'special_defense': 90.0, 'speed': 102.0}, 745: {'name': 'Espurr', 'type': 'Psychic', 'hp': 62.0, 'attack': 48.0, 'defense': 54.0, 'special_attack': 63.0, 'special_defense': 60.0, 'speed': 68.0}, 746: {'name': 'MeowsticMale', 'type': 'Psychic', 'hp': 74.0, 'attack': 48.0, 'defense': 76.0, 'special_attack': 83.0, 'special_defense': 81.0, 'speed': 104.0}, 747: {'name': 'MeowsticFemale', 'type': 'Psychic', 'hp': 74.0, 'attack': 48.0, 'defense': 76.0, 'special_attack': 83.0, 'special_defense': 81.0, 'speed': 104.0}, 748: {'name': 'Honedge', 'type': 'SteelGhost', 'hp': 45.0, 'attack': 80.0, 'defense': 100.0, 'special_attack': 35.0, 'special_defense': 37.0, 'speed': 28.0}, 749: {'name': 'Doublade', 'type': 'SteelGhost', 'hp': 59.0, 'attack': 110.0, 'defense': 150.0, 'special_attack': 45.0, 'special_defense': 49.0, 'speed': 35.0}, 750: {'name': 'AegislashBlade Forme', 'type': 'SteelGhost', 'hp': 60.0, 'attack': 150.0, 'defense': 50.0, 'special_attack': 150.0, 'special_defense': 50.0, 'speed': 60.0}, 751: {'name': 'AegislashShield Forme', 'type': 'SteelGhost', 'hp': 60.0, 'attack': 50.0, 'defense': 150.0, 'special_attack': 50.0, 'special_defense': 150.0, 'speed': 60.0}, 752: {'name': 'Spritzee', 'type': 'Fairy', 'hp': 78.0, 'attack': 52.0, 'defense': 60.0, 'special_attack': 63.0, 'special_defense': 65.0, 'speed': 23.0}, 753: {'name': 'Aromatisse', 'type': 'Fairy', 'hp': 101.0, 'attack': 72.0, 'defense': 72.0, 'special_attack': 99.0, 'special_defense': 89.0, 'speed': 29.0}, 754: {'name': 'Swirlix', 'type': 'Fairy', 'hp': 62.0, 'attack': 48.0, 'defense': 66.0, 'special_attack': 59.0, 'special_defense': 57.0, 'speed': 49.0}, 755: {'name': 'Slurpuff', 'type': 'Fairy', 'hp': 82.0, 'attack': 80.0, 'defense': 86.0, 'special_attack': 85.0, 'special_defense': 75.0, 'speed': 72.0}, 756: {'name': 'Inkay', 'type': 'DarkPsychic', 'hp': 53.0, 'attack': 54.0, 'defense': 53.0, 'special_attack': 37.0, 'special_defense': 46.0, 'speed': 45.0}, 757: {'name': 'Malamar', 'type': 'DarkPsychic', 'hp': 86.0, 'attack': 92.0, 'defense': 88.0, 'special_attack': 68.0, 'special_defense': 75.0, 'speed': 73.0}, 758: {'name': 'Binacle', 'type': 'RockWater', 'hp': 42.0, 'attack': 52.0, 'defense': 67.0, 'special_attack': 39.0, 'special_defense': 56.0, 'speed': 50.0}, 759: {'name': 'Barbaracle', 'type': 'RockWater', 'hp': 72.0, 'attack': 105.0, 'defense': 115.0, 'special_attack': 54.0, 'special_defense': 86.0, 'speed': 68.0}, 760: {'name': 'Skrelp', 'type': 'PoisonWater', 'hp': 50.0, 'attack': 60.0, 'defense': 60.0, 'special_attack': 60.0, 'special_defense': 60.0, 'speed': 30.0}, 761: {'name': 'Dragalge', 'type': 'PoisonDragon', 'hp': 65.0, 'attack': 75.0, 'defense': 90.0, 'special_attack': 97.0, 'special_defense': 123.0, 'speed': 44.0}, 762: {'name': 'Clauncher', 'type': 'Water', 'hp': 50.0, 'attack': 53.0, 'defense': 62.0, 'special_attack': 58.0, 'special_defense': 63.0, 'speed': 44.0}, 763: {'name': 'Clawitzer', 'type': 'Water', 'hp': 71.0, 'attack': 73.0, 'defense': 88.0, 'special_attack': 120.0, 'special_defense': 89.0, 'speed': 59.0}, 764: {'name': 'Helioptile', 'type': 'ElectricNormal', 'hp': 44.0, 'attack': 38.0, 'defense': 33.0, 'special_attack': 61.0, 'special_defense': 43.0, 'speed': 70.0}, 765: {'name': 'Heliolisk', 'type': 'ElectricNormal', 'hp': 62.0, 'attack': 55.0, 'defense': 52.0, 'special_attack': 109.0, 'special_defense': 94.0, 'speed': 109.0}, 766: {'name': 'Tyrunt', 'type': 'RockDragon', 'hp': 58.0, 'attack': 89.0, 'defense': 77.0, 'special_attack': 45.0, 'special_defense': 45.0, 'speed': 48.0}, 767: {'name': 'Tyrantrum', 'type': 'RockDragon', 'hp': 82.0, 'attack': 121.0, 'defense': 119.0, 'special_attack': 69.0, 'special_defense': 59.0, 'speed': 71.0}, 768: {'name': 'Amaura', 'type': 'RockIce', 'hp': 77.0, 'attack': 59.0, 'defense': 50.0, 'special_attack': 67.0, 'special_defense': 63.0, 'speed': 46.0}, 769: {'name': 'Aurorus', 'type': 'RockIce', 'hp': 123.0, 'attack': 77.0, 'defense': 72.0, 'special_attack': 99.0, 'special_defense': 92.0, 'speed': 58.0}, 770: {'name': 'Sylveon', 'type': 'Fairy', 'hp': 95.0, 'attack': 65.0, 'defense': 65.0, 'special_attack': 110.0, 'special_defense': 130.0, 'speed': 60.0}, 771: {'name': 'Hawlucha', 'type': 'FightingFlying', 'hp': 78.0, 'attack': 92.0, 'defense': 75.0, 'special_attack': 74.0, 'special_defense': 63.0, 'speed': 118.0}, 772: {'name': 'Dedenne', 'type': 'ElectricFairy', 'hp': 67.0, 'attack': 58.0, 'defense': 57.0, 'special_attack': 81.0, 'special_defense': 67.0, 'speed': 101.0}, 773: {'name': 'Carbink', 'type': 'RockFairy', 'hp': 50.0, 'attack': 50.0, 'defense': 150.0, 'special_attack': 50.0, 'special_defense': 150.0, 'speed': 50.0}, 774: {'name': 'Goomy', 'type': 'Dragon', 'hp': 45.0, 'attack': 50.0, 'defense': 35.0, 'special_attack': 55.0, 'special_defense': 75.0, 'speed': 40.0}, 775: {'name': 'Sliggoo', 'type': 'Dragon', 'hp': 68.0, 'attack': 75.0, 'defense': 53.0, 'special_attack': 83.0, 'special_defense': 113.0, 'speed': 60.0}, 776: {'name': 'Goodra', 'type': 'Dragon', 'hp': 90.0, 'attack': 100.0, 'defense': 70.0, 'special_attack': 110.0, 'special_defense': 150.0, 'speed': 80.0}, 777: {'name': 'Klefki', 'type': 'SteelFairy', 'hp': 57.0, 'attack': 80.0, 'defense': 91.0, 'special_attack': 80.0, 'special_defense': 87.0, 'speed': 75.0}, 778: {'name': 'Phantump', 'type': 'GhostGrass', 'hp': 43.0, 'attack': 70.0, 'defense': 48.0, 'special_attack': 50.0, 'special_defense': 60.0, 'speed': 38.0}, 779: {'name': 'Trevenant', 'type': 'GhostGrass', 'hp': 85.0, 'attack': 110.0, 'defense': 76.0, 'special_attack': 65.0, 'special_defense': 82.0, 'speed': 56.0}, 780: {'name': 'PumpkabooAverage Size', 'type': 'GhostGrass', 'hp': 49.0, 'attack': 66.0, 'defense': 70.0, 'special_attack': 44.0, 'special_defense': 55.0, 'speed': 51.0}, 781: {'name': 'PumpkabooSmall Size', 'type': 'GhostGrass', 'hp': 44.0, 'attack': 66.0, 'defense': 70.0, 'special_attack': 44.0, 'special_defense': 55.0, 'speed': 56.0}, 782: {'name': 'PumpkabooLarge Size', 'type': 'GhostGrass', 'hp': 54.0, 'attack': 66.0, 'defense': 70.0, 'special_attack': 44.0, 'special_defense': 55.0, 'speed': 46.0}, 783: {'name': 'PumpkabooSuper Size', 'type': 'GhostGrass', 'hp': 59.0, 'attack': 66.0, 'defense': 70.0, 'special_attack': 44.0, 'special_defense': 55.0, 'speed': 41.0}, 784: {'name': 'GourgeistAverage Size', 'type': 'GhostGrass', 'hp': 65.0, 'attack': 90.0, 'defense': 122.0, 'special_attack': 58.0, 'special_defense': 75.0, 'speed': 84.0}, 785: {'name': 'GourgeistSmall Size', 'type': 'GhostGrass', 'hp': 55.0, 'attack': 85.0, 'defense': 122.0, 'special_attack': 58.0, 'special_defense': 75.0, 'speed': 99.0}, 786: {'name': 'GourgeistLarge Size', 'type': 'GhostGrass', 'hp': 75.0, 'attack': 95.0, 'defense': 122.0, 'special_attack': 58.0, 'special_defense': 75.0, 'speed': 69.0}, 787: {'name': 'GourgeistSuper Size', 'type': 'GhostGrass', 'hp': 85.0, 'attack': 100.0, 'defense': 122.0, 'special_attack': 58.0, 'special_defense': 75.0, 'speed': 54.0}, 788: {'name': 'Bergmite', 'type': 'Ice', 'hp': 55.0, 'attack': 69.0, 'defense': 85.0, 'special_attack': 32.0, 'special_defense': 35.0, 'speed': 28.0}, 789: {'name': 'Avalugg', 'type': 'Ice', 'hp': 95.0, 'attack': 117.0, 'defense': 184.0, 'special_attack': 44.0, 'special_defense': 46.0, 'speed': 28.0}, 790: {'name': 'Noibat', 'type': 'FlyingDragon', 'hp': 40.0, 'attack': 30.0, 'defense': 35.0, 'special_attack': 45.0, 'special_defense': 40.0, 'speed': 55.0}, 791: {'name': 'Noivern', 'type': 'FlyingDragon', 'hp': 85.0, 'attack': 70.0, 'defense': 80.0, 'special_attack': 97.0, 'special_defense': 80.0, 'speed': 123.0}, 792: {'name': 'Xerneas', 'type': 'Fairy', 'hp': 126.0, 'attack': 131.0, 'defense': 95.0, 'special_attack': 131.0, 'special_defense': 98.0, 'speed': 99.0}, 793: {'name': 'Yveltal', 'type': 'DarkFlying', 'hp': 126.0, 'attack': 131.0, 'defense': 95.0, 'special_attack': 131.0, 'special_defense': 98.0, 'speed': 99.0}, 794: {'name': 'Zygarde50% Forme', 'type': 'DragonGround', 'hp': 108.0, 'attack': 100.0, 'defense': 121.0, 'special_attack': 81.0, 'special_defense': 95.0, 'speed': 95.0}, 795: {'name': 'Diancie', 'type': 'RockFairy', 'hp': 50.0, 'attack': 100.0, 'defense': 150.0, 'special_attack': 100.0, 'special_defense': 150.0, 'speed': 50.0}, 796: {'name': 'DiancieMega Diancie', 'type': 'RockFairy', 'hp': 50.0, 'attack': 160.0, 'defense': 110.0, 'special_attack': 160.0, 'special_defense': 110.0, 'speed': 110.0}, 797: {'name': 'HoopaHoopa Confined', 'type': 'PsychicGhost', 'hp': 80.0, 'attack': 110.0, 'defense': 60.0, 'special_attack': 150.0, 'special_defense': 130.0, 'speed': 70.0}, 798: {'name': 'HoopaHoopa Unbound', 'type': 'PsychicDark', 'hp': 80.0, 'attack': 160.0, 'defense': 60.0, 'special_attack': 170.0, 'special_defense': 130.0, 'speed': 80.0}, 799: {'name': 'Volcanion', 'type': 'FireWater', 'hp': 80.0, 'attack': 110.0, 'defense': 120.0, 'special_attack': 130.0, 'special_defense': 90.0, 'speed': 70.0}}\n"
     ]
    }
   ],
   "source": [
    "def generate_pokedex(pokedex): \n",
    "    \n",
    "    # A function that builds a pokedex dictionary given a list input of the structure of \n",
    "    # the final pokedex above \n",
    "    \n",
    "    generated_pokedex = {}\n",
    "    \n",
    "    #  1 and -1 are being used for the indexes below as item 1 is headings and the last item\n",
    "    # is a missing value denoted by -1 as per the parsing above. \n",
    "    \n",
    "    for x in enumerate(pokedex[1:-1]):\n",
    "        stats_deck = {}\n",
    "        stats_deck['name'] = x[1][1]\n",
    "        stats_deck['type'] = x[1][2]\n",
    "        stats_deck['hp'] = x[1][4]\n",
    "        stats_deck['attack'] = x[1][5]\n",
    "        stats_deck['defense'] = x[1][6]\n",
    "        stats_deck['special_attack'] = x[1][7]\n",
    "        stats_deck['special_defense'] = x[1][8]\n",
    "        stats_deck['speed'] = x[1][9]\n",
    "        \n",
    "        generated_pokedex[x[0]] = stats_deck\n",
    "        \n",
    "    return generated_pokedex\n",
    "\n",
    "# Check the pokedex is being constructed accurately \n",
    "full_pokedex = generate_pokedex(final_pokedex)\n",
    "print(full_pokedex)\n",
    "\n",
    "        \n",
    "    "
   ]
  },
  {
   "cell_type": "markdown",
   "metadata": {},
   "source": [
    "## 10. Write a function to generate a \"filtered\" pokedex\n",
    "---\n",
    "Your function should:\n",
    "1. Take the parsed pokedex information you created above as an argument.\n",
    "1. Take a dictionary as a parameter with keys matching the features of the Pokedex, filtering by exact match for string type values, and/or filter continuous variables specified by a value that is greater than or equal to the value of the corresponding dictionary key parameter.\n",
    "1. Return multiple elements from the Pokedex\n",
    "\n",
    "Example:\n",
    "\n",
    "```python\n",
    "\n",
    "# Only filter based on parameters passed\n",
    "filter_options = {\n",
    "    'Attack':   25,\n",
    "    'Defense':  30,\n",
    "    'Type':     'Electric'\n",
    "}\n",
    "\n",
    "# Return records with attack >= 25, defense >= 30, and type == \"Electric\"\n",
    "# Also anticipate that other paramters can also be passed such as \"SpecialAttack\", \"Speed\", etc.\n",
    "filtered_pokedex(pokedex_data, filter=filter_options)\n",
    "\n",
    "# Example output:\n",
    "# [{'Attack': 30.0,\n",
    "#  'Defense': 50.0,\n",
    "#  'HP': 40.0,\n",
    "#  'Name': 'Voltorb',\n",
    "#  'SpecialAttack': 55.0,\n",
    "#  'SpecialDefense': 55.0,\n",
    "#  'Speed': 100.0,\n",
    "#  'Total': 330.0,\n",
    "#  'Type': 'Electric'},\n",
    "#  {'Attack': 30.0,\n",
    "#  'Defense': 33.0,\n",
    "#  'HP': 32.0,\n",
    "#  'Name': 'Pikachu',\n",
    "#  'SpecialAttack': 55.0,\n",
    "#  'SpecialDefense': 55.0,\n",
    "#  'Speed': 100.0,\n",
    "#  'Total': 330.0,\n",
    "#  'Type': 'Electric'},\n",
    "#  ... etc\n",
    "#  ]\n",
    "\n",
    "```\n",
    "\n"
   ]
  },
  {
   "cell_type": "code",
   "execution_count": 73,
   "metadata": {},
   "outputs": [
    {
     "name": "stdout",
     "output_type": "stream",
     "text": [
      "26\n",
      "[{'attack': 55.0,\n",
      "  'defense': 40.0,\n",
      "  'hp': 35.0,\n",
      "  'name': 'Pikachu',\n",
      "  'special_attack': 50.0,\n",
      "  'special_defense': 50.0,\n",
      "  'speed': 90.0,\n",
      "  'type': 'Electric'},\n",
      " {'attack': 90.0,\n",
      "  'defense': 55.0,\n",
      "  'hp': 60.0,\n",
      "  'name': 'Raichu',\n",
      "  'special_attack': 90.0,\n",
      "  'special_defense': 80.0,\n",
      "  'speed': 110.0,\n",
      "  'type': 'Electric'},\n",
      " {'attack': 30.0,\n",
      "  'defense': 50.0,\n",
      "  'hp': 40.0,\n",
      "  'name': 'Voltorb',\n",
      "  'special_attack': 55.0,\n",
      "  'special_defense': 55.0,\n",
      "  'speed': 100.0,\n",
      "  'type': 'Electric'},\n",
      " {'attack': 50.0,\n",
      "  'defense': 70.0,\n",
      "  'hp': 60.0,\n",
      "  'name': 'Electrode',\n",
      "  'special_attack': 80.0,\n",
      "  'special_defense': 80.0,\n",
      "  'speed': 140.0,\n",
      "  'type': 'Electric'},\n",
      " {'attack': 83.0,\n",
      "  'defense': 57.0,\n",
      "  'hp': 65.0,\n",
      "  'name': 'Electabuzz',\n",
      "  'special_attack': 95.0,\n",
      "  'special_defense': 85.0,\n",
      "  'speed': 105.0,\n",
      "  'type': 'Electric'},\n",
      " {'attack': 65.0,\n",
      "  'defense': 60.0,\n",
      "  'hp': 65.0,\n",
      "  'name': 'Jolteon',\n",
      "  'special_attack': 110.0,\n",
      "  'special_defense': 95.0,\n",
      "  'speed': 130.0,\n",
      "  'type': 'Electric'},\n",
      " {'attack': 40.0,\n",
      "  'defense': 40.0,\n",
      "  'hp': 55.0,\n",
      "  'name': 'Mareep',\n",
      "  'special_attack': 65.0,\n",
      "  'special_defense': 45.0,\n",
      "  'speed': 35.0,\n",
      "  'type': 'Electric'},\n",
      " {'attack': 55.0,\n",
      "  'defense': 55.0,\n",
      "  'hp': 70.0,\n",
      "  'name': 'Flaaffy',\n",
      "  'special_attack': 80.0,\n",
      "  'special_defense': 60.0,\n",
      "  'speed': 45.0,\n",
      "  'type': 'Electric'},\n",
      " {'attack': 75.0,\n",
      "  'defense': 85.0,\n",
      "  'hp': 90.0,\n",
      "  'name': 'Ampharos',\n",
      "  'special_attack': 115.0,\n",
      "  'special_defense': 90.0,\n",
      "  'speed': 55.0,\n",
      "  'type': 'Electric'},\n",
      " {'attack': 63.0,\n",
      "  'defense': 37.0,\n",
      "  'hp': 45.0,\n",
      "  'name': 'Elekid',\n",
      "  'special_attack': 65.0,\n",
      "  'special_defense': 55.0,\n",
      "  'speed': 95.0,\n",
      "  'type': 'Electric'},\n",
      " {'attack': 85.0,\n",
      "  'defense': 75.0,\n",
      "  'hp': 90.0,\n",
      "  'name': 'Raikou',\n",
      "  'special_attack': 115.0,\n",
      "  'special_defense': 100.0,\n",
      "  'speed': 115.0,\n",
      "  'type': 'Electric'},\n",
      " {'attack': 45.0,\n",
      "  'defense': 40.0,\n",
      "  'hp': 40.0,\n",
      "  'name': 'Electrike',\n",
      "  'special_attack': 65.0,\n",
      "  'special_defense': 40.0,\n",
      "  'speed': 65.0,\n",
      "  'type': 'Electric'},\n",
      " {'attack': 75.0,\n",
      "  'defense': 60.0,\n",
      "  'hp': 70.0,\n",
      "  'name': 'Manectric',\n",
      "  'special_attack': 105.0,\n",
      "  'special_defense': 60.0,\n",
      "  'speed': 105.0,\n",
      "  'type': 'Electric'},\n",
      " {'attack': 75.0,\n",
      "  'defense': 80.0,\n",
      "  'hp': 70.0,\n",
      "  'name': 'ManectricMega Manectric',\n",
      "  'special_attack': 135.0,\n",
      "  'special_defense': 80.0,\n",
      "  'speed': 135.0,\n",
      "  'type': 'Electric'},\n",
      " {'attack': 50.0,\n",
      "  'defense': 40.0,\n",
      "  'hp': 60.0,\n",
      "  'name': 'Plusle',\n",
      "  'special_attack': 85.0,\n",
      "  'special_defense': 75.0,\n",
      "  'speed': 95.0,\n",
      "  'type': 'Electric'},\n",
      " {'attack': 40.0,\n",
      "  'defense': 50.0,\n",
      "  'hp': 60.0,\n",
      "  'name': 'Minun',\n",
      "  'special_attack': 75.0,\n",
      "  'special_defense': 85.0,\n",
      "  'speed': 95.0,\n",
      "  'type': 'Electric'},\n",
      " {'attack': 65.0,\n",
      "  'defense': 34.0,\n",
      "  'hp': 45.0,\n",
      "  'name': 'Shinx',\n",
      "  'special_attack': 40.0,\n",
      "  'special_defense': 34.0,\n",
      "  'speed': 45.0,\n",
      "  'type': 'Electric'},\n",
      " {'attack': 85.0,\n",
      "  'defense': 49.0,\n",
      "  'hp': 60.0,\n",
      "  'name': 'Luxio',\n",
      "  'special_attack': 60.0,\n",
      "  'special_defense': 49.0,\n",
      "  'speed': 60.0,\n",
      "  'type': 'Electric'},\n",
      " {'attack': 120.0,\n",
      "  'defense': 79.0,\n",
      "  'hp': 80.0,\n",
      "  'name': 'Luxray',\n",
      "  'special_attack': 95.0,\n",
      "  'special_defense': 79.0,\n",
      "  'speed': 70.0,\n",
      "  'type': 'Electric'},\n",
      " {'attack': 45.0,\n",
      "  'defense': 70.0,\n",
      "  'hp': 60.0,\n",
      "  'name': 'Pachirisu',\n",
      "  'special_attack': 45.0,\n",
      "  'special_defense': 90.0,\n",
      "  'speed': 95.0,\n",
      "  'type': 'Electric'},\n",
      " {'attack': 123.0,\n",
      "  'defense': 67.0,\n",
      "  'hp': 75.0,\n",
      "  'name': 'Electivire',\n",
      "  'special_attack': 95.0,\n",
      "  'special_defense': 85.0,\n",
      "  'speed': 95.0,\n",
      "  'type': 'Electric'},\n",
      " {'attack': 60.0,\n",
      "  'defense': 32.0,\n",
      "  'hp': 45.0,\n",
      "  'name': 'Blitzle',\n",
      "  'special_attack': 50.0,\n",
      "  'special_defense': 32.0,\n",
      "  'speed': 76.0,\n",
      "  'type': 'Electric'},\n",
      " {'attack': 100.0,\n",
      "  'defense': 63.0,\n",
      "  'hp': 75.0,\n",
      "  'name': 'Zebstrika',\n",
      "  'special_attack': 80.0,\n",
      "  'special_defense': 63.0,\n",
      "  'speed': 116.0,\n",
      "  'type': 'Electric'},\n",
      " {'attack': 55.0,\n",
      "  'defense': 40.0,\n",
      "  'hp': 35.0,\n",
      "  'name': 'Tynamo',\n",
      "  'special_attack': 45.0,\n",
      "  'special_defense': 40.0,\n",
      "  'speed': 60.0,\n",
      "  'type': 'Electric'},\n",
      " {'attack': 85.0,\n",
      "  'defense': 70.0,\n",
      "  'hp': 65.0,\n",
      "  'name': 'Eelektrik',\n",
      "  'special_attack': 75.0,\n",
      "  'special_defense': 70.0,\n",
      "  'speed': 40.0,\n",
      "  'type': 'Electric'},\n",
      " {'attack': 115.0,\n",
      "  'defense': 80.0,\n",
      "  'hp': 85.0,\n",
      "  'name': 'Eelektross',\n",
      "  'special_attack': 105.0,\n",
      "  'special_defense': 80.0,\n",
      "  'speed': 50.0,\n",
      "  'type': 'Electric'}]\n"
     ]
    }
   ],
   "source": [
    "def filtered_pokedex(pokedex, filter_options):\n",
    "    \n",
    "    # A function that taskes a dictionary of filter_options in the strucutre of the full pokedex\n",
    "    # and returns pokemon that match the options. \n",
    "    \n",
    "    filtered_output = []\n",
    "    for j in range(800):\n",
    "        counter = 0 \n",
    "        for i in filter_options:\n",
    "            if (type(filter_options[i]) == str and full_pokedex[j][i] == filter_options[i]) or\\\n",
    "            (type(filter_options[i]) == int and int(full_pokedex[j][i]) >= filter_options[i]):\n",
    "                counter += 1\n",
    "                if counter == len(filter_options):\n",
    "                    filtered_output.append(full_pokedex[j])\n",
    "            else:\n",
    "                break\n",
    "            \n",
    "    return filtered_output\n",
    " \n",
    "# Test parameters\n",
    "filter_options = {\n",
    "    'attack':   25,\n",
    "    'defense':  30,\n",
    "    'type':     'Electric'}\n",
    "\n",
    "\n",
    "    \n",
    "x = filtered_pokedex(full_pokedex, filter_options)\n",
    "print(len(x))\n",
    "pprint(x)\n",
    "    \n",
    "    \n",
    "    \n",
    "\n"
   ]
  },
  {
   "cell_type": "markdown",
   "metadata": {
    "collapsed": true
   },
   "source": [
    "\n",
    "## 11. Descriptive statistics on the prototype pokedex\n",
    "\n",
    "### 11.1\n",
    "\n",
    "What is the population mean and standard deviation of the \"Total\" attribute for all characters in the Pokedex?\n",
    "\n"
   ]
  },
  {
   "cell_type": "code",
   "execution_count": 74,
   "metadata": {},
   "outputs": [
    {
     "name": "stdout",
     "output_type": "stream",
     "text": [
      "The population mean is 435.1\n",
      "The population standard deviation is 119.9\n"
     ]
    }
   ],
   "source": [
    "#Finding the population mean and standard deviation for the total attribute\n",
    "# N.B: Total has length -2 to disclude row 1(which is the headings) and the last row which is a -1 entry \n",
    "\n",
    "sum_values = 0\n",
    "sum_squares = 0 \n",
    "total = len(final_pokedex)-2\n",
    "\n",
    "for x in final_pokedex[1:-1]:\n",
    "    sum_values += x[3]\n",
    "    sum_squares += x[3]**2\n",
    "\n",
    "mean = sum_values / total\n",
    "rounded_mean = round(mean,2)\n",
    "print('The population mean is', rounded_mean)\n",
    "\n",
    "standard_dev = ((sum_squares / total)-(mean)**2)**0.5\n",
    "rounded_standard_dev = round(standard_dev,1)\n",
    "print('The population standard deviation is', rounded_standard_dev)\n"
   ]
  },
  {
   "cell_type": "markdown",
   "metadata": {},
   "source": [
    "### 11.2\n",
    "\n",
    "The game is no fun if the characters are wildly unbalanced! Are any characters \"overpowered\", which we'll define as having a \"Total\" more than three standard deviations from the population mean?"
   ]
  },
  {
   "cell_type": "code",
   "execution_count": 75,
   "metadata": {},
   "outputs": [],
   "source": [
    "# Check for outliers in power \n",
    "# Disclude headings and -1 entry \n",
    "\n",
    "for x in final_pokedex[1:-1]:\n",
    "    power = x[3]\n",
    "    if power > 3*standard_dev + mean:\n",
    "        pokemon_name = x[1]\n",
    "        print('Pokemon {} is overpowered with a power of {}'.format(pokemon_name, x[3]))\n",
    "        \n",
    "# There are no over-powered pokemon\n",
    "\n",
    "\n",
    "        "
   ]
  },
  {
   "cell_type": "markdown",
   "metadata": {},
   "source": [
    "## 12. Calibrate the frequency of Pokemon\n",
    "\n",
    "The design team wants you to make the powerful Pokemon rare, and the weaklings more common. How would you set the probability $p_i$ of finding Pokemon *i* each time a player visits a gym?\n",
    "\n",
    "Write a function that takes in a Pokedex number and returns a value $p_i$ for that character.\n",
    "\n",
    "Hint: there are many ways you could do this. What do _you_ think makes sense? Start with simplifying assumptions: for example, you could assume that the probabilities of encountering any two Pokemon on one visit to a gym are independent of each other."
   ]
  },
  {
   "cell_type": "markdown",
   "metadata": {},
   "source": [
    "Description of model: \n",
    "\n",
    "The total power values for the pokemon are bounded between 180 and 780. In order to decide on probability values for each pokemon I have broken the data range into 10 equal parts of 60. \n",
    "\n",
    "I have then constructed a bar chart (hist) with an x-axis broken into these groupings. The last range, from 720 to 780 will have the lowest probability of 'x'. The next bar of range 660 to 720 will have a weighting of '2x' etc. so that the first range, 180 to 240, will have a probabiity of 10x. This ensures that low powered pokemon are relativley common compared to high powered pokemon. \n",
    "\n",
    "Given that the sum of the areas under each bar sums to 1 for a probability distribution we can calculate a suitable probability for each bar. The probability of finding any one pokemon is the area of the bar within which the power value lies. \n",
    "\n",
    "This model assumes that finding pokemon at gyms is independent (from one pokemon to the next). \n",
    "\n",
    "Although the individual proabilites of finding any one given pokemon are small, the combined probability of finding any of the pokemon at each gym is close to 1. This means each player is almost certain to find at least one pokemon type at each gym, encouraging players to continue visiting gyms. "
   ]
  },
  {
   "cell_type": "code",
   "execution_count": 76,
   "metadata": {},
   "outputs": [
    {
     "name": "stdout",
     "output_type": "stream",
     "text": [
      "The probability of finding pokemon Charmander is 0.00273\n",
      "The probability of finding pokemon Haunter is 0.00242\n",
      "The probability of finding pokemon Accelgor is 0.00242\n",
      "The probability of finding pokemon Glameow is 0.00303\n",
      "The probability of finding pokemon Gabite is 0.00242\n"
     ]
    }
   ],
   "source": [
    "# A function to calcualte the probabilty of finding any particular pokemon at any particular gym. \n",
    "# i = The power of the pokemon\n",
    "# x = constant of proportionality to ensure total area is 1 \n",
    "\n",
    "\n",
    "def prob_of_pokemon(pokedex_number):\n",
    "    i = full_pokedex[pokedex_number]['hp'] + full_pokedex[pokedex_number]['attack'] + full_pokedex[pokedex_number]['special_attack'] + full_pokedex[pokedex_number]['defense'] + full_pokedex[pokedex_number]['special_defense']\n",
    "    x = 1/3300\n",
    "    if 180 <= i < 240:\n",
    "        p = 10*x\n",
    "    elif 240 <= i < 300:\n",
    "        p = 9*x\n",
    "    elif 300 <= i < 360:\n",
    "        p = 8*x\n",
    "    elif 360 <= i < 420:\n",
    "        p = 7*x\n",
    "    elif 420 <= i < 480:\n",
    "        p == 6*x\n",
    "    elif 480 <= i < 540:\n",
    "        p == 5*x\n",
    "    elif 540 <= i < 600:\n",
    "        p == 4*x\n",
    "    elif 600 <= i < 660:\n",
    "        p == 3*x\n",
    "    elif 660 <= i < 720:\n",
    "        p == 2*x\n",
    "    elif 720 <= i <= 780:\n",
    "        p == x\n",
    "    return 'The probability of finding pokemon {} is {}'.format(full_pokedex[pokedex_number]['name'],round(p,5))\n",
    "\n",
    "print(prob_of_pokemon(4))\n",
    "print(prob_of_pokemon(100))\n",
    "print(prob_of_pokemon(678))\n",
    "print(prob_of_pokemon(479))\n",
    "print(prob_of_pokemon(492))"
   ]
  },
  {
   "cell_type": "markdown",
   "metadata": {},
   "source": [
    "Possible improvements to the pokemon stay code:\n",
    "Allow input for player variables such as player_name"
   ]
  }
 ],
 "metadata": {
  "anaconda-cloud": {},
  "kernelspec": {
   "display_name": "Python 3",
   "language": "python",
   "name": "python3"
  },
  "language_info": {
   "codemirror_mode": {
    "name": "ipython",
    "version": 3
   },
   "file_extension": ".py",
   "mimetype": "text/x-python",
   "name": "python",
   "nbconvert_exporter": "python",
   "pygments_lexer": "ipython3",
   "version": "3.8.8"
  },
  "toc": {
   "base_numbering": 1,
   "nav_menu": {
    "height": "159px",
    "width": "264px"
   },
   "number_sections": false,
   "sideBar": true,
   "skip_h1_title": true,
   "title_cell": "Table of Contents",
   "title_sidebar": "Contents",
   "toc_cell": true,
   "toc_position": {},
   "toc_section_display": "block",
   "toc_window_display": false
  }
 },
 "nbformat": 4,
 "nbformat_minor": 1
}
